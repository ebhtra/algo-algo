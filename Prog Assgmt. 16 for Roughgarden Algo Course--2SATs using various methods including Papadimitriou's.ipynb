{
 "cells": [
  {
   "cell_type": "markdown",
   "metadata": {},
   "source": [
    "The file format is as follows. In each instance, the number of variables and the number of clauses is the same, and this number is specified on the first line of the file. Each subsequent line specifies a clause via its two literals, with a number denoting the variable and a \"-\" sign denoting logical \"not\". For example, the second line of the first data file is \"-16808 75250\", which indicates the clause ¬x16808∨x75250."
   ]
  },
  {
   "cell_type": "code",
   "execution_count": 3,
   "metadata": {
    "collapsed": true
   },
   "outputs": [],
   "source": [
    "## Get the clauses into the notebook:\n",
    "def importClauses(fileNumber):\n",
    "    with open('Downloads/algo2_2sat' + str(fileNumber) + '.txt') as f:\n",
    "        n = int(f.readline().strip('\\n'))\n",
    "        clauses = [(int(c[0]), int(c[1])) for c in [line.strip('\\n').split() for line in f.readlines()]]\n",
    "    return n, clauses"
   ]
  },
  {
   "cell_type": "code",
   "execution_count": 4,
   "metadata": {
    "collapsed": false
   },
   "outputs": [],
   "source": [
    "n1, clauses1 = importClauses(1)"
   ]
  },
  {
   "cell_type": "code",
   "execution_count": 5,
   "metadata": {
    "collapsed": false
   },
   "outputs": [
    {
     "data": {
      "text/plain": [
       "100000"
      ]
     },
     "execution_count": 5,
     "metadata": {},
     "output_type": "execute_result"
    }
   ],
   "source": [
    "n1"
   ]
  },
  {
   "cell_type": "code",
   "execution_count": 6,
   "metadata": {
    "collapsed": false
   },
   "outputs": [
    {
     "data": {
      "text/plain": [
       "(-80980, -79150)"
      ]
     },
     "execution_count": 6,
     "metadata": {},
     "output_type": "execute_result"
    }
   ],
   "source": [
    "clauses1[12]"
   ]
  },
  {
   "cell_type": "code",
   "execution_count": 7,
   "metadata": {
    "collapsed": false
   },
   "outputs": [
    {
     "data": {
      "text/plain": [
       "100000"
      ]
     },
     "execution_count": 7,
     "metadata": {},
     "output_type": "execute_result"
    }
   ],
   "source": [
    "len(clauses1)"
   ]
  },
  {
   "cell_type": "code",
   "execution_count": 8,
   "metadata": {
    "collapsed": true
   },
   "outputs": [],
   "source": [
    "lits = []\n",
    "for c in clauses1:\n",
    "    lits.append(abs(c[0]))\n",
    "    lits.append(abs(c[1]))"
   ]
  },
  {
   "cell_type": "code",
   "execution_count": 9,
   "metadata": {
    "collapsed": false
   },
   "outputs": [
    {
     "data": {
      "text/plain": [
       "200000"
      ]
     },
     "execution_count": 9,
     "metadata": {},
     "output_type": "execute_result"
    }
   ],
   "source": [
    "len(lits)"
   ]
  },
  {
   "cell_type": "code",
   "execution_count": 10,
   "metadata": {
    "collapsed": false
   },
   "outputs": [
    {
     "name": "stdout",
     "output_type": "stream",
     "text": [
      "100000 1\n"
     ]
    }
   ],
   "source": [
    "print(max(lits), min(lits))  ## So variables are numbered from 1 to n"
   ]
  },
  {
   "cell_type": "markdown",
   "metadata": {},
   "source": [
    "## First try a quick Papadimitriou on the smallest problem, to see how long it takes"
   ]
  },
  {
   "cell_type": "code",
   "execution_count": 174,
   "metadata": {
    "collapsed": false
   },
   "outputs": [],
   "source": [
    "def papa(clauseList):\n",
    "    \"\"\"\n",
    "    Assuming an input of a list of clause tuples, with labels from 1 to n consecutive, and minus signs for negation\n",
    "    \"\"\"\n",
    "    import random   \n",
    "    \n",
    "    n = len(clauseList)\n",
    "    ## Initialize all positive variables to False and negative variables to True, and pad with a 0 up front for 1-labeling\n",
    "    truths = [False for _ in range(n+1)] + [True for _ in range(n)] \n",
    "    ## Remove clauses that can be automatically and permanently satisfied, to speed things up\n",
    "    freebies = sat(clauseList)\n",
    "    notFree = []\n",
    "    for c in clauseList:\n",
    "        if c[0] not in freebies and c[1] not in freebies:\n",
    "            notFree.append(c)\n",
    "    m = len(notFree)\n",
    "    print(\"number of not free clauses: \" + str(m))\n",
    "    for _ in range(int(log2(m))):   ## how many times to try the main routine before giving up\n",
    "        for _ in range(2*m**2):   ## note: 200 billion, even for the smallest problem here, unless freebies are optimized\n",
    "            u = unsat(notFree, m, truths)\n",
    "            if u == -1:   ## if all clauses are satisfied, return True\n",
    "                return True\n",
    "            var = random.choice(notFree[u])  ## pick a variable from the unsat clause to flip\n",
    "            truths[var] = not truths[var]\n",
    "            truths[-var] = not truths[-var]\n",
    "            \n",
    "    return False"
   ]
  },
  {
   "cell_type": "code",
   "execution_count": 90,
   "metadata": {
    "collapsed": true
   },
   "outputs": [],
   "source": [
    "def unsat(clauses, numclauses, truths):\n",
    "    ## pick a random starting point\n",
    "    r = randint(0, numclauses-1)\n",
    "    ## first part of the list to test\n",
    "    for i in range(r, numclauses):\n",
    "        if truths[clauses[i][0]] or truths[clauses[i][1]]: continue\n",
    "        return i\n",
    "    for i in range(r):\n",
    "        if truths[clauses[i][0]] or truths[clauses[i][1]]: continue\n",
    "        return i\n",
    "    return -1\n"
   ]
  },
  {
   "cell_type": "code",
   "execution_count": 170,
   "metadata": {
    "collapsed": false
   },
   "outputs": [
    {
     "data": {
      "text/plain": [
       "3"
      ]
     },
     "execution_count": 170,
     "metadata": {},
     "output_type": "execute_result"
    }
   ],
   "source": [
    "unsat([(1,-2), (2,-3), (3,-4), (4,1)], 4, [False, False, False, False, False, True, True, True, True])"
   ]
  },
  {
   "cell_type": "code",
   "execution_count": 175,
   "metadata": {
    "collapsed": false
   },
   "outputs": [
    {
     "name": "stdout",
     "output_type": "stream",
     "text": [
      "number of not free clauses: 2\n"
     ]
    },
    {
     "data": {
      "text/plain": [
       "True"
      ]
     },
     "execution_count": 175,
     "metadata": {},
     "output_type": "execute_result"
    }
   ],
   "source": [
    "papa([(1,-2), (2,-3), (3,-2), (4,3)])"
   ]
  },
  {
   "cell_type": "code",
   "execution_count": 153,
   "metadata": {
    "collapsed": false
   },
   "outputs": [
    {
     "name": "stdout",
     "output_type": "stream",
     "text": [
      "39821\n"
     ]
    },
    {
     "data": {
      "text/plain": [
       "True"
      ]
     },
     "execution_count": 153,
     "metadata": {},
     "output_type": "execute_result"
    }
   ],
   "source": [
    "papa(clauses1)  ## That took over a minute, even for just 100,000 inner loops, and it returned True, so who knows how many in reality?"
   ]
  },
  {
   "cell_type": "code",
   "execution_count": 154,
   "metadata": {
    "collapsed": true
   },
   "outputs": [],
   "source": [
    "n2, clauses2 = importClauses(2)"
   ]
  },
  {
   "cell_type": "code",
   "execution_count": 155,
   "metadata": {
    "collapsed": false
   },
   "outputs": [
    {
     "data": {
      "text/plain": [
       "200000"
      ]
     },
     "execution_count": 155,
     "metadata": {},
     "output_type": "execute_result"
    }
   ],
   "source": [
    "n2"
   ]
  },
  {
   "cell_type": "code",
   "execution_count": 157,
   "metadata": {
    "collapsed": false
   },
   "outputs": [],
   "source": [
    "papa(clauses2)  ## takes too long with my barebones papa, but maybe with the noDupes optimization...."
   ]
  },
  {
   "cell_type": "code",
   "execution_count": 158,
   "metadata": {
    "collapsed": false
   },
   "outputs": [],
   "source": [
    "n3, clauses3 = importClauses(3)"
   ]
  },
  {
   "cell_type": "code",
   "execution_count": 159,
   "metadata": {
    "collapsed": false
   },
   "outputs": [
    {
     "data": {
      "text/plain": [
       "400000"
      ]
     },
     "execution_count": 159,
     "metadata": {},
     "output_type": "execute_result"
    }
   ],
   "source": [
    "n3"
   ]
  },
  {
   "cell_type": "code",
   "execution_count": 161,
   "metadata": {
    "collapsed": false
   },
   "outputs": [],
   "source": [
    "papa(clauses3)  ## takes too long"
   ]
  },
  {
   "cell_type": "markdown",
   "metadata": {},
   "source": [
    "Maybe a couple of optimizations?"
   ]
  },
  {
   "cell_type": "code",
   "execution_count": 135,
   "metadata": {
    "collapsed": false
   },
   "outputs": [],
   "source": [
    "## See which variables are set to same truth in both of their clauses, and init them to that truth\n",
    "def findDupes(cList):\n",
    "    seen = set()\n",
    "    dupes = []\n",
    "    for c in cList:\n",
    "        for v in c:\n",
    "            if v in seen:\n",
    "                dupes.append(v)\n",
    "            else:\n",
    "                seen.add(v)\n",
    "    return dupes\n",
    "    "
   ]
  },
  {
   "cell_type": "code",
   "execution_count": 146,
   "metadata": {
    "collapsed": true
   },
   "outputs": [],
   "source": [
    "def sat(cList):\n",
    "    free = set()  ## keep vars here until they get negated\n",
    "    negated = set()  ## permanently negated once you enter here\n",
    "    for c in cList:\n",
    "        for v in c:\n",
    "            if abs(v) not in negated:  ## just keep abs val of variable name \n",
    "                if -v in free:\n",
    "                    free.remove(-v)\n",
    "                    negated.add(abs(v))\n",
    "                else:\n",
    "                    free.add(v)\n",
    "    return free\n",
    "               "
   ]
  },
  {
   "cell_type": "code",
   "execution_count": 147,
   "metadata": {
    "collapsed": false
   },
   "outputs": [],
   "source": [
    "free = sat(clauses2)"
   ]
  },
  {
   "cell_type": "code",
   "execution_count": 149,
   "metadata": {
    "collapsed": false
   },
   "outputs": [
    {
     "data": {
      "text/plain": [
       "92883"
      ]
     },
     "execution_count": 149,
     "metadata": {},
     "output_type": "execute_result"
    }
   ],
   "source": [
    "len(free)"
   ]
  },
  {
   "cell_type": "code",
   "execution_count": 176,
   "metadata": {
    "collapsed": false
   },
   "outputs": [
    {
     "name": "stdout",
     "output_type": "stream",
     "text": [
      "number of not free clauses: 39821\n"
     ]
    },
    {
     "data": {
      "text/plain": [
       "True"
      ]
     },
     "execution_count": 176,
     "metadata": {},
     "output_type": "execute_result"
    }
   ],
   "source": [
    "papa(clauses1)  ## with optimization, time was cut from 88 secs to 24 secs"
   ]
  },
  {
   "cell_type": "code",
   "execution_count": 178,
   "metadata": {
    "collapsed": false
   },
   "outputs": [],
   "source": [
    "papa(clauses2)  # still too slow"
   ]
  },
  {
   "cell_type": "markdown",
   "metadata": {},
   "source": [
    "Still too slow--Maybe remove all clauses with permanently satisfiable literals in them to avoid checking if they're SAT yet, since they always will be."
   ]
  },
  {
   "cell_type": "code",
   "execution_count": 109,
   "metadata": {
    "collapsed": true
   },
   "outputs": [],
   "source": [
    "n4, clauses4 = importClauses(4)"
   ]
  },
  {
   "cell_type": "code",
   "execution_count": 162,
   "metadata": {
    "collapsed": false
   },
   "outputs": [
    {
     "data": {
      "text/plain": [
       "600000"
      ]
     },
     "execution_count": 162,
     "metadata": {},
     "output_type": "execute_result"
    }
   ],
   "source": [
    "n4"
   ]
  },
  {
   "cell_type": "code",
   "execution_count": 164,
   "metadata": {
    "collapsed": false
   },
   "outputs": [],
   "source": [
    "papa(clauses4) # too long"
   ]
  },
  {
   "cell_type": "code",
   "execution_count": 129,
   "metadata": {
    "collapsed": false
   },
   "outputs": [],
   "source": [
    "n5, clauses5 = importClauses(5)"
   ]
  },
  {
   "cell_type": "code",
   "execution_count": 130,
   "metadata": {
    "collapsed": false
   },
   "outputs": [
    {
     "data": {
      "text/plain": [
       "800000"
      ]
     },
     "execution_count": 130,
     "metadata": {},
     "output_type": "execute_result"
    }
   ],
   "source": [
    "n5"
   ]
  },
  {
   "cell_type": "code",
   "execution_count": 165,
   "metadata": {
    "collapsed": false
   },
   "outputs": [],
   "source": [
    "papa(clauses5)  ## too long"
   ]
  },
  {
   "cell_type": "code",
   "execution_count": 132,
   "metadata": {
    "collapsed": true
   },
   "outputs": [],
   "source": [
    "n6, clauses6 = importClauses(6)"
   ]
  },
  {
   "cell_type": "code",
   "execution_count": 168,
   "metadata": {
    "collapsed": false
   },
   "outputs": [],
   "source": [
    "papa(clauses6)  ## too long"
   ]
  },
  {
   "cell_type": "code",
   "execution_count": 179,
   "metadata": {
    "collapsed": false
   },
   "outputs": [
    {
     "data": {
      "text/plain": [
       "1000000"
      ]
     },
     "execution_count": 179,
     "metadata": {},
     "output_type": "execute_result"
    }
   ],
   "source": [
    "n6  "
   ]
  },
  {
   "cell_type": "markdown",
   "metadata": {},
   "source": [
    "## OK, so Papa is too slow, as implemented, for even the second smallest set, even with removal of half the clauses.   Time to try strongly connected components."
   ]
  },
  {
   "cell_type": "markdown",
   "metadata": {},
   "source": [
    "Build a graph from the clauselist, with directed edges going from the negation of one of the variables to the positive of the other, for each pair.  So e.g. (-19, 28), meaning (not 19 || 28), will give rise to 2 directed edges:\n",
    "19 --> 28 (since 19 being True implies 28 is True) and -28 --> -19 (since 28 being False implies 19 is False).  The reasoning is that any one 'truth vertex' can be seen as implying all the other vertices in its strongly connected component.  Therefore, once the components are determined, they can be scanned to see if any vertex's negation is strongly connected to it, which would imply the clauses are unsatisfiable."
   ]
  },
  {
   "cell_type": "code",
   "execution_count": 184,
   "metadata": {
    "collapsed": true
   },
   "outputs": [],
   "source": [
    "def graphs(clauseList):\n",
    "    graphDict = dict()\n",
    "    reverseDict = dict()\n",
    "    for c in clauseList:\n",
    "        if -c[0] in graphDict:   ## NOT c[0] implies c[1]\n",
    "            graphDict[-c[0]].append(c[1])\n",
    "        else:\n",
    "            graphDict[-c[0]] = [c[1]]\n",
    "        if -c[1] in graphDict:    ## NOT c[1] implies c[0]\n",
    "            graphDict[-c[1]].append(c[0])\n",
    "        else:\n",
    "            graphDict[-c[1]] = [c[0]]\n",
    "        if c[1] in reverseDict:\n",
    "            reverseDict[c[1]].append(-c[0])\n",
    "        else:\n",
    "            reverseDict[c[1]] = [-c[0]]\n",
    "        if c[0] in reverseDict:\n",
    "            reverseDict[c[0]].append(-c[1])\n",
    "        else:\n",
    "            reverseDict[c[0]] = [-c[1]]\n",
    "            \n",
    "    return graphDict, reverseDict"
   ]
  },
  {
   "cell_type": "code",
   "execution_count": 187,
   "metadata": {
    "collapsed": true
   },
   "outputs": [],
   "source": [
    "def reverseDFS(reverseDict, maxNode):\n",
    "    \n",
    "    newOrder = []  # build the crucial ordering during the first DFS pass\n",
    "    ## keep track of explored nodes, with +1 for one-indexing of graph, and 2*maxNode because of negative labeled nodes\n",
    "    seen = [False for _ in range(2*maxNode+1)]  \n",
    "    \n",
    "    def dfs(source):\n",
    "        try:\n",
    "            for dest in reverseDict[source]:\n",
    "                if not seen[dest]:\n",
    "                    seen[dest] = True\n",
    "                    dfs(dest)\n",
    "            newOrder.insert(0,source)\n",
    "        except: KeyError\n",
    "            \n",
    "    for node in reverseDict.keys():\n",
    "        if not seen[node]:\n",
    "            seen[node] = True\n",
    "            dfs(node)\n",
    "     \n",
    "    return newOrder"
   ]
  },
  {
   "cell_type": "code",
   "execution_count": 188,
   "metadata": {
    "collapsed": true
   },
   "outputs": [],
   "source": [
    "def forwardDFS(graphDict, maxNode, order):\n",
    "    \n",
    "    reps = {}  # store a representative node for each SCC found during the second DFS pass\n",
    "    # keep track of explored nodes, with +1 for one-indexing of graph, and 2*maxNode because of negative labeled nodes\n",
    "    seen = [False for _ in range(2*maxNode+1)]  \n",
    "    \n",
    "    def dfs(source, rep):\n",
    "        try:\n",
    "            for dest in graphDict[source]:\n",
    "                if seen[dest]: continue\n",
    "                seen[dest] = True\n",
    "                reps[rep].add(dest)\n",
    "                dfs(dest, rep)\n",
    "        except: KeyError\n",
    "\n",
    "    for node in order:\n",
    "        if seen[node]: continue\n",
    "        seen[node] = True\n",
    "        reps[node] = {node}\n",
    "        dfs(node, node)\n",
    "        \n",
    "    return reps"
   ]
  },
  {
   "cell_type": "code",
   "execution_count": 212,
   "metadata": {
    "collapsed": true
   },
   "outputs": [],
   "source": [
    "def scc(clauseList):\n",
    "    \"\"\"\n",
    "    Assuming an input of a list of clause tuples, with labels from 1 to n consecutive, and minus signs for negation\n",
    "    \"\"\"\n",
    "    import random   \n",
    "    \n",
    "    n = len(clauseList)\n",
    "    ## Remove clauses that can be automatically and permanently satisfied, to speed things up\n",
    "    freebies = sat(clauseList)\n",
    "    notFree = []\n",
    "    for c in clauseList:\n",
    "        if c[0] not in freebies and c[1] not in freebies:\n",
    "            notFree.append(c)\n",
    "    m = len(notFree)\n",
    "    print(\"number of not free clauses: \" + str(m))\n",
    "\n",
    "    adjDict, revDict = graphs(clauseList)\n",
    "    hiNode = max(abs(k) for k in adjDict.keys())\n",
    "   \n",
    "    ordering = reverseDFS(revDict, hiNode)\n",
    "    strongs = forwardDFS(adjDict, hiNode, ordering)\n",
    "    \n",
    "    return strongs\n",
    "\n"
   ]
  },
  {
   "cell_type": "code",
   "execution_count": 190,
   "metadata": {
    "collapsed": true
   },
   "outputs": [],
   "source": [
    "import sys, threading\n",
    "sys.setrecursionlimit(800000)\n",
    "threading.stack_size(67108864)\n",
    "\n",
    "thread = threading.Thread()\n",
    "thread.start()\n"
   ]
  },
  {
   "cell_type": "code",
   "execution_count": 199,
   "metadata": {
    "collapsed": false
   },
   "outputs": [
    {
     "data": {
      "text/plain": [
       "[46, 46, 8, 4, 4, 1, 1, 1, 1, 1]"
      ]
     },
     "execution_count": 199,
     "metadata": {},
     "output_type": "execute_result"
    }
   ],
   "source": [
    "components = list(strongs2.values())\n",
    "\n",
    "components.sort(key=lambda x: len(x), reverse=True)\n",
    "\n",
    "[len(comp) for comp in components[:10]]"
   ]
  },
  {
   "cell_type": "code",
   "execution_count": 205,
   "metadata": {
    "collapsed": true
   },
   "outputs": [],
   "source": [
    "def check(sccDict):\n",
    "    for k in sccDict:\n",
    "        if -k in sccDict[k]:\n",
    "            print(k, sccDict[k])\n",
    "            return False\n",
    "        for v in sccDict[k]:\n",
    "            if -v in sccDict[k]:\n",
    "                print(k, sccDict[k])\n",
    "                return False\n",
    "    return True"
   ]
  },
  {
   "cell_type": "code",
   "execution_count": 214,
   "metadata": {
    "collapsed": false
   },
   "outputs": [
    {
     "name": "stdout",
     "output_type": "stream",
     "text": [
      "number of not free clauses: 39821\n"
     ]
    },
    {
     "data": {
      "text/plain": [
       "True"
      ]
     },
     "execution_count": 214,
     "metadata": {},
     "output_type": "execute_result"
    }
   ],
   "source": [
    "strongs1 = scc(clauses1)   # ~8 secs\n",
    "check(strongs1)"
   ]
  },
  {
   "cell_type": "code",
   "execution_count": 215,
   "metadata": {
    "collapsed": false
   },
   "outputs": [
    {
     "name": "stdout",
     "output_type": "stream",
     "text": [
      "number of not free clauses: 80186\n"
     ]
    }
   ],
   "source": [
    "strongs2 = scc(clauses2)   ## ~25 secs  for 80K clauses"
   ]
  },
  {
   "cell_type": "code",
   "execution_count": 201,
   "metadata": {
    "collapsed": false
   },
   "outputs": [
    {
     "data": {
      "text/plain": [
       "False"
      ]
     },
     "execution_count": 201,
     "metadata": {},
     "output_type": "execute_result"
    }
   ],
   "source": [
    "check(strongs2)"
   ]
  },
  {
   "cell_type": "code",
   "execution_count": 216,
   "metadata": {
    "collapsed": false
   },
   "outputs": [
    {
     "name": "stdout",
     "output_type": "stream",
     "text": [
      "number of not free clauses: 158903\n"
     ]
    },
    {
     "data": {
      "text/plain": [
       "True"
      ]
     },
     "execution_count": 216,
     "metadata": {},
     "output_type": "execute_result"
    }
   ],
   "source": [
    "strongs3 = scc(clauses3)   ## ~107 secs\n",
    "check(strongs3)"
   ]
  },
  {
   "cell_type": "code",
   "execution_count": 217,
   "metadata": {
    "collapsed": false
   },
   "outputs": [
    {
     "name": "stdout",
     "output_type": "stream",
     "text": [
      "number of not free clauses: 239864\n"
     ]
    },
    {
     "data": {
      "text/plain": [
       "True"
      ]
     },
     "execution_count": 217,
     "metadata": {},
     "output_type": "execute_result"
    }
   ],
   "source": [
    "strongs4 = scc(clauses4)\n",
    "check(strongs4)"
   ]
  },
  {
   "cell_type": "code",
   "execution_count": 218,
   "metadata": {
    "collapsed": false
   },
   "outputs": [
    {
     "name": "stdout",
     "output_type": "stream",
     "text": [
      "number of not free clauses: 320834\n",
      "618692 {223530, 618692, -223530, -618692}\n"
     ]
    },
    {
     "data": {
      "text/plain": [
       "False"
      ]
     },
     "execution_count": 218,
     "metadata": {},
     "output_type": "execute_result"
    }
   ],
   "source": [
    "strongs5 = scc(clauses5)\n",
    "check(strongs5)"
   ]
  },
  {
   "cell_type": "code",
   "execution_count": 219,
   "metadata": {
    "collapsed": false
   },
   "outputs": [
    {
     "name": "stdout",
     "output_type": "stream",
     "text": [
      "number of not free clauses: 398526\n",
      "273101 {976968, -410420, 273101, -273101, 410420, -976968}\n"
     ]
    },
    {
     "data": {
      "text/plain": [
       "False"
      ]
     },
     "execution_count": 219,
     "metadata": {},
     "output_type": "execute_result"
    }
   ],
   "source": [
    "strongs6 = scc(clauses6)   # 14-15 mins\n",
    "check(strongs6)"
   ]
  },
  {
   "cell_type": "markdown",
   "metadata": {},
   "source": [
    "### Someone in the discussion forum pointed out that you can recurse on the optimized set of clauses to drastically reduce the problem size in the input:"
   ]
  },
  {
   "cell_type": "code",
   "execution_count": 220,
   "metadata": {
    "collapsed": true
   },
   "outputs": [],
   "source": [
    "def prune(cList):\n",
    "    n = len(cList)\n",
    "    freebies = sat(cList)\n",
    "    notFree = []\n",
    "    for c in cList:\n",
    "        if c[0] not in freebies and c[1] not in freebies:\n",
    "            notFree.append(c)\n",
    "    m = len(notFree)\n",
    "    if m == n:\n",
    "        return cList\n",
    "    else:\n",
    "        return prune(notFree)"
   ]
  },
  {
   "cell_type": "code",
   "execution_count": 221,
   "metadata": {
    "collapsed": true
   },
   "outputs": [],
   "source": [
    "pruned1 = prune(clauses1)"
   ]
  },
  {
   "cell_type": "code",
   "execution_count": 222,
   "metadata": {
    "collapsed": false
   },
   "outputs": [
    {
     "data": {
      "text/plain": [
       "6"
      ]
     },
     "execution_count": 222,
     "metadata": {},
     "output_type": "execute_result"
    }
   ],
   "source": [
    "len(pruned1)"
   ]
  },
  {
   "cell_type": "code",
   "execution_count": 223,
   "metadata": {
    "collapsed": false
   },
   "outputs": [
    {
     "data": {
      "text/plain": [
       "[(95476, -15789),\n",
       " (-98193, 79715),\n",
       " (58504, 98193),\n",
       " (-95476, 73096),\n",
       " (-79715, -73096),\n",
       " (15789, -58504)]"
      ]
     },
     "execution_count": 223,
     "metadata": {},
     "output_type": "execute_result"
    }
   ],
   "source": [
    "pruned1"
   ]
  },
  {
   "cell_type": "code",
   "execution_count": 224,
   "metadata": {
    "collapsed": false
   },
   "outputs": [
    {
     "name": "stdout",
     "output_type": "stream",
     "text": [
      "number of not free clauses: 6\n"
     ]
    },
    {
     "data": {
      "text/plain": [
       "True"
      ]
     },
     "execution_count": 224,
     "metadata": {},
     "output_type": "execute_result"
    }
   ],
   "source": [
    "check(scc(pruned1))"
   ]
  },
  {
   "cell_type": "code",
   "execution_count": 225,
   "metadata": {
    "collapsed": false
   },
   "outputs": [
    {
     "name": "stdout",
     "output_type": "stream",
     "text": [
      "number of not free clauses: 57\n",
      "134592 {134592, -134592, 9187, 76873, -162741, 162741, -76873, -9187}\n"
     ]
    },
    {
     "data": {
      "text/plain": [
       "False"
      ]
     },
     "execution_count": 225,
     "metadata": {},
     "output_type": "execute_result"
    }
   ],
   "source": [
    "check(scc(prune(clauses2)))"
   ]
  },
  {
   "cell_type": "code",
   "execution_count": 226,
   "metadata": {
    "collapsed": false
   },
   "outputs": [
    {
     "name": "stdout",
     "output_type": "stream",
     "text": [
      "number of not free clauses: 295\n"
     ]
    },
    {
     "data": {
      "text/plain": [
       "True"
      ]
     },
     "execution_count": 226,
     "metadata": {},
     "output_type": "execute_result"
    }
   ],
   "source": [
    "check(scc(prune(clauses3)))"
   ]
  },
  {
   "cell_type": "code",
   "execution_count": 227,
   "metadata": {
    "collapsed": false
   },
   "outputs": [
    {
     "name": "stdout",
     "output_type": "stream",
     "text": [
      "number of not free clauses: 11\n"
     ]
    },
    {
     "data": {
      "text/plain": [
       "True"
      ]
     },
     "execution_count": 227,
     "metadata": {},
     "output_type": "execute_result"
    }
   ],
   "source": [
    "check(scc(prune(clauses4)))"
   ]
  },
  {
   "cell_type": "code",
   "execution_count": 228,
   "metadata": {
    "collapsed": false
   },
   "outputs": [
    {
     "name": "stdout",
     "output_type": "stream",
     "text": [
      "number of not free clauses: 101\n",
      "223530 {-618692, 223530, 618692, -223530}\n"
     ]
    },
    {
     "data": {
      "text/plain": [
       "False"
      ]
     },
     "execution_count": 228,
     "metadata": {},
     "output_type": "execute_result"
    }
   ],
   "source": [
    "check(scc(prune(clauses5)))"
   ]
  },
  {
   "cell_type": "code",
   "execution_count": 229,
   "metadata": {
    "collapsed": false
   },
   "outputs": [
    {
     "name": "stdout",
     "output_type": "stream",
     "text": [
      "number of not free clauses: 26\n",
      "273101 {976968, -410420, 273101, -273101, 410420, -976968}\n"
     ]
    },
    {
     "data": {
      "text/plain": [
       "False"
      ]
     },
     "execution_count": 229,
     "metadata": {},
     "output_type": "execute_result"
    }
   ],
   "source": [
    "check(scc(prune(clauses6)))"
   ]
  },
  {
   "cell_type": "markdown",
   "metadata": {},
   "source": [
    "Well, that certainly makes it easier. "
   ]
  },
  {
   "cell_type": "code",
   "execution_count": null,
   "metadata": {
    "collapsed": true
   },
   "outputs": [],
   "source": []
  }
 ],
 "metadata": {
  "kernelspec": {
   "display_name": "Python 3",
   "language": "python",
   "name": "python3"
  },
  "language_info": {
   "codemirror_mode": {
    "name": "ipython",
    "version": 3
   },
   "file_extension": ".py",
   "mimetype": "text/x-python",
   "name": "python",
   "nbconvert_exporter": "python",
   "pygments_lexer": "ipython3",
   "version": "3.6.0"
  }
 },
 "nbformat": 4,
 "nbformat_minor": 2
}
