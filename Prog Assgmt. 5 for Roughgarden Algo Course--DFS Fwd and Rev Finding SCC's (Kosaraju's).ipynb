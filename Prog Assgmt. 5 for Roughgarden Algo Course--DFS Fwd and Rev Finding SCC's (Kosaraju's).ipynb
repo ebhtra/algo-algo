{
 "cells": [
  {
   "cell_type": "markdown",
   "metadata": {
    "collapsed": true
   },
   "source": [
    "## Given a large list of directed edges, representing a graph, find the Strongly Connected Components using Kosaraju's two-pass DFS technique"
   ]
  },
  {
   "cell_type": "code",
   "execution_count": 17,
   "metadata": {
    "collapsed": false
   },
   "outputs": [
    {
     "name": "stdout",
     "output_type": "stream",
     "text": [
      "5105043\n",
      "28 115314 \n",
      "\n"
     ]
    }
   ],
   "source": [
    "# Get the graph edges into the notebook\n",
    "\n",
    "with open('Downloads/SCC.txt') as f:\n",
    "    edges = f.readlines()\n",
    "print(len(edges))\n",
    "print(edges[333])\n",
    "\n",
    "# Downloaded from the following link:  \n",
    "#    https://d18ky98rnyall9.cloudfront.net/_410e934e6553ac56409b2cb7096a44aa_SCC.txt?Expires=1513468800&Signature=Oc-xy0AOFrdO0JX~G-tCAJgJpQF8Sy9a4plpaVY9F8WS3HjSfPMf--27vvL3eN2~poTKGx2E-ncb-Y~j9InoyBfuJnjPw~OqNplss6JrVlGrTW25RgR8oGgj93bOJAZGMfdXCDQnc9koIiwqqoHx3t7nx3NShzu2FPr5pq96vAs_&Key-Pair-Id=APKAJLTNE6QMUY6HBC5A"
   ]
  },
  {
   "cell_type": "code",
   "execution_count": 18,
   "metadata": {
    "collapsed": false
   },
   "outputs": [
    {
     "name": "stdout",
     "output_type": "stream",
     "text": [
      "739454 714547\n"
     ]
    }
   ],
   "source": [
    "adjDict = dict()   # for each tail vertex, store a set of all head vertices\n",
    "revDict = dict()   # for reverse graph DFS\n",
    "while edges:\n",
    "    e = edges.pop().split()\n",
    "    tail, head = int(e[0]), int(e[1])\n",
    "    \n",
    "    if tail in adjDict:\n",
    "        adjDict[tail].add(head)\n",
    "    else:\n",
    "        adjDict[tail] = {head}\n",
    "    if head in revDict:\n",
    "        revDict[head].add(tail)\n",
    "    else:\n",
    "        revDict[head] = {tail}\n",
    "\n",
    "    \n",
    "print(len(adjDict), len(revDict))\n",
    "    "
   ]
  },
  {
   "cell_type": "code",
   "execution_count": 19,
   "metadata": {
    "collapsed": false
   },
   "outputs": [],
   "source": [
    "def reverseDFS(reverseDict, maxNode):\n",
    "    \n",
    "    newOrder = []  # build the crucial ordering during the first DFS pass\n",
    "    seen = [False for _ in range(maxNode+1)]  # keep track of explored nodes, with +1 for one-indexing of graph\n",
    "    \n",
    "    def dfs(source):\n",
    "        try:\n",
    "            for dest in reverseDict[source]:\n",
    "                if not seen[dest]:\n",
    "                    seen[dest] = True\n",
    "                    dfs(dest)\n",
    "            newOrder.insert(0,source)\n",
    "        except: KeyError\n",
    "            \n",
    "    for node in reverseDict.keys():\n",
    "        if not seen[node]:\n",
    "            seen[node] = True\n",
    "            dfs(node)\n",
    "     \n",
    "    return newOrder"
   ]
  },
  {
   "cell_type": "code",
   "execution_count": 6,
   "metadata": {
    "collapsed": true
   },
   "outputs": [],
   "source": [
    "def forwardDFS(graphDict, maxNode, order):\n",
    "    \n",
    "    reps = {}  # store a representative node for each SCC found during the second DFS pass\n",
    "    seen = [False for _ in range(maxNode+1)]  # keep track of explored nodes, with +1 for one-indexing of graph\n",
    "    \n",
    "    def dfs(source, rep):\n",
    "        try:\n",
    "            for dest in graphDict[source]:\n",
    "                if seen[dest]: continue\n",
    "                seen[dest] = True\n",
    "                reps[rep].add(dest)\n",
    "                dfs(dest, rep)\n",
    "        except: KeyError\n",
    "\n",
    "    for node in order:\n",
    "        if seen[node]: continue\n",
    "        seen[node] = True\n",
    "        reps[node] = {node}\n",
    "        dfs(node, node)\n",
    "        \n",
    "    return reps"
   ]
  },
  {
   "cell_type": "code",
   "execution_count": 7,
   "metadata": {
    "collapsed": false
   },
   "outputs": [
    {
     "data": {
      "text/plain": [
       "875714"
      ]
     },
     "execution_count": 7,
     "metadata": {},
     "output_type": "execute_result"
    }
   ],
   "source": [
    "hiNode = max(max(adjDict.keys()), max(revDict.keys()))\n",
    "hiNode"
   ]
  },
  {
   "cell_type": "code",
   "execution_count": 16,
   "metadata": {
    "collapsed": false
   },
   "outputs": [
    {
     "ename": "NameError",
     "evalue": "name 'revDict' is not defined",
     "output_type": "error",
     "traceback": [
      "\u001b[0;31m---------------------------------------------------------------------------\u001b[0m",
      "\u001b[0;31mNameError\u001b[0m                                 Traceback (most recent call last)",
      "\u001b[0;32m<ipython-input-16-d2c06de513ce>\u001b[0m in \u001b[0;36m<module>\u001b[0;34m()\u001b[0m\n\u001b[0;32m----> 1\u001b[0;31m \u001b[0mmax\u001b[0m\u001b[0;34m(\u001b[0m\u001b[0mrevDict\u001b[0m\u001b[0;34m.\u001b[0m\u001b[0mkeys\u001b[0m\u001b[0;34m(\u001b[0m\u001b[0;34m)\u001b[0m\u001b[0;34m)\u001b[0m\u001b[0;34m\u001b[0m\u001b[0m\n\u001b[0m",
      "\u001b[0;31mNameError\u001b[0m: name 'revDict' is not defined"
     ]
    }
   ],
   "source": [
    "max(revDict.keys())"
   ]
  },
  {
   "cell_type": "code",
   "execution_count": 1,
   "metadata": {
    "collapsed": true
   },
   "outputs": [],
   "source": [
    "import sys, threading\n",
    "sys.setrecursionlimit(800000)\n",
    "threading.stack_size(67108864)\n",
    "\n",
    "thread = threading.Thread()\n",
    "thread.start()\n",
    "\n",
    "ordering = reverseDFS(revDict, hiNode)\n",
    "\n",
    "strongs = forwardDFS(adjDict, hiNode, ordering)\n",
    "\n",
    "components = list(strongs.values())\n",
    "\n",
    "components.sort(key=lambda x: len(x), reverse=True)\n",
    "\n",
    "[len(comp) for comp in components]"
   ]
  }
 ],
 "metadata": {
  "kernelspec": {
   "display_name": "Python 3",
   "language": "python",
   "name": "python3"
  },
  "language_info": {
   "codemirror_mode": {
    "name": "ipython",
    "version": 3
   },
   "file_extension": ".py",
   "mimetype": "text/x-python",
   "name": "python",
   "nbconvert_exporter": "python",
   "pygments_lexer": "ipython3",
   "version": "3.6.0"
  }
 },
 "nbformat": 4,
 "nbformat_minor": 2
}
