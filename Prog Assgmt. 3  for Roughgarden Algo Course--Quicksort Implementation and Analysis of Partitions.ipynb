{
 "cells": [
  {
   "cell_type": "code",
   "execution_count": 1,
   "metadata": {
    "collapsed": true
   },
   "outputs": [],
   "source": [
    "# Get the numbers into the notebook\n",
    "\n",
    "with open('Downloads/QuickSort.txt') as f:\n",
    "    ints = f.readlines()\n",
    "    \n",
    "# Downloaded from the following link:    \n",
    "#https://d3c33hcgiwev3.cloudfront.net/_32387ba40b36359a38625cbb397eee65_QuickSort.txt?Expires=1512777600&Signature=DdFL2Ix5nsxPlEl~5MlnNpsNIUguF2hHlWf93HuHKLw8awrJMo3I5iUtxXFnVnjRqyGdq--v7S2ePsT9A8EidFPrCJmqEgw4KNlLhVfMaFCeZYz3LKWoOvYoIDhypwASfeWsEtzXoH1sNJUL3MA4Oo03YV8SSfoonTb-SimEWiE_&Key-Pair-Id=APKAJLTNE6QMUY6HBC5A"
   ]
  },
  {
   "cell_type": "code",
   "execution_count": 2,
   "metadata": {
    "collapsed": true
   },
   "outputs": [],
   "source": [
    "ints = [int(i) for i in ints]   # these ints werre strings in the .txt file"
   ]
  },
  {
   "cell_type": "code",
   "execution_count": 3,
   "metadata": {
    "collapsed": false
   },
   "outputs": [
    {
     "data": {
      "text/plain": [
       "10000"
      ]
     },
     "execution_count": 3,
     "metadata": {},
     "output_type": "execute_result"
    }
   ],
   "source": [
    "len(ints)"
   ]
  },
  {
   "cell_type": "code",
   "execution_count": 4,
   "metadata": {
    "collapsed": false
   },
   "outputs": [
    {
     "name": "stdout",
     "output_type": "stream",
     "text": [
      "10000 1\n"
     ]
    }
   ],
   "source": [
    "print( max(ints), min(ints))"
   ]
  },
  {
   "cell_type": "code",
   "execution_count": 5,
   "metadata": {
    "collapsed": false
   },
   "outputs": [
    {
     "data": {
      "text/plain": [
       "10000"
      ]
     },
     "execution_count": 5,
     "metadata": {},
     "output_type": "execute_result"
    }
   ],
   "source": [
    "len(set(ints))"
   ]
  },
  {
   "cell_type": "markdown",
   "metadata": {},
   "source": [
    "# Implement Quicksort using 3 different partitioning subroutines, as specified, and count comparisons"
   ]
  },
  {
   "cell_type": "markdown",
   "metadata": {},
   "source": [
    "## For the first part of the programming assignment, you should always use the first element of the array as the pivot element."
   ]
  },
  {
   "cell_type": "code",
   "execution_count": 17,
   "metadata": {
    "collapsed": true
   },
   "outputs": [],
   "source": [
    "# lots of swapping, so build a quick swap utility function\n",
    "def swap(array, ind1, ind2):\n",
    "    holder = array[ind1]\n",
    "    array[ind1] = array[ind2]\n",
    "    array[ind2] = holder\n",
    "    return array"
   ]
  },
  {
   "cell_type": "code",
   "execution_count": 15,
   "metadata": {
    "collapsed": false
   },
   "outputs": [],
   "source": [
    "def myQuicksort(numList, partitioner, comps=[0], start=0, end=None):\n",
    "    \"\"\"\n",
    "    This will sort @numList in place, using @partitioner as the subroutine for choosing the partition.\n",
    "    It passes araound a mutable list, @comps, to increment for the sake of counting comparisons.\n",
    "    \"\"\"\n",
    "    # for first call\n",
    "    if end is None:  end = len(numList)\n",
    "    # determine length of sublist being sorted\n",
    "    m = end-start\n",
    "    # base case does nothing to the list or the counter\n",
    "    if m < 2:  return\n",
    "    # select the partition index using the @partitioner method passed in as an argument here\n",
    "    part = partitioner(numList, start, end)\n",
    "    swap(numList, start, part)  # Get the partition element to the front of the list for easier bookkeeping.\n",
    "    i, j = start+1, start+2  # The first element of the sublist is now the partition, so i and j are the next 2 slots\n",
    "    if numList[i] < numList[start]:   # +1 comparison for elements 0 and 1 of sublist\n",
    "        i += 1   \n",
    "    while j < end:      # +1 comparison for elements 2 thru m-1 of sublist, for a grand total of m-1 comps this call\n",
    "        if numList[j] < numList[start]:\n",
    "            swap(numList, j, i)\n",
    "            i += 1\n",
    "        j += 1\n",
    "    comps[0] += (m-1)    \n",
    "    swap(numList, start, i-1) # place the partitioning element in its final resting place in the array\n",
    "    \n",
    "    # recursive calls to sort sublists\n",
    "    myQuicksort(numList, partitioner, comps, start, i-1)\n",
    "    myQuicksort(numList, partitioner, comps, i, end)\n",
    "    \n",
    "    "
   ]
  },
  {
   "cell_type": "code",
   "execution_count": 80,
   "metadata": {
    "collapsed": true
   },
   "outputs": [],
   "source": [
    "def firstPartitioner(listOfNums, startIdx, endIdx):\n",
    "    '''\n",
    "    Returns index of first element in the sublist being sorted, which is @startIdx here.\n",
    "    '''\n",
    "    return startIdx"
   ]
  },
  {
   "cell_type": "code",
   "execution_count": 81,
   "metadata": {
    "collapsed": false
   },
   "outputs": [
    {
     "name": "stdout",
     "output_type": "stream",
     "text": [
      "[1, 3]\n",
      "1\n"
     ]
    }
   ],
   "source": [
    "compsCounter = [0]\n",
    "arr = [1,3]\n",
    "myQuicksort(arr, firstPartitioner, compsCounter)\n",
    "print(arr)\n",
    "print(compsCounter[0])"
   ]
  },
  {
   "cell_type": "code",
   "execution_count": 82,
   "metadata": {
    "collapsed": false
   },
   "outputs": [
    {
     "name": "stdout",
     "output_type": "stream",
     "text": [
      "7891\n",
      "[162085]\n"
     ]
    }
   ],
   "source": [
    "copyInts = ints[:]\n",
    "compsCounter = [0]\n",
    "answer = myQuicksort(copyInts, firstPartitioner, compsCounter)\n",
    "\n",
    "print(copyInts[7890])\n",
    "print(compsCounter)"
   ]
  },
  {
   "cell_type": "markdown",
   "metadata": {},
   "source": [
    "## For the second part: Compute the number of comparisons (as in Problem 1), always using the final element of the given array as the pivot element. Again, be sure to implement the Partition subroutine exactly as it is described in the video lectures."
   ]
  },
  {
   "cell_type": "code",
   "execution_count": 83,
   "metadata": {
    "collapsed": true
   },
   "outputs": [],
   "source": [
    "def secondPartitioner(listOfNums, startIdx, endIdx):\n",
    "    '''\n",
    "    Returns index of last element in the sublist being sorted, which is @endIdx-1 here.\n",
    "    '''\n",
    "    return endIdx - 1"
   ]
  },
  {
   "cell_type": "code",
   "execution_count": 84,
   "metadata": {
    "collapsed": false
   },
   "outputs": [
    {
     "name": "stdout",
     "output_type": "stream",
     "text": [
      "[1, 3]\n",
      "1\n"
     ]
    }
   ],
   "source": [
    "compsCounter = [0]\n",
    "arr = [3,1]\n",
    "myQuicksort(arr, firstPartitioner, compsCounter)\n",
    "print(arr)\n",
    "print(compsCounter[0])"
   ]
  },
  {
   "cell_type": "code",
   "execution_count": 85,
   "metadata": {
    "collapsed": false
   },
   "outputs": [
    {
     "name": "stdout",
     "output_type": "stream",
     "text": [
      "7891\n",
      "[164123]\n"
     ]
    }
   ],
   "source": [
    "copyInts = ints[:]\n",
    "compsCounter = [0]\n",
    "answer = myQuicksort(copyInts, secondPartitioner, compsCounter)\n",
    "\n",
    "print(copyInts[7890])\n",
    "print(compsCounter)"
   ]
  },
  {
   "cell_type": "markdown",
   "metadata": {},
   "source": [
    "## For the 3rd part:  Compute the number of comparisons (as in Problem 1), using the \"median-of-three\" pivot rule.  \n",
    "\n",
    "### EXAMPLE: For the input array 8 2 4 5 7 1 you would consider the first (8), middle (4), and last (1) elements; since 4 is the median of the set {1,4,8}, you would use 4 as your pivot element.\n",
    "\n",
    "### SUBTLE POINT: A careful analysis would keep track of the comparisons made in identifying the median of the three candidate elements. You should NOT do this. That is, as in the previous two problems, you should simply add m−1 to your running total of comparisons every time you recurse on a subarray with length m."
   ]
  },
  {
   "cell_type": "code",
   "execution_count": 30,
   "metadata": {
    "collapsed": false
   },
   "outputs": [],
   "source": [
    "def thirdPartitioner(listOfNums, startIdx, endIdx):\n",
    "    low = listOfNums[startIdx]\n",
    "    mid = listOfNums[startIdx + (endIdx-1-startIdx)//2]\n",
    "    high = listOfNums[endIdx-1]\n",
    "    if low > mid:\n",
    "        if high > low:  return startIdx\n",
    "        if high > mid:  return endIdx-1\n",
    "        return startIdx + (endIdx-1-startIdx)//2\n",
    "    else:   # mid > low\n",
    "        if low > high: return startIdx\n",
    "        if mid > high: return endIdx-1\n",
    "        return startIdx + (endIdx-1-startIdx)//2"
   ]
  },
  {
   "cell_type": "code",
   "execution_count": 87,
   "metadata": {
    "collapsed": false
   },
   "outputs": [
    {
     "name": "stdout",
     "output_type": "stream",
     "text": [
      "[1, 3]\n",
      "1\n"
     ]
    }
   ],
   "source": [
    "compsCounter = [0]\n",
    "arr = [3,1]\n",
    "myQuicksort(arr, thirdPartitioner, compsCounter)\n",
    "print(arr)\n",
    "print(compsCounter[0])"
   ]
  },
  {
   "cell_type": "code",
   "execution_count": 88,
   "metadata": {
    "collapsed": false
   },
   "outputs": [
    {
     "name": "stdout",
     "output_type": "stream",
     "text": [
      "7891\n",
      "[138382]\n"
     ]
    }
   ],
   "source": [
    "copyInts = ints[:]\n",
    "compsCounter = [0]\n",
    "answer = myQuicksort(copyInts, thirdPartitioner, compsCounter)\n",
    "\n",
    "print(copyInts[7890])\n",
    "print(compsCounter)"
   ]
  },
  {
   "cell_type": "markdown",
   "metadata": {
    "collapsed": true
   },
   "source": [
    "## Those answers are graded as correct, so let's check how they compare to a randomized partitioner:"
   ]
  },
  {
   "cell_type": "code",
   "execution_count": 13,
   "metadata": {
    "collapsed": true
   },
   "outputs": [],
   "source": [
    "def randoPartitioner(listOfNums, startIdx, endIdx):\n",
    "    import random\n",
    "    return random.choice(range(startIdx, endIdx))"
   ]
  },
  {
   "cell_type": "code",
   "execution_count": 21,
   "metadata": {
    "collapsed": true
   },
   "outputs": [],
   "source": [
    "## This cell takes like a minute to run, for 1000 sorts with randoPartitioner\n",
    "results = []\n",
    "for _ in range(1000):   \n",
    "    copyInts = ints[:]\n",
    "    compsCounter = [0]\n",
    "    answer = myQuicksort(copyInts, randoPartitioner, compsCounter)\n",
    "    results = results + compsCounter\n",
    "    "
   ]
  },
  {
   "cell_type": "code",
   "execution_count": 29,
   "metadata": {
    "collapsed": false
   },
   "outputs": [
    {
     "name": "stdout",
     "output_type": "stream",
     "text": [
      "max comparisons = 188351\n",
      "min comparisons = 139590\n",
      "avg comparisons = 155652.963\n"
     ]
    }
   ],
   "source": [
    "print('max comparisons = ' + str(max(results)))\n",
    "print('min comparisons = ' + str(min(results)))\n",
    "print('avg comparisons = ' + str(sum(results) / 1000))"
   ]
  },
  {
   "cell_type": "markdown",
   "metadata": {},
   "source": [
    "### So the results seem to put randomized partition selection somewhere between the median-of-three selection and first or last element partition selection, and closer on average to the worse-performing, latter ones, which makes sense, since those 2 rely more on the random/arbitrary ordering of the input array.  Not sure which is actually fastest though, since we only measured comparisons here, and didn't count the 2-3 comparisons needed to find the partition element in the median method.  Actually let's just run 1000 sorts with the median partitioner and see:"
   ]
  },
  {
   "cell_type": "code",
   "execution_count": 32,
   "metadata": {
    "collapsed": false
   },
   "outputs": [
    {
     "name": "stdout",
     "output_type": "stream",
     "text": [
      "max comparisons = 179350\n",
      "min comparisons = 142122\n",
      "avg comparisons = 155450.224\n"
     ]
    }
   ],
   "source": [
    "## This cell took just over a minute to run, for 1000 sorts with randoPartitioner\n",
    "results = []\n",
    "for _ in range(1000):   \n",
    "    copyInts = ints[:]\n",
    "    compsCounter = [0]\n",
    "    answer = myQuicksort(copyInts, randoPartitioner, compsCounter)\n",
    "    results = results + compsCounter\n",
    "    \n",
    "\n",
    "print('max comparisons = ' + str(max(results)))\n",
    "print('min comparisons = ' + str(min(results)))\n",
    "print('avg comparisons = ' + str(sum(results) / 1000))"
   ]
  },
  {
   "cell_type": "code",
   "execution_count": null,
   "metadata": {
    "collapsed": true
   },
   "outputs": [],
   "source": []
  },
  {
   "cell_type": "code",
   "execution_count": 33,
   "metadata": {
    "collapsed": false
   },
   "outputs": [
    {
     "name": "stdout",
     "output_type": "stream",
     "text": [
      "max comparisons = 138382\n",
      "min comparisons = 138382\n",
      "avg comparisons = 138382.0\n"
     ]
    }
   ],
   "source": [
    "## This cell took just under a minute to run, for 1000 sorts with thirdPartitioner (the median-finder)\n",
    "results = []\n",
    "for _ in range(1000):   \n",
    "    copyInts = ints[:]\n",
    "    compsCounter = [0]\n",
    "    answer = myQuicksort(copyInts, thirdPartitioner, compsCounter)\n",
    "    results = results + compsCounter\n",
    "\n",
    "print('max comparisons = ' + str(max(results)))\n",
    "print('min comparisons = ' + str(min(results)))\n",
    "print('avg comparisons = ' + str(sum(results) / 1000))    "
   ]
  },
  {
   "cell_type": "markdown",
   "metadata": {},
   "source": [
    "### Slightly faster results for the \"smart\" partitioner, although this is only on one input array, so who knows???"
   ]
  },
  {
   "cell_type": "code",
   "execution_count": null,
   "metadata": {
    "collapsed": true
   },
   "outputs": [],
   "source": []
  }
 ],
 "metadata": {
  "kernelspec": {
   "display_name": "Python 3",
   "language": "python",
   "name": "python3"
  },
  "language_info": {
   "codemirror_mode": {
    "name": "ipython",
    "version": 3
   },
   "file_extension": ".py",
   "mimetype": "text/x-python",
   "name": "python",
   "nbconvert_exporter": "python",
   "pygments_lexer": "ipython3",
   "version": "3.6.0"
  }
 },
 "nbformat": 4,
 "nbformat_minor": 2
}
