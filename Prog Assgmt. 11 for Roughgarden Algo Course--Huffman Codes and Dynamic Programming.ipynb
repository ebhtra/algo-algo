{
 "cells": [
  {
   "cell_type": "markdown",
   "metadata": {},
   "source": [
    "## Huffman Codes"
   ]
  },
  {
   "cell_type": "code",
   "execution_count": 46,
   "metadata": {
    "collapsed": true
   },
   "outputs": [],
   "source": [
    "## get some data into the notebook\n",
    "with open('Downloads/algo2huffman.txt') as f:\n",
    "    numSymbols = f.readline()\n",
    "    weights = f.readlines()"
   ]
  },
  {
   "cell_type": "code",
   "execution_count": 47,
   "metadata": {
    "collapsed": false
   },
   "outputs": [
    {
     "data": {
      "text/plain": [
       "'1000\\n'"
      ]
     },
     "execution_count": 47,
     "metadata": {},
     "output_type": "execute_result"
    }
   ],
   "source": [
    "numSymbols"
   ]
  },
  {
   "cell_type": "code",
   "execution_count": 48,
   "metadata": {
    "collapsed": false
   },
   "outputs": [
    {
     "data": {
      "text/plain": [
       "'7540662\\n'"
      ]
     },
     "execution_count": 48,
     "metadata": {},
     "output_type": "execute_result"
    }
   ],
   "source": [
    "weights[0]"
   ]
  },
  {
   "cell_type": "code",
   "execution_count": 49,
   "metadata": {
    "collapsed": true
   },
   "outputs": [],
   "source": [
    "n = int(numSymbols.strip('\\n'))"
   ]
  },
  {
   "cell_type": "code",
   "execution_count": 50,
   "metadata": {
    "collapsed": true
   },
   "outputs": [],
   "source": [
    "weights = [int(w.strip('\\n')) for w in weights]"
   ]
  },
  {
   "cell_type": "code",
   "execution_count": 51,
   "metadata": {
    "collapsed": false
   },
   "outputs": [
    {
     "data": {
      "text/plain": [
       "4990911.37"
      ]
     },
     "execution_count": 51,
     "metadata": {},
     "output_type": "execute_result"
    }
   ],
   "source": [
    "sum(weights) / n"
   ]
  },
  {
   "cell_type": "code",
   "execution_count": 52,
   "metadata": {
    "collapsed": false
   },
   "outputs": [
    {
     "name": "stdout",
     "output_type": "stream",
     "text": [
      "1873 9979223\n"
     ]
    }
   ],
   "source": [
    "print(min(weights), max(weights))"
   ]
  },
  {
   "cell_type": "markdown",
   "metadata": {},
   "source": [
    "Your task in this problem is to run the Huffman coding algorithm from lecture on this data set. What is the maximum length of a codeword in the resulting Huffman code?"
   ]
  },
  {
   "cell_type": "code",
   "execution_count": 53,
   "metadata": {
    "collapsed": true
   },
   "outputs": [],
   "source": [
    "weights = sorted(weights)"
   ]
  },
  {
   "cell_type": "code",
   "execution_count": 54,
   "metadata": {
    "collapsed": false
   },
   "outputs": [
    {
     "data": {
      "text/plain": [
       "[1873, 12710, 37164, 40882, 57802]"
      ]
     },
     "execution_count": 54,
     "metadata": {},
     "output_type": "execute_result"
    }
   ],
   "source": [
    "weights[:5]"
   ]
  },
  {
   "cell_type": "code",
   "execution_count": 55,
   "metadata": {
    "collapsed": true
   },
   "outputs": [],
   "source": [
    "## A utility to swap in place two array items\n",
    "def swap(arr, i, j):\n",
    "    temp = arr[i]\n",
    "    arr[i] = arr[j]\n",
    "    arr[j] = temp"
   ]
  },
  {
   "cell_type": "code",
   "execution_count": 56,
   "metadata": {
    "collapsed": true
   },
   "outputs": [],
   "source": [
    "def bubbleUp(array, newIndex):\n",
    "    while newIndex > 0:\n",
    "        oldIndex = (newIndex + 1) // 2 - 1\n",
    "        if array[oldIndex] < array[newIndex]:\n",
    "            return\n",
    "        swap(array, newIndex, oldIndex)\n",
    "        newIndex = oldIndex"
   ]
  },
  {
   "cell_type": "code",
   "execution_count": 57,
   "metadata": {
    "collapsed": true
   },
   "outputs": [],
   "source": [
    "def bubbleDown(array, newIndex=0):\n",
    "    # default newIndex to 0 for when the item to bubble down has just been swapped from end of array to start\n",
    "    leftChild = (newIndex + 1) * 2 - 1 # left child of newIndex\n",
    "    while leftChild < len(array):\n",
    "        minChild = leftChild + 1  # right child of newIndex\n",
    "        if minChild == len(array):  # rare case where the bubbleDown has reached a final, left child without sibling\n",
    "            if array[newIndex] < array[leftChild]: return\n",
    "            else:\n",
    "                swap(array, leftChild, newIndex)\n",
    "                return\n",
    "        if array[leftChild] < array[minChild]:\n",
    "            minChild = leftChild\n",
    "        if array[newIndex] < array[minChild]:\n",
    "            return\n",
    "        swap(array, newIndex, minChild)\n",
    "        newIndex = minChild\n",
    "        leftChild = (newIndex + 1) * 2 - 1"
   ]
  },
  {
   "cell_type": "code",
   "execution_count": 30,
   "metadata": {
    "collapsed": true
   },
   "outputs": [],
   "source": [
    "def getMin(minHeap):\n",
    "    h = len(minHeap)\n",
    "    swap(minHeap, 0, h-1)\n",
    "    minNode = minHeap.pop()\n",
    "    bubbleDown(heap)\n",
    "    return minNode"
   ]
  },
  {
   "cell_type": "code",
   "execution_count": 25,
   "metadata": {
    "collapsed": false
   },
   "outputs": [],
   "source": [
    "def merge(t1, t2):\n",
    "    '''\n",
    "    arguments are 3-tuples representing merged subtrees, and comprising a weight, \n",
    "    a min number of bits from root to leaf, and a max number of bits from root to leaf\n",
    "    '''\n",
    "    return (t1[0] + t2[0], min(t1[1], t2[1]) + 1, max(t1[2], t2[2]) + 1)"
   ]
  },
  {
   "cell_type": "code",
   "execution_count": 26,
   "metadata": {
    "collapsed": false
   },
   "outputs": [
    {
     "data": {
      "text/plain": [
       "(39, 1, 3)"
      ]
     },
     "execution_count": 26,
     "metadata": {},
     "output_type": "execute_result"
    }
   ],
   "source": [
    "merge((14, 0, 0), (25, 1, 2))"
   ]
  },
  {
   "cell_type": "code",
   "execution_count": 58,
   "metadata": {
    "collapsed": false
   },
   "outputs": [],
   "source": [
    "# Use a min heap to keep track of merged symbols\n",
    "weights = [(w, 0, 0) for w in weights]   ## add min and max merges of node as 2nd and 3rd elements of tuples\n",
    "heap = [merge(weights[0], weights[1])]   ## keep track of merged weights and its min and max number of merges in this minHeap\n",
    "i = 2   ## iterate through remaining weight list using this index\n",
    "while i < n:  ## merge all individual weights into nodes in a heap\n",
    "    ## Find the 2 lightest nodes, min1 and min2, either at index i of weights or at top of minHeap of merged nodes\n",
    "    if weights[i] < heap[0]:\n",
    "        min1 = weights[i]\n",
    "        i += 1\n",
    "    else:\n",
    "        min1 = getMin(heap)\n",
    "    if not heap:  ## just for when there was only 1 node left on heap\n",
    "        min2 = weights[i]\n",
    "        i += 1\n",
    "    elif i == n:  # just for when min1 was the last element in weights\n",
    "        min2 = getMin(heap)\n",
    "    elif weights[i] < heap[0]:\n",
    "        min2 = weights[i]\n",
    "        i += 1\n",
    "    else:\n",
    "        min2 = getMin(heap)\n",
    "        \n",
    "    heap.append(merge(min1, min2))\n",
    "    bubbleUp(heap, len(heap)-1)\n",
    "    \n",
    "while len(heap) > 1:   ## after individual weights have all been merged, continue merging heap nodes\n",
    "    min1 = getMin(heap)\n",
    "    min2 = getMin(heap)\n",
    "    heap.append(merge(min1, min2))\n",
    "    bubbleUp(heap, len(heap)-1)\n",
    "        \n",
    "    "
   ]
  },
  {
   "cell_type": "code",
   "execution_count": 59,
   "metadata": {
    "collapsed": false
   },
   "outputs": [
    {
     "data": {
      "text/plain": [
       "[(4990911370, 9, 19)]"
      ]
     },
     "execution_count": 59,
     "metadata": {},
     "output_type": "execute_result"
    }
   ],
   "source": [
    "heap   ## 2nd and 3rd elements of remaining super-tuple should be assgmt answers"
   ]
  },
  {
   "cell_type": "markdown",
   "metadata": {},
   "source": [
    "## Now for some Max Wt Indep Set Dynamic Programming action"
   ]
  },
  {
   "cell_type": "code",
   "execution_count": 60,
   "metadata": {
    "collapsed": true
   },
   "outputs": [],
   "source": [
    "# Get the full nodepath into the notebook\n",
    "with open('Downloads/algo2maxWeightIS.txt') as f:\n",
    "    n = int(f.readline().strip('\\n'))\n",
    "    nodes = f.readlines()"
   ]
  },
  {
   "cell_type": "code",
   "execution_count": 61,
   "metadata": {
    "collapsed": false
   },
   "outputs": [
    {
     "data": {
      "text/plain": [
       "1000"
      ]
     },
     "execution_count": 61,
     "metadata": {},
     "output_type": "execute_result"
    }
   ],
   "source": [
    "n"
   ]
  },
  {
   "cell_type": "code",
   "execution_count": 62,
   "metadata": {
    "collapsed": false
   },
   "outputs": [
    {
     "data": {
      "text/plain": [
       "'4962786\\n'"
      ]
     },
     "execution_count": 62,
     "metadata": {},
     "output_type": "execute_result"
    }
   ],
   "source": [
    "nodes[0]  #remember to index this as 1 in the list, as per the question definition, or subtract one from question indices"
   ]
  },
  {
   "cell_type": "markdown",
   "metadata": {},
   "source": [
    "Your task in this problem is to run the dynamic programming algorithm (and the reconstruction procedure) from lecture on this data set. The question is: of the vertices 1, 2, 3, 4, 17, 117, 517, and 997, which ones belong to the maximum-weight independent set? (By \"vertex 1\" we mean the first vertex of the graph---there is no vertex 0.) In the box below, enter a 8-bit string, where the ith bit should be 1 if the ith of these 8 vertices is in the maximum-weight independent set, and 0 otherwise."
   ]
  },
  {
   "cell_type": "code",
   "execution_count": 65,
   "metadata": {
    "collapsed": false
   },
   "outputs": [],
   "source": [
    "nodes = [int(node.strip('\\n')) for node in nodes]"
   ]
  },
  {
   "cell_type": "code",
   "execution_count": 66,
   "metadata": {
    "collapsed": false
   },
   "outputs": [
    {
     "data": {
      "text/plain": [
       "[4962786, 6395702, 5601590, 3803402]"
      ]
     },
     "execution_count": 66,
     "metadata": {},
     "output_type": "execute_result"
    }
   ],
   "source": [
    "nodes[:4]"
   ]
  },
  {
   "cell_type": "code",
   "execution_count": 67,
   "metadata": {
    "collapsed": true
   },
   "outputs": [],
   "source": [
    "best = [nodes[0], max(nodes[0], nodes[1])]  ## get the best list started for easier indexing in main loop\n",
    "for i in range(2,n):\n",
    "    best.append(max(nodes[i] + best[i-2], best[i-1]))"
   ]
  },
  {
   "cell_type": "code",
   "execution_count": 68,
   "metadata": {
    "collapsed": false
   },
   "outputs": [
    {
     "name": "stdout",
     "output_type": "stream",
     "text": [
      "[2947394128, 2948442421, 2950698717, 2955353732]\n",
      "[7546051, 8594344, 3304589, 6911311]\n"
     ]
    }
   ],
   "source": [
    "print(best[-4:])\n",
    "print(nodes[-4:])"
   ]
  },
  {
   "cell_type": "code",
   "execution_count": 71,
   "metadata": {
    "collapsed": true
   },
   "outputs": [],
   "source": [
    "## Reconstruct the path\n",
    "answer = []\n",
    "i = n-1  ## final index\n",
    "while i > 0:\n",
    "    if best[i] > best[i-1]:   # i-th element was included\n",
    "        answer.append(i)\n",
    "        i -= 2   # need to skip the previous element by definition of independent set\n",
    "    else:\n",
    "        i -= 1\n",
    "if i==0:\n",
    "    answer.append(i)   ## 1-th element was not included, so include 0-th and terminate"
   ]
  },
  {
   "cell_type": "code",
   "execution_count": 72,
   "metadata": {
    "collapsed": false
   },
   "outputs": [
    {
     "data": {
      "text/plain": [
       "459"
      ]
     },
     "execution_count": 72,
     "metadata": {},
     "output_type": "execute_result"
    }
   ],
   "source": [
    "len(answer)"
   ]
  },
  {
   "cell_type": "code",
   "execution_count": 73,
   "metadata": {
    "collapsed": false
   },
   "outputs": [
    {
     "name": "stdout",
     "output_type": "stream",
     "text": [
      "[7, 4, 2, 0]\n",
      "[999, 997, 994, 992]\n"
     ]
    }
   ],
   "source": [
    "print(answer[-4:])\n",
    "print(answer[:4])"
   ]
  },
  {
   "cell_type": "code",
   "execution_count": 77,
   "metadata": {
    "collapsed": false
   },
   "outputs": [
    {
     "data": {
      "text/plain": [
       "[True, False, True, False, False, True, True, False]"
      ]
     },
     "execution_count": 77,
     "metadata": {},
     "output_type": "execute_result"
    }
   ],
   "source": [
    "select = [1, 2, 3, 4, 17, 117, 517, 997]  ## assgmt question\n",
    "select = [s-1 in answer for s in select]\n",
    "select   ## hopefully assgmt answer\n"
   ]
  },
  {
   "cell_type": "code",
   "execution_count": null,
   "metadata": {
    "collapsed": true
   },
   "outputs": [],
   "source": []
  }
 ],
 "metadata": {
  "kernelspec": {
   "display_name": "Python 3",
   "language": "python",
   "name": "python3"
  },
  "language_info": {
   "codemirror_mode": {
    "name": "ipython",
    "version": 3
   },
   "file_extension": ".py",
   "mimetype": "text/x-python",
   "name": "python",
   "nbconvert_exporter": "python",
   "pygments_lexer": "ipython3",
   "version": "3.6.0"
  }
 },
 "nbformat": 4,
 "nbformat_minor": 2
}
