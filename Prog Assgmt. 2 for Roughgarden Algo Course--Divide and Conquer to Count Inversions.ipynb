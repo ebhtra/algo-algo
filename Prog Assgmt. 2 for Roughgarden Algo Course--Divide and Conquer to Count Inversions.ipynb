{
 "cells": [
  {
   "cell_type": "markdown",
   "metadata": {},
   "source": [
    "# Implement the algorithm for counting the number of inversions in a large array of integers.  The problem file has 100K integers."
   ]
  },
  {
   "cell_type": "markdown",
   "metadata": {},
   "source": [
    "### Will use the divide and conquer technique shown in lecture videos, which piggybacks on Mergesort"
   ]
  },
  {
   "cell_type": "code",
   "execution_count": 1,
   "metadata": {
    "collapsed": true
   },
   "outputs": [],
   "source": [
    "# Get the numbers into the notebook\n",
    "\n",
    "with open('Downloads/_bcb5c6658381416d19b01bfc1d3993b5_IntegerArray.txt') as f:\n",
    "    scrambled = f.readlines()\n",
    "    \n",
    "# Downloaded from the following link:    \n",
    "# https://d3c33hcgiwev3.cloudfront.net/_bcb5c6658381416d19b01bfc1d3993b5_IntegerArray.txt?Expires=1512432000&Signature=O3clKxguvqor3j4EGd~RGDbRc6Vl~1NbtCRWawesFoSMFi00Yb7pNf44DOFwIGiw1gthwV2Ytoy79s4I9Vczwqi6vvkt4JTOtovKS5eq9phoSpSFdBqBMHtojvnw2yQpBc2VNULxO0jJwEb8f8zsezNewt6yst2GLpOoHwFPkc0_&Key-Pair-Id=APKAJLTNE6QMUY6HBC5A"
   ]
  },
  {
   "cell_type": "code",
   "execution_count": 3,
   "metadata": {
    "collapsed": false
   },
   "outputs": [
    {
     "data": {
      "text/plain": [
       "100000"
      ]
     },
     "execution_count": 3,
     "metadata": {},
     "output_type": "execute_result"
    }
   ],
   "source": [
    "len(scrambled)"
   ]
  },
  {
   "cell_type": "code",
   "execution_count": 4,
   "metadata": {
    "collapsed": false
   },
   "outputs": [
    {
     "data": {
      "text/plain": [
       "100000"
      ]
     },
     "execution_count": 4,
     "metadata": {},
     "output_type": "execute_result"
    }
   ],
   "source": [
    "len(set(scrambled))  ## check if all are unique"
   ]
  },
  {
   "cell_type": "code",
   "execution_count": 5,
   "metadata": {
    "collapsed": false
   },
   "outputs": [
    {
     "name": "stdout",
     "output_type": "stream",
     "text": [
      "99999\n",
      " 1\n",
      "\n"
     ]
    }
   ],
   "source": [
    "print(max(scrambled), min(scrambled))  ## hmmm, missing a number?"
   ]
  },
  {
   "cell_type": "code",
   "execution_count": 13,
   "metadata": {
    "collapsed": false
   },
   "outputs": [
    {
     "data": {
      "text/plain": [
       "str"
      ]
     },
     "execution_count": 13,
     "metadata": {},
     "output_type": "execute_result"
    }
   ],
   "source": [
    "type(scrambled[333])"
   ]
  },
  {
   "cell_type": "code",
   "execution_count": 14,
   "metadata": {
    "collapsed": false
   },
   "outputs": [],
   "source": [
    "scrambled = [int(i) for i in scrambled]"
   ]
  },
  {
   "cell_type": "code",
   "execution_count": 15,
   "metadata": {
    "collapsed": false
   },
   "outputs": [
    {
     "name": "stdout",
     "output_type": "stream",
     "text": [
      "100000 1\n"
     ]
    }
   ],
   "source": [
    "print(max(scrambled), min(scrambled)) "
   ]
  },
  {
   "cell_type": "code",
   "execution_count": 24,
   "metadata": {
    "collapsed": true
   },
   "outputs": [],
   "source": [
    "def countInversions(numList):\n",
    "    n = len(numList)\n",
    "    # Base case:\n",
    "    if n < 2:\n",
    "        return 0, numList\n",
    "    # Recursive case:\n",
    "    leftTotal, leftSorted = countInversions(numList[:n//2])  # divide the argument into left and right halves to recurse\n",
    "    rightTotal, rightSorted = countInversions(numList[n//2:])\n",
    "    total = leftTotal + rightTotal  # The number of inversions from all recursive levels below this one\n",
    "    ordered = []  # Build a sorted, merged list from the left and right halves to return to the next level up\n",
    "    l,r = n//2, n-n//2  # lengths of left and right halves\n",
    "    i,j = 0,0  # counters for the merge procedure\n",
    "    while (i < l and j < r):\n",
    "        if leftSorted[i] > rightSorted[j]:\n",
    "            ordered.append(rightSorted[j])\n",
    "            total += l-i    # all the remaining ints on the left half are inverted to the lowest one on the right\n",
    "            j += 1\n",
    "        else:\n",
    "            ordered.append(leftSorted[i])\n",
    "            i += 1     # there was no inversion at this iteration\n",
    "    # since the while loop ended, one half is done and the other is not, so finish it off\n",
    "    ordered = ordered + leftSorted[i:] + rightSorted[j:]  # all inversions have already been counted\n",
    "    \n",
    "    return total, ordered\n",
    "    "
   ]
  },
  {
   "cell_type": "code",
   "execution_count": 29,
   "metadata": {
    "collapsed": false
   },
   "outputs": [
    {
     "data": {
      "text/plain": [
       "(14, [0, 1, 2, 3, 3, 4, 5])"
      ]
     },
     "execution_count": 29,
     "metadata": {},
     "output_type": "execute_result"
    }
   ],
   "source": [
    "liz = [3,4,5,2,1,0,3]\n",
    "countInversions(liz)"
   ]
  },
  {
   "cell_type": "code",
   "execution_count": 30,
   "metadata": {
    "collapsed": false
   },
   "outputs": [
    {
     "data": {
      "text/plain": [
       "(0, [4, 4, 4, 4])"
      ]
     },
     "execution_count": 30,
     "metadata": {},
     "output_type": "execute_result"
    }
   ],
   "source": [
    "liszt = [4,4,4,4]\n",
    "countInversions(liszt)"
   ]
  },
  {
   "cell_type": "code",
   "execution_count": 31,
   "metadata": {
    "collapsed": false
   },
   "outputs": [
    {
     "data": {
      "text/plain": [
       "2407905288"
      ]
     },
     "execution_count": 31,
     "metadata": {},
     "output_type": "execute_result"
    }
   ],
   "source": [
    "# Answer the quiz question (without printing out the long, sorted list)\n",
    "a,_ = countInversions(scrambled)\n",
    "a"
   ]
  },
  {
   "cell_type": "code",
   "execution_count": null,
   "metadata": {
    "collapsed": true
   },
   "outputs": [],
   "source": []
  }
 ],
 "metadata": {
  "kernelspec": {
   "display_name": "Python 3",
   "language": "python",
   "name": "python3"
  },
  "language_info": {
   "codemirror_mode": {
    "name": "ipython",
    "version": 3
   },
   "file_extension": ".py",
   "mimetype": "text/x-python",
   "name": "python",
   "nbconvert_exporter": "python",
   "pygments_lexer": "ipython3",
   "version": "3.6.0"
  }
 },
 "nbformat": 4,
 "nbformat_minor": 2
}
