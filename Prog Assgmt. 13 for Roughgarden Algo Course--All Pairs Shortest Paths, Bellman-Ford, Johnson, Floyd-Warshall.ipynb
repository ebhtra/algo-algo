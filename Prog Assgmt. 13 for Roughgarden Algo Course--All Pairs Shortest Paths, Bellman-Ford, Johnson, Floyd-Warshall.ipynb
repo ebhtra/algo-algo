{
 "cells": [
  {
   "cell_type": "markdown",
   "metadata": {},
   "source": [
    "### Report shortest shortest path out of 3 graphs with possibly negative cycles"
   ]
  },
  {
   "cell_type": "code",
   "execution_count": 35,
   "metadata": {
    "collapsed": true
   },
   "outputs": [],
   "source": [
    "## Get graphs into notebook\n",
    "with open('Downloads/algo2_g1.txt') as f:\n",
    "    graph1 = f.readlines()\n",
    "with open('Downloads/algo2_g2.txt') as f:\n",
    "    graph2 = f.readlines()\n",
    "with open('Downloads/algo2_g3.txt') as f:\n",
    "    graph3 = f.readlines()"
   ]
  },
  {
   "cell_type": "code",
   "execution_count": 36,
   "metadata": {
    "collapsed": false
   },
   "outputs": [
    {
     "name": "stdout",
     "output_type": "stream",
     "text": [
      "['1000 47978\\n', '1 14 6\\n', '1 25 47\\n']\n",
      "['1000 47978\\n', '1 2 2\\n', '1 26 28\\n']\n",
      "['1000 47978\\n', '1 8 36\\n', '1 33 29\\n']\n"
     ]
    }
   ],
   "source": [
    "print(graph1[:3])\n",
    "print(graph2[:3])\n",
    "print(graph3[:3])"
   ]
  },
  {
   "cell_type": "markdown",
   "metadata": {},
   "source": [
    "So all graphs have same density: 1000 nodes and ~48K directed edges with weights.\n"
   ]
  },
  {
   "cell_type": "code",
   "execution_count": 37,
   "metadata": {
    "collapsed": true
   },
   "outputs": [],
   "source": [
    "## Make adjacency list representations of all graphs, with tails as keys, and sets of tuples\n",
    "###                                                  (heads,  edge weights) as values\n",
    "\n",
    "def graphDict(graphlist):\n",
    "    detes = graphlist[0].strip('\\n').split()\n",
    "    n, m = int(detes[0]), int(detes[1])\n",
    "    gDict = dict()\n",
    "    for edge in graphlist[1:]:\n",
    "        edge = edge.strip('\\n').split()\n",
    "        if int(edge[0]) in gDict:\n",
    "            gDict[int(edge[0])].add((int(edge[1]), int(edge[2])))\n",
    "        else:\n",
    "            gDict[int(edge[0])] = {(int(edge[1]), int(edge[2]))}\n",
    "    return gDict"
   ]
  },
  {
   "cell_type": "code",
   "execution_count": 38,
   "metadata": {
    "collapsed": false
   },
   "outputs": [],
   "source": [
    "gd1 = graphDict(graph1)\n",
    "gd2 = graphDict(graph2)\n",
    "gd3 = graphDict(graph3)"
   ]
  },
  {
   "cell_type": "code",
   "execution_count": 39,
   "metadata": {
    "collapsed": false
   },
   "outputs": [
    {
     "name": "stdout",
     "output_type": "stream",
     "text": [
      "1000 1000 1000\n"
     ]
    }
   ],
   "source": [
    "print(len(gd1), len(gd2), len(gd3))"
   ]
  },
  {
   "cell_type": "code",
   "execution_count": 40,
   "metadata": {
    "collapsed": false,
    "scrolled": true
   },
   "outputs": [
    {
     "data": {
      "text/plain": [
       "{(14, 6),\n",
       " (25, 47),\n",
       " (70, 22),\n",
       " (82, 31),\n",
       " (98, 17),\n",
       " (134, 39),\n",
       " (146, 7),\n",
       " (189, 44),\n",
       " (192, 20),\n",
       " (261, 38),\n",
       " (283, 30),\n",
       " (340, 21),\n",
       " (380, 37),\n",
       " (381, 24),\n",
       " (403, 3),\n",
       " (422, 40),\n",
       " (423, 40),\n",
       " (425, 13),\n",
       " (518, 23),\n",
       " (520, 38),\n",
       " (547, 5),\n",
       " (558, 24),\n",
       " (578, 32),\n",
       " (601, 42),\n",
       " (604, 37),\n",
       " (640, 38),\n",
       " (648, 18),\n",
       " (699, 48),\n",
       " (707, 10),\n",
       " (712, 9),\n",
       " (723, 47),\n",
       " (729, 26),\n",
       " (730, 18),\n",
       " (769, 49),\n",
       " (793, 32),\n",
       " (830, 15),\n",
       " (841, 50),\n",
       " (852, 16),\n",
       " (874, 39),\n",
       " (880, 9),\n",
       " (890, 6),\n",
       " (897, 23),\n",
       " (917, 19),\n",
       " (949, 22),\n",
       " (988, 43),\n",
       " (993, 48)}"
      ]
     },
     "execution_count": 40,
     "metadata": {},
     "output_type": "execute_result"
    }
   ],
   "source": [
    "gd1[1]"
   ]
  },
  {
   "cell_type": "code",
   "execution_count": 41,
   "metadata": {
    "collapsed": false
   },
   "outputs": [
    {
     "name": "stdout",
     "output_type": "stream",
     "text": [
      "1000 1\n"
     ]
    }
   ],
   "source": [
    "keyset = {k for k in gd1}\n",
    "print(max(keyset), min(keyset))"
   ]
  },
  {
   "cell_type": "markdown",
   "metadata": {},
   "source": [
    "So they were nice enough to label the nodes consecutively from 1 to 1000.  That may help."
   ]
  },
  {
   "cell_type": "markdown",
   "metadata": {},
   "source": [
    "### Start with Bellman-Ford, since will need it for Johnson anyways"
   ]
  },
  {
   "cell_type": "code",
   "execution_count": 42,
   "metadata": {
    "collapsed": false
   },
   "outputs": [],
   "source": [
    "def bellmanFord(graphDict, source):\n",
    "    '''\n",
    "    Input is in adjacency form, a dictionary of tail nodes with their corresponding\n",
    "    heads and edge weights as tuples in sets.\n",
    "    \n",
    "    Assuming also here that nodes are labeled consecutively from 1 to n.\n",
    "    \n",
    "    Output is the list of shortest paths from the source to each node.    \n",
    "    If there are negative cycles, this function will instead output that fact.\n",
    "    '''\n",
    "    ## make a reverse dict with heads as keys and sets of (tail, weight) as values\n",
    "    revDict = {}\n",
    "    for tail in graphDict:\n",
    "        for (head, weight) in graphDict[tail]:\n",
    "            if head in revDict:\n",
    "                revDict[head].add((tail, weight))\n",
    "            else:\n",
    "                revDict[head] = {(tail, weight)}\n",
    "                \n",
    "    ## init a list of lists for the distance matrix, and loop through nodes and i-values            \n",
    "    n = max(graphDict.keys())\n",
    "    L = [[float('inf') for _ in range(n+1)]]  ## start with every node unreachable using 0 (L[0]) nodes along a path\n",
    "    L[0][source] = 0   ## make source reachable using 0 nodes along a shortest path\n",
    "   \n",
    "    for i in range(1,n):   ## never will need more than n-1 nodes along a shortest path unless negative cycles\n",
    "        cutoff = True  ## terminate early if this flag doesn't change during this iteration\n",
    "        shortest = [float('inf')]    ## build the new row starting with a non-existent '0' node for easier indexing\n",
    "        for v in range(1,n+1):   ## find new shortest path to each v with one more path node allowed\n",
    "            old = L[i-1][v]\n",
    "            new = min([L[i-1][u] + dist for (u, dist) in revDict[v]])\n",
    "            if new < old:\n",
    "                cutoff = False\n",
    "                shortest.append(new)\n",
    "            else:\n",
    "                shortest.append(old)\n",
    "        if cutoff:\n",
    "            return shortest\n",
    "        L.append(shortest)\n",
    "        \n",
    "    ## Check for negative cycles\n",
    "    for v in range(1,n+1):   ## if shortest path changes for any v now, return 'negative cycle in graph'\n",
    "        old = L[i-1][v]\n",
    "        new = min([L[i-1][u] + dist for (u, dist) in revDict[v]])\n",
    "        if new < old:\n",
    "            return 'negative cycle in graph'\n",
    "    return shortest\n",
    "\n",
    "\n",
    "        \n",
    "    "
   ]
  },
  {
   "cell_type": "code",
   "execution_count": 7,
   "metadata": {
    "collapsed": false
   },
   "outputs": [],
   "source": [
    "paths = bellmanFord(gd1, 1)  ## test graph1 with source=1    ======> TAKES LIKE 15 SECS JUST FOR ONE SOURCE"
   ]
  },
  {
   "cell_type": "code",
   "execution_count": 8,
   "metadata": {
    "collapsed": false
   },
   "outputs": [
    {
     "name": "stdout",
     "output_type": "stream",
     "text": [
      "negative cycle in graph\n"
     ]
    }
   ],
   "source": [
    "if type(paths)==str:\n",
    "    print(paths)"
   ]
  },
  {
   "cell_type": "code",
   "execution_count": 9,
   "metadata": {
    "collapsed": true
   },
   "outputs": [],
   "source": [
    "paths = bellmanFord(gd2, 1)  ## test graph2 with source=1"
   ]
  },
  {
   "cell_type": "code",
   "execution_count": 10,
   "metadata": {
    "collapsed": false
   },
   "outputs": [
    {
     "name": "stdout",
     "output_type": "stream",
     "text": [
      "negative cycle in graph\n"
     ]
    }
   ],
   "source": [
    "if type(paths)==str:\n",
    "    print(paths)"
   ]
  },
  {
   "cell_type": "code",
   "execution_count": 43,
   "metadata": {
    "collapsed": true
   },
   "outputs": [],
   "source": [
    "paths = bellmanFord(gd3, 1)  ## test graph3 with source=1"
   ]
  },
  {
   "cell_type": "code",
   "execution_count": 44,
   "metadata": {
    "collapsed": true
   },
   "outputs": [],
   "source": [
    "if type(paths)==str:\n",
    "    print(paths)"
   ]
  },
  {
   "cell_type": "code",
   "execution_count": 43,
   "metadata": {
    "collapsed": false
   },
   "outputs": [
    {
     "name": "stdout",
     "output_type": "stream",
     "text": [
      "-19\n"
     ]
    }
   ],
   "source": [
    "## OK, no neg cycles for graph3, at least reachable from source=1.  So try all sources.  Could take awhile. About 5-6 min as it turned out\n",
    "result = float('inf')\n",
    "for i in range(1, 1001):\n",
    "    paths = bellmanFord(gd3, i)\n",
    "    if type(paths)==str:\n",
    "        print(paths)\n",
    "        break\n",
    "    shortest = min(paths)\n",
    "    if shortest < result:\n",
    "        result = shortest\n",
    "print(result)"
   ]
  },
  {
   "cell_type": "markdown",
   "metadata": {},
   "source": [
    "### Since Bellman-Ford and Dijkstra's are now implemented, let's try Johnson's for time comparison"
   ]
  },
  {
   "cell_type": "code",
   "execution_count": 45,
   "metadata": {
    "collapsed": true
   },
   "outputs": [],
   "source": [
    "## modify Bellman-Ford to get Johnson weights\n",
    "def johnsonWeights(graphDict):\n",
    "    '''\n",
    "    Input is an adjacency set dict:\n",
    "    Keys are tails of directed edges, and values are sets of (head, dist) tuples.\n",
    "    Assumed is a node labeling of consecutive 1 to n, for the n nodes in the graph.\n",
    "    \n",
    "    Output is a list of Johnson distances for each node.\n",
    "    '''\n",
    "    ## First add the imagined source node = n+1, with 0 distance to every other node\n",
    "    fakeSource = len(graphDict)+1  ## will label it n+1, rather than 0, for easier indexing in bellman routine\n",
    "    gDict = graphDict.copy()\n",
    "    gDict[fakeSource] = {(v, 0) for v in gDict}\n",
    "    gDict[fakeSource].add((fakeSource, 0))  ## need this self edge to make reverse dict work in bellman routine\n",
    "    \n",
    "    return bellmanFord(gDict, fakeSource)"
   ]
  },
  {
   "cell_type": "code",
   "execution_count": 46,
   "metadata": {
    "collapsed": false
   },
   "outputs": [],
   "source": [
    "## test on gd3\n",
    "jw = johnsonWeights(gd3)"
   ]
  },
  {
   "cell_type": "code",
   "execution_count": 47,
   "metadata": {
    "collapsed": false
   },
   "outputs": [
    {
     "data": {
      "text/plain": [
       "0"
      ]
     },
     "execution_count": 47,
     "metadata": {},
     "output_type": "execute_result"
    }
   ],
   "source": [
    "max(jw[1:])  ## hopefully 0, after disregarding nonexistent 0 node used for index padding"
   ]
  },
  {
   "cell_type": "code",
   "execution_count": 48,
   "metadata": {
    "collapsed": false
   },
   "outputs": [
    {
     "data": {
      "text/plain": [
       "-19"
      ]
     },
     "execution_count": 48,
     "metadata": {},
     "output_type": "execute_result"
    }
   ],
   "source": [
    "min(jw)   ## turns out to be the shortest shortest path number too"
   ]
  },
  {
   "cell_type": "code",
   "execution_count": 49,
   "metadata": {
    "collapsed": true
   },
   "outputs": [],
   "source": [
    "jwGraph = {tail:{(head, dist+jw[tail]-jw[head]) for (head,dist) in gd3[tail]}for tail in gd3}"
   ]
  },
  {
   "cell_type": "code",
   "execution_count": 50,
   "metadata": {
    "collapsed": true
   },
   "outputs": [],
   "source": [
    "\"\"\"\n",
    "This routine takes around 45 secs for gd3\n",
    "\"\"\"\n",
    "\n",
    "winner = 0  ## there's a negative edge in the graph so one pair s-->t has less than this upper bound\n",
    "for source in jwGraph:\n",
    "    graphHeap, locs, attached, unattached = heapUp(jwGraph, source)\n",
    "    numNodes = len(jwGraph)\n",
    "    distList = [float('inf') for _ in range(numNodes + 1)] \n",
    "    distList[source] = 0\n",
    "    while graphHeap:\n",
    "        swap(graphHeap, 0, -1, locs)\n",
    "        newEdge = graphHeap.pop()\n",
    "        distList[newEdge[0]] = newEdge[1]\n",
    "        attached.add(newEdge[0])\n",
    "        unattached.remove(newEdge[0])\n",
    "        bubbleDown(graphHeap, locList=locs)   # since the previous last element was swapped into the removed min node's spot to maintain shape\n",
    "        ## Now rescore any new crossing edges and bubble them up, since scores can only go down\n",
    "        for otherEnd in jwGraph[newEdge[0]]:\n",
    "            if otherEnd[0] in unattached:\n",
    "                if newEdge[1] + otherEnd[1] < graphHeap[locs[otherEnd[0]]][1]:\n",
    "                    graphHeap[locs[otherEnd[0]]] = (otherEnd[0], newEdge[1] + otherEnd[1])\n",
    "                    bubbleUp(graphHeap, newIndex=locs[otherEnd[0]], locList=locs)\n",
    "\n",
    "\n",
    "    ## Back out the johnson weights for each destination vertex in the distList\n",
    "    distList = [distList[dest]+jw[dest]-jw[source] for dest, _ in enumerate(distList)]\n",
    "    shortestPath = min(distList[1:])\n",
    "    if shortestPath < winner:\n",
    "        winner = shortestPath"
   ]
  },
  {
   "cell_type": "code",
   "execution_count": 51,
   "metadata": {
    "collapsed": false
   },
   "outputs": [
    {
     "data": {
      "text/plain": [
       "-19"
      ]
     },
     "execution_count": 51,
     "metadata": {},
     "output_type": "execute_result"
    }
   ],
   "source": [
    "winner"
   ]
  },
  {
   "cell_type": "markdown",
   "metadata": {},
   "source": [
    "## Now how about that large graph--"
   ]
  },
  {
   "cell_type": "code",
   "execution_count": 44,
   "metadata": {
    "collapsed": true
   },
   "outputs": [],
   "source": [
    "with open('Downloads/algo2_largegraph.txt') as f:\n",
    "    graphlist = f.readlines()"
   ]
  },
  {
   "cell_type": "code",
   "execution_count": 45,
   "metadata": {
    "collapsed": false
   },
   "outputs": [
    {
     "data": {
      "text/plain": [
       "'20000 999387\\n'"
      ]
     },
     "execution_count": 45,
     "metadata": {},
     "output_type": "execute_result"
    }
   ],
   "source": [
    "graphlist[0]"
   ]
  },
  {
   "cell_type": "code",
   "execution_count": 70,
   "metadata": {
    "collapsed": true
   },
   "outputs": [],
   "source": [
    "gdBig = graphDict(graphlist)"
   ]
  },
  {
   "cell_type": "markdown",
   "metadata": {},
   "source": [
    "Try Johnson weights for an all pairs shortest path attempt"
   ]
  },
  {
   "cell_type": "code",
   "execution_count": 71,
   "metadata": {
    "collapsed": true
   },
   "outputs": [],
   "source": [
    "jw = johnsonWeights(gdBig)"
   ]
  },
  {
   "cell_type": "code",
   "execution_count": 72,
   "metadata": {
    "collapsed": false
   },
   "outputs": [
    {
     "data": {
      "text/plain": [
       "-6"
      ]
     },
     "execution_count": 72,
     "metadata": {},
     "output_type": "execute_result"
    }
   ],
   "source": [
    "min(jw)   ## this actually appears to be the answer"
   ]
  },
  {
   "cell_type": "markdown",
   "metadata": {},
   "source": [
    "Now, pretending we don't know that's the answer, let's reweight all the graphDict edges with those jw's."
   ]
  },
  {
   "cell_type": "code",
   "execution_count": 74,
   "metadata": {
    "collapsed": false
   },
   "outputs": [],
   "source": [
    "jwGraph = {tail:{(head, dist+jw[tail]-jw[head]) for (head,dist) in gdBig[tail]}for tail in gdBig}"
   ]
  },
  {
   "cell_type": "markdown",
   "metadata": {},
   "source": [
    "### Heap 'class':"
   ]
  },
  {
   "cell_type": "code",
   "execution_count": 18,
   "metadata": {
    "collapsed": true
   },
   "outputs": [],
   "source": [
    "## First, a way to compare heap nodes by \"greedy dijkstra\" key.\n",
    "##  Seems like heap items will be in the form of (node, score). \n",
    "def shorter(edge1, edge2):\n",
    "    return edge1[-1] <= edge2[-1]\n",
    "\n",
    "## Next, a utility to swap in place two array items while maintaining a list of their locations in the array\n",
    "def swap(arr, i, j, locator=None):\n",
    "    if locator:\n",
    "        locator[arr[i][0]] = j\n",
    "        locator[arr[j][0]] = i\n",
    "    temp = arr[i]\n",
    "    arr[i] = arr[j]\n",
    "    arr[j] = temp\n",
    "    \n",
    "def bubbleUp(array, newIndex, locList=None):\n",
    "    while newIndex > 0:\n",
    "        oldIndex = (newIndex + 1) // 2 - 1\n",
    "        if shorter(array[oldIndex], array[newIndex]):\n",
    "            return\n",
    "        swap(array, newIndex, oldIndex, locList)\n",
    "        newIndex = oldIndex\n",
    "        \n",
    "def bubbleDown(array, newIndex=0, locList=None):\n",
    "    # default newIndex to 0 for when the item to bubble down has just been swapped from end of array to start\n",
    "    leftChild = (newIndex + 1) * 2 - 1 # left child of newIndex\n",
    "    while leftChild < len(array):\n",
    "        minChild = leftChild + 1  # right child of newIndex\n",
    "        if minChild == len(array):  # rare case where the bubbleDown has reached a final, left child without sibling\n",
    "            if shorter(array[newIndex], array[leftChild]): return\n",
    "            else:\n",
    "                swap(array, leftChild, newIndex, locList)\n",
    "                return\n",
    "        if shorter(array[leftChild], array[minChild]):\n",
    "            minChild = leftChild\n",
    "        if shorter(array[newIndex], array[minChild]):\n",
    "            return\n",
    "        swap(array, newIndex, minChild, locList)\n",
    "        newIndex = minChild\n",
    "        leftChild = (newIndex + 1) * 2 - 1"
   ]
  },
  {
   "cell_type": "markdown",
   "metadata": {},
   "source": [
    "Run Dijkstra's on each node as source, with johnson weights"
   ]
  },
  {
   "cell_type": "code",
   "execution_count": 19,
   "metadata": {
    "collapsed": true
   },
   "outputs": [],
   "source": [
    "def heapUp(graph, source): \n",
    "    ## Build the heap\n",
    "    attached = {source}\n",
    "    unattached = set(graph.keys()) - attached\n",
    "    heap = []\n",
    "    for edge in graph[source]:\n",
    "        i = len(heap)\n",
    "        heap.append(edge)\n",
    "        bubbleUp(heap, i)\n",
    "    for node in set(graph.keys()) - {t[0] for t in graph[source]} - attached:\n",
    "        heap.append((node, float('inf')))\n",
    "    ## Keep track of heap locations    \n",
    "    locs = [-1 for _ in range(len(graph)+1)]\n",
    "    for i, v in enumerate(heap):\n",
    "        locs[v[0]] = i\n",
    "    return heap, locs, attached, unattached "
   ]
  },
  {
   "cell_type": "code",
   "execution_count": 122,
   "metadata": {
    "collapsed": false
   },
   "outputs": [],
   "source": [
    "\"\"\"\n",
    "This routine takes a little over 1 second per source, so for the 20K node graph, maybe 6 hours.\n",
    "\"\"\"\n",
    "\n",
    "winner = 0  ## there's a negative edge in the graph so one pair s-->t has less than this upper bound\n",
    "for source in gdBig:\n",
    "    graphHeap, locs, attached, unattached = heapUp(jwGraph, source)\n",
    "    numNodes = len(gdBig)\n",
    "    distList = [float('inf') for _ in range(numNodes + 1)] \n",
    "    distList[source] = 0\n",
    "    while graphHeap:\n",
    "        swap(graphHeap, 0, -1, locs)\n",
    "        newEdge = graphHeap.pop()\n",
    "        distList[newEdge[0]] = newEdge[1]\n",
    "        attached.add(newEdge[0])\n",
    "        unattached.remove(newEdge[0])\n",
    "        bubbleDown(graphHeap, locList=locs)   # since the previous last element was swapped into the removed min node's spot to maintain shape\n",
    "        ## Now rescore any new crossing edges and bubble them up, since scores can only go down\n",
    "        for otherEnd in gdBig[newEdge[0]]:\n",
    "            if otherEnd[0] in unattached:\n",
    "                if newEdge[1] + otherEnd[1] < graphHeap[locs[otherEnd[0]]][1]:\n",
    "                    graphHeap[locs[otherEnd[0]]] = (otherEnd[0], newEdge[1] + otherEnd[1])\n",
    "                    bubbleUp(graphHeap, newIndex=locs[otherEnd[0]], locList=locs)\n",
    "\n",
    "\n",
    "    ## Back out the johnson weights for each destination vertex in the distList\n",
    "    distList = [distList[dest]+jw[source]-jw[dest] for dest, _ in enumerate(distList)]\n",
    "    shortestPath = min(distList[1:])\n",
    "    if shortestPath < winner:\n",
    "        winner = shortestPath"
   ]
  },
  {
   "cell_type": "code",
   "execution_count": 123,
   "metadata": {
    "collapsed": false
   },
   "outputs": [
    {
     "data": {
      "text/plain": [
       "-6"
      ]
     },
     "execution_count": 123,
     "metadata": {},
     "output_type": "execute_result"
    }
   ],
   "source": [
    "winner   ## well at least it works"
   ]
  },
  {
   "cell_type": "markdown",
   "metadata": {},
   "source": [
    "### Now can Floyd-Warshall solve it faster?  Maybe the smaller graphs but O(n^3) isn't going to fit 20K node graph into this computer"
   ]
  },
  {
   "cell_type": "markdown",
   "metadata": {},
   "source": [
    "Implement F-W just for practice:"
   ]
  },
  {
   "cell_type": "code",
   "execution_count": 125,
   "metadata": {
    "collapsed": true
   },
   "outputs": [],
   "source": [
    "def fw(graphDict):\n",
    "    ## run the dynamic routine for shortest paths using internal hops thru nodes 1-k for incrementally larger k's\n",
    "    n = len(graphDict)\n",
    "    oldK = [[float('inf') for s in range(n+1)] for t in range(n+1)]\n",
    "    for s in range(1,n+1):\n",
    "        oldK[s][s] = 0  ## all nodes reachable from self using k=0 intermediary nodes\n",
    "    for s in graphDict:\n",
    "        for (t,dist) in graphDict[s]:\n",
    "            oldK[s][t] = dist   ## all heads reachable from all tails with C(tail,head) cost using k=0 intermediary nodes\n",
    "    for k in range(1,n+1):\n",
    "        oldK = [[min(oldK[s][t], oldK[s][k] + oldK[k][t]) for t in range(n+1)] for s in range(n+1)]\n",
    "        \n",
    "    return oldK"
   ]
  },
  {
   "cell_type": "code",
   "execution_count": 124,
   "metadata": {
    "collapsed": false
   },
   "outputs": [
    {
     "data": {
      "text/plain": [
       "-19"
      ]
     },
     "execution_count": 124,
     "metadata": {},
     "output_type": "execute_result"
    }
   ],
   "source": [
    "sp3 = fw(graphDict(graph3))   ### takes like 9 min---blah\n",
    "for s in range(len(sp3)):\n",
    "    if sp3[s][s] < 0 :    ## check for negative cycles\n",
    "        print(sp3[s][s])\n",
    "min([min(path) for path in sp3]) "
   ]
  },
  {
   "cell_type": "code",
   "execution_count": null,
   "metadata": {
    "collapsed": true
   },
   "outputs": [],
   "source": [
    "bigFW = fw(gdBig)   ## TOO LONGGGGGGGG"
   ]
  },
  {
   "cell_type": "code",
   "execution_count": null,
   "metadata": {
    "collapsed": true
   },
   "outputs": [],
   "source": []
  },
  {
   "cell_type": "markdown",
   "metadata": {},
   "source": [
    "## Johnson's 1000 Dijkstras plus 1 Bellman-Ford take 45 seconds for gd3.  Vs. 6 minutes for 1000 B-F's, or 9 minutes for a Floyd-Warshall.  "
   ]
  },
  {
   "cell_type": "code",
   "execution_count": null,
   "metadata": {
    "collapsed": true
   },
   "outputs": [],
   "source": []
  }
 ],
 "metadata": {
  "kernelspec": {
   "display_name": "Python 3",
   "language": "python",
   "name": "python3"
  },
  "language_info": {
   "codemirror_mode": {
    "name": "ipython",
    "version": 3
   },
   "file_extension": ".py",
   "mimetype": "text/x-python",
   "name": "python",
   "nbconvert_exporter": "python",
   "pygments_lexer": "ipython3",
   "version": "3.6.0"
  }
 },
 "nbformat": 4,
 "nbformat_minor": 2
}
