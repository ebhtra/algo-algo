{
 "cells": [
  {
   "cell_type": "code",
   "execution_count": 167,
   "metadata": {
    "collapsed": true
   },
   "outputs": [],
   "source": [
    "## Get 200 rows into the notebook.  Data probably in strings.  First number each row is node ID. Connections follow.\n",
    "\n",
    "with open('Downloads/kargerMinCut.txt') as f:\n",
    "    graphRep = f.readlines()\n",
    "\n",
    "    \n",
    "## This was downloaded from the following link:  https://d18ky98rnyall9.cloudfront.net/_f370cd8b4d3482c940e4a57f489a200b_kargerMinCut.txt?Expires=1513036800&Signature=YkVC3SXIEBTI7mavVWT61aOcQ4~2bKGZ~ia8fzFxiDxOu8FozLhX26j6oz~vhb1UsFWDhlpkVUOZmZr1GoEPaxobVYmWLmIah7AWRtdkr7d8nAS4LkLr9zxdr16VzNpuHUbHOWX9R1UB5qNsB3twE2B4of0XAsZwrpSnYbGk1rQ_&Key-Pair-Id=APKAJLTNE6QMUY6HBC5A"
   ]
  },
  {
   "cell_type": "code",
   "execution_count": 168,
   "metadata": {
    "collapsed": false
   },
   "outputs": [
    {
     "data": {
      "text/plain": [
       "'1\\t37\\t79\\t164\\t155\\t32\\t87\\t39\\t113\\t15\\t18\\t78\\t175\\t140\\t200\\t4\\t160\\t97\\t191\\t100\\t91\\t20\\t69\\t198\\t196\\t\\n'"
      ]
     },
     "execution_count": 168,
     "metadata": {},
     "output_type": "execute_result"
    }
   ],
   "source": [
    "graphRep[0]"
   ]
  },
  {
   "cell_type": "code",
   "execution_count": 169,
   "metadata": {
    "collapsed": false
   },
   "outputs": [
    {
     "data": {
      "text/plain": [
       "list"
      ]
     },
     "execution_count": 169,
     "metadata": {},
     "output_type": "execute_result"
    }
   ],
   "source": [
    "type(graphRep)"
   ]
  },
  {
   "cell_type": "markdown",
   "metadata": {},
   "source": [
    "### Here is a dictionary built from the graph data, which turns out to be unnecessary for the purposes of this project.  All you need for the contraction function below is the list of edges.  Oh well."
   ]
  },
  {
   "cell_type": "code",
   "execution_count": 170,
   "metadata": {
    "collapsed": false
   },
   "outputs": [],
   "source": [
    "graphRep = {int(node[0]): {int(n) for n in node[1:]} for node in [line.strip('\\t\\n').split('\\t') for line in graphRep]}"
   ]
  },
  {
   "cell_type": "code",
   "execution_count": 192,
   "metadata": {
    "collapsed": false
   },
   "outputs": [
    {
     "data": {
      "text/plain": [
       "200"
      ]
     },
     "execution_count": 192,
     "metadata": {},
     "output_type": "execute_result"
    }
   ],
   "source": [
    "len(graphRep)\n"
   ]
  },
  {
   "cell_type": "code",
   "execution_count": 172,
   "metadata": {
    "collapsed": false,
    "scrolled": true
   },
   "outputs": [
    {
     "data": {
      "text/plain": [
       "{4,\n",
       " 15,\n",
       " 18,\n",
       " 20,\n",
       " 32,\n",
       " 37,\n",
       " 39,\n",
       " 69,\n",
       " 78,\n",
       " 79,\n",
       " 87,\n",
       " 91,\n",
       " 97,\n",
       " 100,\n",
       " 113,\n",
       " 140,\n",
       " 155,\n",
       " 160,\n",
       " 164,\n",
       " 175,\n",
       " 191,\n",
       " 196,\n",
       " 198,\n",
       " 200}"
      ]
     },
     "execution_count": 172,
     "metadata": {},
     "output_type": "execute_result"
    }
   ],
   "source": [
    "graphRep[1]"
   ]
  },
  {
   "cell_type": "code",
   "execution_count": 173,
   "metadata": {
    "collapsed": false
   },
   "outputs": [
    {
     "name": "stdout",
     "output_type": "stream",
     "text": [
      "200 1\n"
     ]
    }
   ],
   "source": [
    "print(max(graphRep.keys()), min(graphRep.keys()))"
   ]
  },
  {
   "cell_type": "code",
   "execution_count": 174,
   "metadata": {
    "collapsed": false
   },
   "outputs": [],
   "source": [
    "edgeList = [(node1, node2) for node1 in graphRep for node2 in graphRep[node1]]"
   ]
  },
  {
   "cell_type": "code",
   "execution_count": 188,
   "metadata": {
    "collapsed": false
   },
   "outputs": [
    {
     "data": {
      "text/plain": [
       "5034"
      ]
     },
     "execution_count": 188,
     "metadata": {},
     "output_type": "execute_result"
    }
   ],
   "source": [
    "len(edgeList)"
   ]
  },
  {
   "cell_type": "code",
   "execution_count": 189,
   "metadata": {
    "collapsed": false
   },
   "outputs": [
    {
     "data": {
      "text/plain": [
       "2517"
      ]
     },
     "execution_count": 189,
     "metadata": {},
     "output_type": "execute_result"
    }
   ],
   "source": [
    "## pre-process edgeList to remove duplicates formed by reordering endpoints of same edge\n",
    "edgeSet = set()\n",
    "for e in edgeList:\n",
    "    if (e[1], e[0]) not in edgeSet:\n",
    "        edgeSet.add(e)\n",
    "        \n",
    "len(edgeSet)"
   ]
  },
  {
   "cell_type": "code",
   "execution_count": 190,
   "metadata": {
    "collapsed": true
   },
   "outputs": [],
   "source": [
    "edges = list(edgeSet)  "
   ]
  },
  {
   "cell_type": "code",
   "execution_count": 201,
   "metadata": {
    "collapsed": true
   },
   "outputs": [],
   "source": [
    "def contractGraph(numNodes, edgeList):\n",
    "    \"\"\"\n",
    "    @numNodes can be calculated from edgeList, but better to pre-process it.\n",
    "    @edgeList is a list of 2-tuples, each representing a graph edge identified by its 2 endpoints.\n",
    "    This function returns just the number of edges crossing the final two fused groups of nodes.\n",
    "    You could return the crossings variable at the end if you want to have the crossing edges too.\n",
    "    \"\"\"\n",
    "   # import random  ## since you need to run this algo many times to be likely to find the answer, maybe import this elsewhere\n",
    "    \n",
    "    random.shuffle(edgeList)  # Need to pop edges in random order for contraction\n",
    "    \n",
    "    nodeReps = range(numNodes+1)   # Use the fact that the nodes are numbered 1 thru n to build an array with pointers to\n",
    "                            #       a representative node for each supernode formed by contractions\n",
    "    while len(set(nodeReps)) > 3:  # when this list is just 0 plus the 2 final reps, the algo has finished\n",
    "        e = edgeList.pop()\n",
    "        # give node2, and all nodes with its same rep, the same rep as node1\n",
    "        nodeReps = list(map(lambda x: nodeReps[e[0]] if x == nodeReps[e[1]] else x, nodeReps)) \n",
    "        \n",
    "    # now remove all self-loops\n",
    "    crossings = [e for e in edgeList if nodeReps[e[0]] != nodeReps[e[1]]]\n",
    "    \n",
    "    return len(crossings)"
   ]
  },
  {
   "cell_type": "markdown",
   "metadata": {},
   "source": [
    "## Solve assignment.  There are 200 nodes, so 40,000 runs would all but assure the right answer, but maybe try 10,000 for starters."
   ]
  },
  {
   "cell_type": "code",
   "execution_count": 202,
   "metadata": {
    "collapsed": false
   },
   "outputs": [
    {
     "data": {
      "text/plain": [
       "17"
      ]
     },
     "execution_count": 202,
     "metadata": {},
     "output_type": "execute_result"
    }
   ],
   "source": [
    "## 10,000 runs took about 4-5 minutes\n",
    "import random\n",
    "\n",
    "minCut = float('inf')  # current min cut\n",
    "\n",
    "for _ in range(10000):\n",
    "    tryCut = contractGraph(len(graphRep), edges[:])\n",
    "    if tryCut < minCut:\n",
    "        minCut = tryCut\n",
    "        \n",
    "minCut    ## correct answer is 17"
   ]
  },
  {
   "cell_type": "code",
   "execution_count": null,
   "metadata": {
    "collapsed": true
   },
   "outputs": [],
   "source": []
  }
 ],
 "metadata": {
  "kernelspec": {
   "display_name": "Python 3",
   "language": "python",
   "name": "python3"
  },
  "language_info": {
   "codemirror_mode": {
    "name": "ipython",
    "version": 3
   },
   "file_extension": ".py",
   "mimetype": "text/x-python",
   "name": "python",
   "nbconvert_exporter": "python",
   "pygments_lexer": "ipython3",
   "version": "3.6.0"
  }
 },
 "nbformat": 4,
 "nbformat_minor": 2
}
