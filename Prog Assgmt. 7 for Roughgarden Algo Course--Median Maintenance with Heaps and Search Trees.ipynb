{
 "cells": [
  {
   "cell_type": "markdown",
   "metadata": {},
   "source": [
    "## Maintain 2 heaps containing a stream of integers, such that the median can be extracted in constant time at all times.  The min-heap will have the larger half of the numbers and the max the smaller. The median will be the root of the max heap (since the assignment's tiebreaker goes to the smaller of the middle 2 after an even number of items have been seen)."
   ]
  },
  {
   "cell_type": "code",
   "execution_count": 96,
   "metadata": {
    "collapsed": false
   },
   "outputs": [],
   "source": [
    "## Bring a 'stream' of 10K integers into the notebook\n",
    "with open('Downloads/Median.txt') as f:\n",
    "    ints = f.readlines()"
   ]
  },
  {
   "cell_type": "code",
   "execution_count": 97,
   "metadata": {
    "collapsed": false
   },
   "outputs": [
    {
     "data": {
      "text/plain": [
       "10000"
      ]
     },
     "execution_count": 97,
     "metadata": {},
     "output_type": "execute_result"
    }
   ],
   "source": [
    "len(ints)\n"
   ]
  },
  {
   "cell_type": "code",
   "execution_count": 98,
   "metadata": {
    "collapsed": false
   },
   "outputs": [
    {
     "data": {
      "text/plain": [
       "10000"
      ]
     },
     "execution_count": 98,
     "metadata": {},
     "output_type": "execute_result"
    }
   ],
   "source": [
    "len(set(ints))  # are they unique?\n"
   ]
  },
  {
   "cell_type": "code",
   "execution_count": 99,
   "metadata": {
    "collapsed": false
   },
   "outputs": [
    {
     "name": "stdout",
     "output_type": "stream",
     "text": [
      "9999\n",
      " 1\n",
      "\n"
     ]
    }
   ],
   "source": [
    "print(max(ints),min(ints))  ## seems like we're missing one"
   ]
  },
  {
   "cell_type": "code",
   "execution_count": 100,
   "metadata": {
    "collapsed": false
   },
   "outputs": [
    {
     "data": {
      "text/plain": [
       "True"
      ]
     },
     "execution_count": 100,
     "metadata": {},
     "output_type": "execute_result"
    }
   ],
   "source": [
    "'10000\\n' in ints"
   ]
  },
  {
   "cell_type": "code",
   "execution_count": 101,
   "metadata": {
    "collapsed": false
   },
   "outputs": [],
   "source": [
    "ints = [int(num.strip('\\n')) for num in ints]"
   ]
  },
  {
   "cell_type": "code",
   "execution_count": 102,
   "metadata": {
    "collapsed": false
   },
   "outputs": [
    {
     "data": {
      "text/plain": [
       "True"
      ]
     },
     "execution_count": 102,
     "metadata": {},
     "output_type": "execute_result"
    }
   ],
   "source": [
    "10000 in ints"
   ]
  },
  {
   "cell_type": "code",
   "execution_count": 103,
   "metadata": {
    "collapsed": false
   },
   "outputs": [
    {
     "name": "stdout",
     "output_type": "stream",
     "text": [
      "10000 1\n"
     ]
    }
   ],
   "source": [
    "print(max(ints), min(ints))"
   ]
  },
  {
   "cell_type": "code",
   "execution_count": null,
   "metadata": {
    "collapsed": true
   },
   "outputs": [],
   "source": []
  },
  {
   "cell_type": "markdown",
   "metadata": {},
   "source": [
    "### now create the 2 heaps and a running count list of the median to return"
   ]
  },
  {
   "cell_type": "code",
   "execution_count": 112,
   "metadata": {
    "collapsed": true
   },
   "outputs": [],
   "source": [
    "def insert(num, heapmax, heapmin):\n",
    "    if len(heapmax) == len(heapmin):\n",
    "        if num < heapmin[0]:\n",
    "            bubbleMaxUp(heapmax, num)\n",
    "            return heapmax[0]\n",
    "        bubbleMinUp(heapmin, num)\n",
    "        return heapmin[0]\n",
    "    if len(heapmax) < len(heapmin):\n",
    "        if num < heapmin[0]:\n",
    "            bubbleMaxUp(heapmax, num)\n",
    "            return heapmax[0]\n",
    "        bubbleMaxUp(heapmax, heapmin[0])  # add smallest big number to maxheap as the root\n",
    "        bubbleMinDown(heapmin, num)  # add new big number to minheap\n",
    "        return heapmax[0]\n",
    "    if num > heapmax[0]:\n",
    "        bubbleMinUp(heapmin, num)\n",
    "        return heapmax[0]\n",
    "    bubbleMinUp(heapmin, heapmax[0]) # add biggest small number to minheap as the root\n",
    "    bubbleMaxDown(heapmax, num)  # add new small number to maxheap\n",
    "    return heapmax[0]"
   ]
  },
  {
   "cell_type": "code",
   "execution_count": 89,
   "metadata": {
    "collapsed": true
   },
   "outputs": [],
   "source": [
    "def swap(arr, i, j):\n",
    "    # speed up heap swaps a little bit with this utility\n",
    "    temp = arr[i]\n",
    "    arr[i] = arr[j]\n",
    "    arr[j] = temp"
   ]
  },
  {
   "cell_type": "code",
   "execution_count": 90,
   "metadata": {
    "collapsed": true
   },
   "outputs": [],
   "source": [
    "def bubbleMaxUp(heap, n):\n",
    "    # append n to max heap and bubble up\n",
    "    i = len(heap)\n",
    "    heap.append(n)\n",
    "    while i > 0:\n",
    "        j = (i + 1) // 2 - 1\n",
    "        if heap[j] > heap[i]:\n",
    "            return\n",
    "        swap(heap, i, j)\n",
    "        i = j   "
   ]
  },
  {
   "cell_type": "code",
   "execution_count": 91,
   "metadata": {
    "collapsed": true
   },
   "outputs": [],
   "source": [
    "def bubbleMinUp(heap, n):\n",
    "    # append n to min heap and bubble up\n",
    "    i = len(heap)\n",
    "    heap.append(n)\n",
    "    while i > 0:\n",
    "        j = (i + 1) // 2 - 1\n",
    "        if heap[j] < heap[i]:\n",
    "            return\n",
    "        swap(heap, i, j)\n",
    "        i = j   "
   ]
  },
  {
   "cell_type": "code",
   "execution_count": 95,
   "metadata": {
    "collapsed": true
   },
   "outputs": [],
   "source": [
    "def bubbleMaxDown(heap, n):\n",
    "    heap[0] = n\n",
    "    newIndex = 0\n",
    "    leftChild = 1\n",
    "    while leftChild < len(heap):\n",
    "        maxChild = leftChild + 1  # right child of newIndex\n",
    "        if maxChild == len(heap):  # rare case where the bubbleDown has reached a final, left child without sibling\n",
    "            if heap[newIndex] > heap[leftChild]: return\n",
    "            else:\n",
    "                swap(heap, leftChild, newIndex)\n",
    "                return\n",
    "        if heap[leftChild] > heap[maxChild]:\n",
    "            maxChild = leftChild\n",
    "        if heap[newIndex] > heap[maxChild]:\n",
    "            return\n",
    "        swap(heap, newIndex, maxChild)\n",
    "        newIndex = maxChild\n",
    "        leftChild = (newIndex + 1) * 2 - 1\n",
    "    "
   ]
  },
  {
   "cell_type": "code",
   "execution_count": 93,
   "metadata": {
    "collapsed": false
   },
   "outputs": [],
   "source": [
    "def bubbleMinDown(heap, n):\n",
    "    heap[0] = n\n",
    "    newIndex = 0\n",
    "    leftChild = 1\n",
    "    while leftChild < len(heap):\n",
    "        minChild = leftChild + 1  # right child of newIndex\n",
    "        if minChild == len(heap):  # rare case where the bubbleDown has reached a final, left child without sibling\n",
    "            if heap[newIndex] < heap[leftChild]: return\n",
    "            else:\n",
    "                swap(heap, leftChild, newIndex)\n",
    "                return\n",
    "        if heap[leftChild] < heap[minChild]:\n",
    "            minChild = leftChild\n",
    "        if heap[newIndex] < heap[minChild]:\n",
    "            return\n",
    "        swap(heap, newIndex, minChild)\n",
    "        newIndex = minChild\n",
    "        leftChild = (newIndex + 1) * 2 - 1\n",
    "    "
   ]
  },
  {
   "cell_type": "code",
   "execution_count": 139,
   "metadata": {
    "collapsed": false
   },
   "outputs": [],
   "source": [
    "maxHeap, minHeap, medians = [-float('inf')],[float('inf')],[]"
   ]
  },
  {
   "cell_type": "code",
   "execution_count": 140,
   "metadata": {
    "collapsed": false
   },
   "outputs": [],
   "source": [
    "nums = ints[:]\n",
    "#import random\n",
    "#nums = list(range(100000))  # takes about 4-5 secs to median this\n",
    "#random.shuffle(nums)\n",
    "while nums:\n",
    "    num = nums.pop(0)\n",
    "    medians.append(insert(num, maxHeap, minHeap))"
   ]
  },
  {
   "cell_type": "code",
   "execution_count": 141,
   "metadata": {
    "collapsed": false
   },
   "outputs": [
    {
     "data": {
      "text/plain": [
       "100000"
      ]
     },
     "execution_count": 141,
     "metadata": {},
     "output_type": "execute_result"
    }
   ],
   "source": [
    "len(medians) "
   ]
  },
  {
   "cell_type": "code",
   "execution_count": 143,
   "metadata": {
    "collapsed": false
   },
   "outputs": [
    {
     "name": "stdout",
     "output_type": "stream",
     "text": [
      "[50000, 50041, 50001] [49999, 49994, 49998]\n"
     ]
    }
   ],
   "source": [
    "print(minHeap[:3], maxHeap[:3])"
   ]
  },
  {
   "cell_type": "code",
   "execution_count": 116,
   "metadata": {
    "collapsed": false
   },
   "outputs": [
    {
     "data": {
      "text/plain": [
       "[6331,\n",
       " 2793,\n",
       " 2793,\n",
       " 2793,\n",
       " 2793,\n",
       " 1640,\n",
       " 2793,\n",
       " 2303,\n",
       " 2793,\n",
       " 2303,\n",
       " 2793,\n",
       " 2793,\n",
       " 4292,\n",
       " 4292,\n",
       " 4479,\n",
       " 4479,\n",
       " 5147,\n",
       " 4479,\n",
       " 4479,\n",
       " 4479]"
      ]
     },
     "execution_count": 116,
     "metadata": {},
     "output_type": "execute_result"
    }
   ],
   "source": [
    "medians[:20]"
   ]
  },
  {
   "cell_type": "code",
   "execution_count": 37,
   "metadata": {
    "collapsed": false
   },
   "outputs": [
    {
     "data": {
      "text/plain": [
       "['6331\\n',\n",
       " '2793\\n',\n",
       " '1640\\n',\n",
       " '9290\\n',\n",
       " '225\\n',\n",
       " '625\\n',\n",
       " '6195\\n',\n",
       " '2303\\n',\n",
       " '5685\\n',\n",
       " '1354\\n',\n",
       " '4292\\n',\n",
       " '7600\\n',\n",
       " '6447\\n',\n",
       " '4479\\n',\n",
       " '9046\\n',\n",
       " '7293\\n',\n",
       " '5147\\n',\n",
       " '1260\\n',\n",
       " '1386\\n',\n",
       " '6193\\n',\n",
       " '4135\\n',\n",
       " '3611\\n',\n",
       " '8583\\n',\n",
       " '1446\\n',\n",
       " '3480\\n',\n",
       " '2022\\n',\n",
       " '961\\n',\n",
       " '7123\\n',\n",
       " '7262\\n',\n",
       " '2261\\n',\n",
       " '8380\\n',\n",
       " '2123\\n',\n",
       " '1286\\n',\n",
       " '1274\\n',\n",
       " '1369\\n',\n",
       " '831\\n',\n",
       " '927\\n',\n",
       " '993\\n',\n",
       " '4484\\n',\n",
       " '4865\\n',\n",
       " '8473\\n',\n",
       " '8587\\n',\n",
       " '4200\\n',\n",
       " '1216\\n',\n",
       " '2454\\n',\n",
       " '3371\\n',\n",
       " '6471\\n',\n",
       " '6303\\n',\n",
       " '6837\\n',\n",
       " '3365\\n',\n",
       " '1733\\n',\n",
       " '1875\\n',\n",
       " '6239\\n',\n",
       " '1009\\n',\n",
       " '9058\\n',\n",
       " '2833\\n',\n",
       " '3555\\n',\n",
       " '2329\\n',\n",
       " '5901\\n',\n",
       " '8765\\n',\n",
       " '5317\\n',\n",
       " '3505\\n',\n",
       " '1310\\n',\n",
       " '2050\\n',\n",
       " '9305\\n',\n",
       " '6941\\n',\n",
       " '1267\\n',\n",
       " '1801\\n',\n",
       " '4181\\n',\n",
       " '4854\\n',\n",
       " '5549\\n',\n",
       " '7990\\n',\n",
       " '1058\\n',\n",
       " '7066\\n',\n",
       " '3719\\n',\n",
       " '7080\\n',\n",
       " '5874\\n',\n",
       " '5706\\n',\n",
       " '5397\\n',\n",
       " '2746\\n',\n",
       " '2246\\n',\n",
       " '3172\\n',\n",
       " '3561\\n',\n",
       " '9407\\n',\n",
       " '9207\\n',\n",
       " '3912\\n',\n",
       " '365\\n',\n",
       " '6607\\n',\n",
       " '1381\\n',\n",
       " '5283\\n',\n",
       " '1477\\n',\n",
       " '3932\\n',\n",
       " '2632\\n',\n",
       " '5179\\n',\n",
       " '1645\\n',\n",
       " '5714\\n',\n",
       " '1183\\n',\n",
       " '982\\n',\n",
       " '6846\\n',\n",
       " '4154\\n',\n",
       " '1595\\n',\n",
       " '5426\\n',\n",
       " '6412\\n',\n",
       " '9160\\n',\n",
       " '1746\\n',\n",
       " '3382\\n',\n",
       " '8375\\n',\n",
       " '8279\\n',\n",
       " '1500\\n',\n",
       " '3355\\n',\n",
       " '6867\\n',\n",
       " '3428\\n',\n",
       " '5884\\n',\n",
       " '2852\\n',\n",
       " '3303\\n',\n",
       " '8222\\n',\n",
       " '6459\\n',\n",
       " '1341\\n',\n",
       " '9435\\n',\n",
       " '4676\\n']"
      ]
     },
     "execution_count": 37,
     "metadata": {},
     "output_type": "execute_result"
    }
   ],
   "source": [
    "## original ints list:\n",
    "ints[:120]"
   ]
  },
  {
   "cell_type": "code",
   "execution_count": 117,
   "metadata": {
    "collapsed": false
   },
   "outputs": [
    {
     "data": {
      "text/plain": [
       "[5001,\n",
       " 5002,\n",
       " 5013,\n",
       " 5003,\n",
       " 5027,\n",
       " 5016,\n",
       " 5017,\n",
       " 5040,\n",
       " 5004,\n",
       " 5032,\n",
       " 5029,\n",
       " 5019,\n",
       " 5034,\n",
       " 5018,\n",
       " 5024,\n",
       " 5049,\n",
       " 5053,\n",
       " 5012,\n",
       " 5005,\n",
       " 5050]"
      ]
     },
     "execution_count": 117,
     "metadata": {},
     "output_type": "execute_result"
    }
   ],
   "source": [
    "minHeap[:20]"
   ]
  },
  {
   "cell_type": "code",
   "execution_count": 118,
   "metadata": {
    "collapsed": false
   },
   "outputs": [
    {
     "data": {
      "text/plain": [
       "[5000,\n",
       " 4999,\n",
       " 4957,\n",
       " 4998,\n",
       " 4821,\n",
       " 4872,\n",
       " 4956,\n",
       " 4990,\n",
       " 4997,\n",
       " 4791,\n",
       " 4819,\n",
       " 4843,\n",
       " 4870,\n",
       " 4909,\n",
       " 4955,\n",
       " 4962,\n",
       " 4989,\n",
       " 4993,\n",
       " 4996,\n",
       " 4740]"
      ]
     },
     "execution_count": 118,
     "metadata": {},
     "output_type": "execute_result"
    }
   ],
   "source": [
    "maxHeap[:20]"
   ]
  },
  {
   "cell_type": "code",
   "execution_count": 119,
   "metadata": {
    "collapsed": false
   },
   "outputs": [
    {
     "data": {
      "text/plain": [
       "5001"
      ]
     },
     "execution_count": 119,
     "metadata": {},
     "output_type": "execute_result"
    }
   ],
   "source": [
    "len(minHeap)"
   ]
  },
  {
   "cell_type": "code",
   "execution_count": 120,
   "metadata": {
    "collapsed": false
   },
   "outputs": [
    {
     "data": {
      "text/plain": [
       "5001"
      ]
     },
     "execution_count": 120,
     "metadata": {},
     "output_type": "execute_result"
    }
   ],
   "source": [
    "len(maxHeap)"
   ]
  },
  {
   "cell_type": "markdown",
   "metadata": {},
   "source": [
    "### This is hopefully the answer to the assignment:"
   ]
  },
  {
   "cell_type": "code",
   "execution_count": 121,
   "metadata": {
    "collapsed": false
   },
   "outputs": [
    {
     "data": {
      "text/plain": [
       "1213"
      ]
     },
     "execution_count": 121,
     "metadata": {},
     "output_type": "execute_result"
    }
   ],
   "source": [
    "sum(medians) % 10000"
   ]
  },
  {
   "cell_type": "markdown",
   "metadata": {},
   "source": [
    "## Compare to a search tree implementation for speed"
   ]
  },
  {
   "cell_type": "code",
   "execution_count": 144,
   "metadata": {
    "collapsed": false
   },
   "outputs": [
    {
     "data": {
      "text/plain": [
       "10000"
      ]
     },
     "execution_count": 144,
     "metadata": {},
     "output_type": "execute_result"
    }
   ],
   "source": [
    "len(ints)"
   ]
  },
  {
   "cell_type": "code",
   "execution_count": 211,
   "metadata": {
    "collapsed": true
   },
   "outputs": [],
   "source": [
    "## First int will be root, and all following ints will be added as leaves\n",
    "def add(parent, num):\n",
    "    '''\n",
    "    args are TreeNode objects.\n",
    "    @num is the node being added to the search tree, and has as its key (.val) an integer, for this assignment.\n",
    "    '''\n",
    "    if num.val > parent.val:\n",
    "        if parent.right is None:\n",
    "            parent.right = num\n",
    "        else:\n",
    "            add(parent.right, num)\n",
    "    elif parent.left is None:\n",
    "        parent.left = num\n",
    "    else:\n",
    "        add(parent.left, num)\n",
    "    "
   ]
  },
  {
   "cell_type": "code",
   "execution_count": 210,
   "metadata": {
    "collapsed": false
   },
   "outputs": [],
   "source": [
    "## traverse the tree to find the specified rank\n",
    "\n",
    "def countKids(node, ind, arr):\n",
    "    '''\n",
    "    @node is a TreeNode object with a value pointer and left and right child pointers\n",
    "    '''\n",
    "    ## minimum key will be as far left as possible, so this method will recurse in that direction\n",
    "    ####  and build a sorted array from smallest to largest keys.\n",
    "    if node.left != None:\n",
    "        countKids(node.left, ind, arr)\n",
    "    ## When there are no more left children to recurse on, the current @node has the next smallest key\n",
    "    ### and so gets appended to the array and @ind is incremented.  As it stands, this function is\n",
    "    #### wasteful, since @ind isn't used in this assignment.  But could be used to find rank without\n",
    "    ##### building an array, with a little more brainpower.\n",
    "    arr.append(node.val)\n",
    "    ind += 1\n",
    "    ## After the current @node, the next smallest keys are those in its right subtree, so recurse right.\n",
    "    if node.right != None:\n",
    "        countKids(node.right, ind, arr)\n",
    "        \n",
    "def nth(root, n):\n",
    "    '''\n",
    "    @root is a TreeNode object with a value pointer and left and right child pointers\n",
    "    This takes twice as long as necessary to find the median,\n",
    "    since it orders the complete tree rather than just the desired first half.\n",
    "    It is also wasteful to both build the ordered array and keep track of the current index.\n",
    "    '''\n",
    "    i = 0\n",
    "    ordered = []\n",
    "    countKids(root, i, ordered)\n",
    "    return ordered[n]\n"
   ]
  },
  {
   "cell_type": "code",
   "execution_count": 173,
   "metadata": {
    "collapsed": false
   },
   "outputs": [],
   "source": [
    "class TreeNode:\n",
    "    def __init__(self, n):\n",
    "        self.val = n\n",
    "        self.left = None\n",
    "        self.right = None"
   ]
  },
  {
   "cell_type": "code",
   "execution_count": 208,
   "metadata": {
    "collapsed": false
   },
   "outputs": [],
   "source": [
    "numbers = ints[:]\n",
    "root = TreeNode(numbers[0])\n",
    "medians = [numbers[0]]\n",
    "\n",
    "for i in range(1, len(numbers)):\n",
    "    add(root, TreeNode(numbers[i]))\n",
    "    medians.append(nth(root, i//2))"
   ]
  },
  {
   "cell_type": "code",
   "execution_count": 206,
   "metadata": {
    "collapsed": false
   },
   "outputs": [
    {
     "data": {
      "text/plain": [
       "5001"
      ]
     },
     "execution_count": 206,
     "metadata": {},
     "output_type": "execute_result"
    }
   ],
   "source": [
    "nth(root, 5000)"
   ]
  },
  {
   "cell_type": "code",
   "execution_count": 209,
   "metadata": {
    "collapsed": false
   },
   "outputs": [
    {
     "data": {
      "text/plain": [
       "[6331,\n",
       " 2793,\n",
       " 2793,\n",
       " 2793,\n",
       " 2793,\n",
       " 1640,\n",
       " 2793,\n",
       " 2303,\n",
       " 2793,\n",
       " 2303,\n",
       " 2793,\n",
       " 2793,\n",
       " 4292,\n",
       " 4292,\n",
       " 4479,\n",
       " 4479,\n",
       " 5147,\n",
       " 4479,\n",
       " 4479,\n",
       " 4479]"
      ]
     },
     "execution_count": 209,
     "metadata": {},
     "output_type": "execute_result"
    }
   ],
   "source": [
    "medians[:20]"
   ]
  },
  {
   "cell_type": "code",
   "execution_count": null,
   "metadata": {
    "collapsed": true
   },
   "outputs": [],
   "source": []
  }
 ],
 "metadata": {
  "kernelspec": {
   "display_name": "Python 3",
   "language": "python",
   "name": "python3"
  },
  "language_info": {
   "codemirror_mode": {
    "name": "ipython",
    "version": 3
   },
   "file_extension": ".py",
   "mimetype": "text/x-python",
   "name": "python",
   "nbconvert_exporter": "python",
   "pygments_lexer": "ipython3",
   "version": "3.6.0"
  }
 },
 "nbformat": 4,
 "nbformat_minor": 2
}
