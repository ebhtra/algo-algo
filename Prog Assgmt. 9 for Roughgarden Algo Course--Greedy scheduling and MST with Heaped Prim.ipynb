{
 "cells": [
  {
   "cell_type": "markdown",
   "metadata": {
    "collapsed": true
   },
   "source": [
    "## Code up some greedy algorithms, starting with a scheduling problem"
   ]
  },
  {
   "cell_type": "code",
   "execution_count": 8,
   "metadata": {
    "collapsed": true
   },
   "outputs": [],
   "source": [
    "## Get the job list into the notebook\n",
    "with open('Downloads/algo2jobs.txt') as f:\n",
    "    jobs = f.readlines()"
   ]
  },
  {
   "cell_type": "code",
   "execution_count": 9,
   "metadata": {
    "collapsed": false
   },
   "outputs": [
    {
     "name": "stdout",
     "output_type": "stream",
     "text": [
      "10000\n",
      " 10001\n"
     ]
    }
   ],
   "source": [
    "print(jobs[0], len(jobs))"
   ]
  },
  {
   "cell_type": "code",
   "execution_count": 10,
   "metadata": {
    "collapsed": false
   },
   "outputs": [
    {
     "data": {
      "text/plain": [
       "'8 50\\n'"
      ]
     },
     "execution_count": 10,
     "metadata": {},
     "output_type": "execute_result"
    }
   ],
   "source": [
    "jobs[1] \n",
    "## job weight, job length"
   ]
  },
  {
   "cell_type": "code",
   "execution_count": 12,
   "metadata": {
    "collapsed": false
   },
   "outputs": [],
   "source": [
    "jobs = [(int(wt), int(ln)) for [wt, ln] in [job.strip('\\n').split() for job in jobs[1:]]]"
   ]
  },
  {
   "cell_type": "code",
   "execution_count": 13,
   "metadata": {
    "collapsed": false
   },
   "outputs": [
    {
     "data": {
      "text/plain": [
       "(8, 50)"
      ]
     },
     "execution_count": 13,
     "metadata": {},
     "output_type": "execute_result"
    }
   ],
   "source": [
    "jobs[0]"
   ]
  },
  {
   "cell_type": "code",
   "execution_count": 14,
   "metadata": {
    "collapsed": false
   },
   "outputs": [
    {
     "data": {
      "text/plain": [
       "(68, 15)"
      ]
     },
     "execution_count": 14,
     "metadata": {},
     "output_type": "execute_result"
    }
   ],
   "source": [
    "jobs[9999]"
   ]
  },
  {
   "cell_type": "markdown",
   "metadata": {},
   "source": [
    "Problem 1:  Your task in this problem is to run the greedy algorithm that schedules jobs in decreasing order of the difference (weight - length). Recall from lecture that this algorithm is not always optimal. IMPORTANT: if two jobs have equal difference (weight - length), you should schedule the job with higher weight first. Beware: if you break ties in a different way, you are likely to get the wrong answer. You should report the sum of weighted completion times of the resulting schedule --- a positive integer --- as the answer."
   ]
  },
  {
   "cell_type": "code",
   "execution_count": 26,
   "metadata": {
    "collapsed": false
   },
   "outputs": [],
   "source": [
    "jobs1 = sorted(jobs, key=lambda x: (x[0] - x[1], x[0]), reverse=True)"
   ]
  },
  {
   "cell_type": "code",
   "execution_count": 27,
   "metadata": {
    "collapsed": false
   },
   "outputs": [
    {
     "data": {
      "text/plain": [
       "[(99, 1),\n",
       " (100, 3),\n",
       " (100, 3),\n",
       " (99, 2),\n",
       " (99, 2),\n",
       " (98, 1),\n",
       " (98, 2),\n",
       " (98, 2),\n",
       " (98, 2),\n",
       " (99, 4)]"
      ]
     },
     "execution_count": 27,
     "metadata": {},
     "output_type": "execute_result"
    }
   ],
   "source": [
    "jobs1[:10]"
   ]
  },
  {
   "cell_type": "code",
   "execution_count": 32,
   "metadata": {
    "collapsed": false
   },
   "outputs": [
    {
     "name": "stdout",
     "output_type": "stream",
     "text": [
      "69119377652\n"
     ]
    }
   ],
   "source": [
    "answer = 0\n",
    "time = 0\n",
    "for i in range(len(jobs1)):\n",
    "    time += jobs1[i][1]\n",
    "    answer += time * jobs1[i][0]\n",
    "print(answer)"
   ]
  },
  {
   "cell_type": "markdown",
   "metadata": {},
   "source": [
    "Problem 2:  Your task now is to run the greedy algorithm that schedules jobs (optimally) in decreasing order of the ratio (weight/length). In this algorithm, it does not matter how you break ties. You should report the sum of weighted completion times of the resulting schedule --- a positive integer --- as the answer."
   ]
  },
  {
   "cell_type": "code",
   "execution_count": 29,
   "metadata": {
    "collapsed": true
   },
   "outputs": [],
   "source": [
    "jobs2 = sorted(jobs, key=lambda x: x[1] / x[0])"
   ]
  },
  {
   "cell_type": "code",
   "execution_count": 30,
   "metadata": {
    "collapsed": false
   },
   "outputs": [
    {
     "data": {
      "text/plain": [
       "[(99, 1),\n",
       " (98, 1),\n",
       " (95, 1),\n",
       " (95, 1),\n",
       " (93, 1),\n",
       " (93, 1),\n",
       " (92, 1),\n",
       " (88, 1),\n",
       " (87, 1),\n",
       " (86, 1)]"
      ]
     },
     "execution_count": 30,
     "metadata": {},
     "output_type": "execute_result"
    }
   ],
   "source": [
    "jobs2[:10]"
   ]
  },
  {
   "cell_type": "code",
   "execution_count": 33,
   "metadata": {
    "collapsed": false
   },
   "outputs": [
    {
     "name": "stdout",
     "output_type": "stream",
     "text": [
      "67311454237\n"
     ]
    }
   ],
   "source": [
    "answer = 0\n",
    "time = 0\n",
    "for i in range(len(jobs2)):\n",
    "    time += jobs2[i][1]\n",
    "    answer += time * jobs2[i][0]\n",
    "print(answer)"
   ]
  },
  {
   "cell_type": "markdown",
   "metadata": {},
   "source": [
    "## Now for some Prim's MST"
   ]
  },
  {
   "cell_type": "code",
   "execution_count": 37,
   "metadata": {
    "collapsed": true
   },
   "outputs": [],
   "source": [
    "## Get the graph into the notebook\n",
    "## This file describes an undirected graph with integer edge costs.\n",
    "with open('Downloads/algo2edges.txt') as f:\n",
    "    graph = f.readlines()"
   ]
  },
  {
   "cell_type": "code",
   "execution_count": 38,
   "metadata": {
    "collapsed": false
   },
   "outputs": [
    {
     "data": {
      "text/plain": [
       "'500 2184\\n'"
      ]
     },
     "execution_count": 38,
     "metadata": {},
     "output_type": "execute_result"
    }
   ],
   "source": [
    "graph[0]   ## numNodes, numEdges"
   ]
  },
  {
   "cell_type": "code",
   "execution_count": 39,
   "metadata": {
    "collapsed": false
   },
   "outputs": [
    {
     "data": {
      "text/plain": [
       "'1 2 6807\\n'"
      ]
     },
     "execution_count": 39,
     "metadata": {},
     "output_type": "execute_result"
    }
   ],
   "source": [
    "graph[1]   ## u, v, length"
   ]
  },
  {
   "cell_type": "code",
   "execution_count": 46,
   "metadata": {
    "collapsed": false
   },
   "outputs": [
    {
     "data": {
      "text/plain": [
       "False"
      ]
     },
     "execution_count": 46,
     "metadata": {},
     "output_type": "execute_result"
    }
   ],
   "source": [
    "'2 1 6807\\n' in graph"
   ]
  },
  {
   "cell_type": "code",
   "execution_count": 40,
   "metadata": {
    "collapsed": false
   },
   "outputs": [
    {
     "data": {
      "text/plain": [
       "2185"
      ]
     },
     "execution_count": 40,
     "metadata": {},
     "output_type": "execute_result"
    }
   ],
   "source": [
    "len(graph)"
   ]
  },
  {
   "cell_type": "code",
   "execution_count": 53,
   "metadata": {
    "collapsed": true
   },
   "outputs": [],
   "source": [
    "## build a dict representation of the graph\n",
    "graphDict = dict()\n",
    "for e in graph[1:]:\n",
    "    e = e.strip('\\n').split()\n",
    "    if e[0] in graphDict:\n",
    "        graphDict[e[0]].add((e[1], int(e[2])))\n",
    "    else: \n",
    "        graphDict[e[0]] = {(e[1], int(e[2]))}\n",
    "    if e[1] in graphDict:\n",
    "        graphDict[e[1]].add((e[0], int(e[2])))\n",
    "    else: \n",
    "        graphDict[e[1]] = {(e[0], int(e[2]))}"
   ]
  },
  {
   "cell_type": "code",
   "execution_count": 54,
   "metadata": {
    "collapsed": false
   },
   "outputs": [
    {
     "data": {
      "text/plain": [
       "{('132', -151),\n",
       " ('171', 8358),\n",
       " ('2', 6807),\n",
       " ('244', 6723),\n",
       " ('310', 9791),\n",
       " ('316', 569),\n",
       " ('324', -1612),\n",
       " ('397', -5942),\n",
       " ('414', 3655)}"
      ]
     },
     "execution_count": 54,
     "metadata": {},
     "output_type": "execute_result"
    }
   ],
   "source": [
    "graphDict['1']"
   ]
  },
  {
   "cell_type": "code",
   "execution_count": 55,
   "metadata": {
    "collapsed": false
   },
   "outputs": [
    {
     "data": {
      "text/plain": [
       "{('1', 6807),\n",
       " ('104', -8744),\n",
       " ('157', 1036),\n",
       " ('173', -7751),\n",
       " ('25', 6267),\n",
       " ('3', -8874),\n",
       " ('309', -7230),\n",
       " ('39', 907)}"
      ]
     },
     "execution_count": 55,
     "metadata": {},
     "output_type": "execute_result"
    }
   ],
   "source": [
    "graphDict['2']"
   ]
  },
  {
   "cell_type": "code",
   "execution_count": 56,
   "metadata": {
    "collapsed": true
   },
   "outputs": [],
   "source": [
    "graphList = [edge.strip('\\n').split() for edge in graph[1:]]"
   ]
  },
  {
   "cell_type": "code",
   "execution_count": 57,
   "metadata": {
    "collapsed": false
   },
   "outputs": [
    {
     "data": {
      "text/plain": [
       "[['1', '2', '6807'], ['2', '3', '-8874'], ['3', '4', '-1055']]"
      ]
     },
     "execution_count": 57,
     "metadata": {},
     "output_type": "execute_result"
    }
   ],
   "source": [
    "graphList[:3]"
   ]
  },
  {
   "cell_type": "code",
   "execution_count": 58,
   "metadata": {
    "collapsed": true
   },
   "outputs": [],
   "source": [
    "for e in graphList:\n",
    "    e[2] = int(e[2])"
   ]
  },
  {
   "cell_type": "code",
   "execution_count": 59,
   "metadata": {
    "collapsed": false
   },
   "outputs": [
    {
     "data": {
      "text/plain": [
       "[['1', '2', 6807], ['2', '3', -8874], ['3', '4', -1055]]"
      ]
     },
     "execution_count": 59,
     "metadata": {},
     "output_type": "execute_result"
    }
   ],
   "source": [
    "graphList[:3]"
   ]
  },
  {
   "cell_type": "code",
   "execution_count": 65,
   "metadata": {
    "collapsed": true
   },
   "outputs": [],
   "source": [
    "graphList = [tuple(x) for x in graphList]  ## nicer to be able to hash each edge for lookup in the tree"
   ]
  },
  {
   "cell_type": "code",
   "execution_count": 66,
   "metadata": {
    "collapsed": false
   },
   "outputs": [
    {
     "data": {
      "text/plain": [
       "[('1', '2', 6807), ('2', '3', -8874), ('3', '4', -1055)]"
      ]
     },
     "execution_count": 66,
     "metadata": {},
     "output_type": "execute_result"
    }
   ],
   "source": [
    "graphList[:3]"
   ]
  },
  {
   "cell_type": "code",
   "execution_count": 67,
   "metadata": {
    "collapsed": true
   },
   "outputs": [],
   "source": [
    "bkwds = set()\n",
    "for e in graphList:\n",
    "    if int(e[0]) > int(e[1]):\n",
    "        bkwds.add(e)"
   ]
  },
  {
   "cell_type": "code",
   "execution_count": 68,
   "metadata": {
    "collapsed": false
   },
   "outputs": [
    {
     "data": {
      "text/plain": [
       "0"
      ]
     },
     "execution_count": 68,
     "metadata": {},
     "output_type": "execute_result"
    }
   ],
   "source": [
    "len(bkwds)"
   ]
  },
  {
   "cell_type": "markdown",
   "metadata": {},
   "source": [
    "OK, so smaller endpoint is always listed first in the tuple, which will help locate edges later, possibly"
   ]
  },
  {
   "cell_type": "markdown",
   "metadata": {},
   "source": [
    "## Implement a heap structure that will allow for log(n) time deletion of items and constant time extraction of min-length items"
   ]
  },
  {
   "cell_type": "code",
   "execution_count": 47,
   "metadata": {
    "collapsed": true
   },
   "outputs": [],
   "source": [
    "## First, a way to compare heap nodes by shortest length key. \n",
    "def shorter(node1, node2):\n",
    "    return node1[-1] <= node2[-1]"
   ]
  },
  {
   "cell_type": "code",
   "execution_count": 48,
   "metadata": {
    "collapsed": true
   },
   "outputs": [],
   "source": [
    "## Next, a utility to swap in place two array items while optionally maintaining a list of their locations in the array\n",
    "def swap(arr, i, j, locator=None):\n",
    "    if locator:\n",
    "        locator[arr[i][0]] = j\n",
    "        locator[arr[j][0]] = i\n",
    "    temp = arr[i]\n",
    "    arr[i] = arr[j]\n",
    "    arr[j] = temp"
   ]
  },
  {
   "cell_type": "code",
   "execution_count": 76,
   "metadata": {
    "collapsed": true
   },
   "outputs": [],
   "source": [
    "def bubbleUp(array, newIndex, locDict=None):\n",
    "    while newIndex > 0:\n",
    "        oldIndex = (newIndex + 1) // 2 - 1\n",
    "        if shorter(array[oldIndex], array[newIndex]):\n",
    "            return\n",
    "        swap(array, newIndex, oldIndex, locDict)\n",
    "        newIndex = oldIndex"
   ]
  },
  {
   "cell_type": "code",
   "execution_count": 75,
   "metadata": {
    "collapsed": true
   },
   "outputs": [],
   "source": [
    "def bubbleDown(array, newIndex=0, locDict=None):\n",
    "    # default newIndex to 0 for when the item to bubble down has just been swapped from end of array to start\n",
    "    leftChild = (newIndex + 1) * 2 - 1 # left child of newIndex\n",
    "    while leftChild < len(array):\n",
    "        minChild = leftChild + 1  # right child of newIndex\n",
    "        if minChild == len(array):  # rare case where the bubbleDown has reached a final, left child without sibling\n",
    "            if shorter(array[newIndex], array[leftChild]): return\n",
    "            else:\n",
    "                swap(array, leftChild, newIndex, locDict)\n",
    "                return\n",
    "        if shorter(array[leftChild], array[minChild]):\n",
    "            minChild = leftChild\n",
    "        if shorter(array[newIndex], array[minChild]):\n",
    "            return\n",
    "        swap(array, newIndex, minChild, locDict)\n",
    "        newIndex = minChild\n",
    "        leftChild = (newIndex + 1) * 2 - 1"
   ]
  },
  {
   "cell_type": "markdown",
   "metadata": {},
   "source": [
    "### Prim's with heap:"
   ]
  },
  {
   "cell_type": "code",
   "execution_count": 178,
   "metadata": {
    "collapsed": false
   },
   "outputs": [],
   "source": [
    "## start with the shortest edge in the graphList (not necessary, but seems appropriate)\n",
    "shortest = min(graphList, key=lambda x: x[-1])  ## (e.g., ('152', '414', -10000))\n",
    "mst = {shortest}  # store edges of the MST in case needed\n",
    "spanned = {shortest[0], shortest[1]}  ## keep track of nodes that have been sucked into the tree\n",
    "notSpanned = set(graphDict.keys()) - spanned\n",
    "heap = []\n",
    "shortestLink = {node: ('-1', float('inf')) for node in notSpanned}  ## to keep current link, if any, from mst to each node\n",
    "#shortestLink[shortest[0]] = (shortest[1], shortest[-1])  ## these 2 assignments are sort of useless, but they avoid key errors\n",
    "#shortestLink[shortest[1]] = (shortest[0], shortest[-1])\n",
    "for v in graphDict[shortest[0]] - {(shortest[1], shortest[-1])}:  ## don't want to append shortest[1] to the heap\n",
    "    ## to start out, any distance to the first tree node is the shortest so far\n",
    "    i = len(heap)\n",
    "    heap.append(v)\n",
    "    bubbleUp(heap, i)\n",
    "    shortestLink[v[0]] = (shortest[0], v[-1])  ## keep track of how each non-spanned node is attached to spanned, if at all\n",
    "\n",
    "## Now just build the heap with infinity as closest link for all nodes not attached to shortest[0]\n",
    "for v in notSpanned:\n",
    "    if shortestLink[v][-1] == float('inf'):\n",
    "        heap.append((v, float('inf')))\n",
    "## store heap locations of each unattached vertex:\n",
    "locs = dict()\n",
    "for i, v in enumerate(heap):\n",
    "    locs[v[0]] = i    "
   ]
  },
  {
   "cell_type": "code",
   "execution_count": 179,
   "metadata": {
    "collapsed": false
   },
   "outputs": [
    {
     "data": {
      "text/plain": [
       "{('152', '414', -10000)}"
      ]
     },
     "execution_count": 179,
     "metadata": {},
     "output_type": "execute_result"
    }
   ],
   "source": [
    "mst  ## just curious what the shortest edge is"
   ]
  },
  {
   "cell_type": "code",
   "execution_count": 180,
   "metadata": {
    "collapsed": false
   },
   "outputs": [
    {
     "data": {
      "text/plain": [
       "{'152', '414'}"
      ]
     },
     "execution_count": 180,
     "metadata": {},
     "output_type": "execute_result"
    }
   ],
   "source": [
    "spanned"
   ]
  },
  {
   "cell_type": "code",
   "execution_count": 181,
   "metadata": {
    "collapsed": false
   },
   "outputs": [
    {
     "data": {
      "text/plain": [
       "('250', -2644)"
      ]
     },
     "execution_count": 181,
     "metadata": {},
     "output_type": "execute_result"
    }
   ],
   "source": [
    "heap[4]"
   ]
  },
  {
   "cell_type": "code",
   "execution_count": 182,
   "metadata": {
    "collapsed": false
   },
   "outputs": [
    {
     "data": {
      "text/plain": [
       "4"
      ]
     },
     "execution_count": 182,
     "metadata": {},
     "output_type": "execute_result"
    }
   ],
   "source": [
    "locs['250']"
   ]
  },
  {
   "cell_type": "code",
   "execution_count": 183,
   "metadata": {
    "collapsed": false
   },
   "outputs": [
    {
     "data": {
      "text/plain": [
       "{('1', 3655),\n",
       " ('152', -10000),\n",
       " ('252', 6273),\n",
       " ('286', 5381),\n",
       " ('31', -2222),\n",
       " ('413', 7295),\n",
       " ('415', -2987),\n",
       " ('53', -507)}"
      ]
     },
     "execution_count": 183,
     "metadata": {},
     "output_type": "execute_result"
    }
   ],
   "source": [
    "graphDict['414']"
   ]
  },
  {
   "cell_type": "code",
   "execution_count": 184,
   "metadata": {
    "collapsed": false
   },
   "outputs": [],
   "source": [
    "## still need to update shortest[1]'s connections, since it's spanned.\n",
    "### This could've been incorporated into the main loop below, but this cell helps understand what's going on at the start\n",
    "for v in graphDict[shortest[1]]: \n",
    "    if v[0] not in spanned and v[-1] < shortestLink[v[0]][-1]:\n",
    "        shortestLink[v[0]] = (shortest[1], v[-1])\n",
    "        heap[locs[v[0]]] = v\n",
    "        bubbleUp(heap, newIndex=locs[v[0]], locDict=locs) ## can bubble up from current index since only smaller\n",
    "    "
   ]
  },
  {
   "cell_type": "code",
   "execution_count": 185,
   "metadata": {
    "collapsed": false
   },
   "outputs": [
    {
     "data": {
      "text/plain": [
       "[('60', -5617),\n",
       " ('227', -4796),\n",
       " ('31', -2222),\n",
       " ('415', -2987),\n",
       " ('250', -2644),\n",
       " ('363', 1994),\n",
       " ('63', -1476),\n",
       " ('393', 663),\n",
       " ('53', -507),\n",
       " ('391', 5083),\n",
       " ('151', -1850),\n",
       " ('139', 3671),\n",
       " ('286', 5381),\n",
       " ('51', inf)]"
      ]
     },
     "execution_count": 185,
     "metadata": {},
     "output_type": "execute_result"
    }
   ],
   "source": [
    "heap[:14]"
   ]
  },
  {
   "cell_type": "code",
   "execution_count": 186,
   "metadata": {
    "collapsed": false
   },
   "outputs": [],
   "source": [
    "while heap:  ## main loop depletes the heap and builds the MST 1 node at a time\n",
    "    swap(heap, 0, -1, locs)   ## extract min by swapping first and last heap elements, popping last, and bubbling down first\n",
    "    newEdge = heap.pop() ## e.g., ('60', -5617)\n",
    "    newVert = newEdge[0]   ## e.g., '60'\n",
    "    mst.add((newVert, shortestLink[newVert][0], newEdge[-1]))  ## e.g., ('60', '152', -5617)\n",
    "    spanned.add(newVert)\n",
    "    notSpanned.remove(newVert)  ## not currently using this set, but....\n",
    "    bubbleDown(heap, locDict=locs)   # since the previous last element was swapped into the removed min node's spot to maintain shape\n",
    "    for v in graphDict[newVert]:\n",
    "        if v[0] not in spanned and v[-1] < shortestLink[v[0]][-1]:   ## need this order of ifs to avoid key errors\n",
    "            shortestLink[v[0]] = (newVert, v[-1])\n",
    "            heap[locs[v[0]]] = v\n",
    "            bubbleUp(heap, newIndex=locs[v[0]], locDict=locs)\n",
    "\n"
   ]
  },
  {
   "cell_type": "code",
   "execution_count": 171,
   "metadata": {
    "collapsed": false
   },
   "outputs": [
    {
     "data": {
      "text/plain": [
       "('152', -5617)"
      ]
     },
     "execution_count": 171,
     "metadata": {},
     "output_type": "execute_result"
    }
   ],
   "source": [
    "shortestLink['60']"
   ]
  },
  {
   "cell_type": "code",
   "execution_count": 172,
   "metadata": {
    "collapsed": false
   },
   "outputs": [
    {
     "data": {
      "text/plain": [
       "{('151', 5579),\n",
       " ('152', -5617),\n",
       " ('158', 5691),\n",
       " ('281', -2544),\n",
       " ('337', 302),\n",
       " ('427', 2681),\n",
       " ('454', 632),\n",
       " ('456', 4219),\n",
       " ('483', -953),\n",
       " ('59', 1910),\n",
       " ('61', 4401),\n",
       " ('75', -4458),\n",
       " ('98', 1851)}"
      ]
     },
     "execution_count": 172,
     "metadata": {},
     "output_type": "execute_result"
    }
   ],
   "source": [
    "graphDict['60']"
   ]
  },
  {
   "cell_type": "code",
   "execution_count": 174,
   "metadata": {
    "collapsed": false
   },
   "outputs": [
    {
     "data": {
      "text/plain": [
       "('227', -5058)"
      ]
     },
     "execution_count": 174,
     "metadata": {},
     "output_type": "execute_result"
    }
   ],
   "source": [
    "shortestLink['226']"
   ]
  },
  {
   "cell_type": "code",
   "execution_count": 175,
   "metadata": {
    "collapsed": false
   },
   "outputs": [
    {
     "data": {
      "text/plain": [
       "{('1', '397', -5942),\n",
       " ('10', '9', -5012),\n",
       " ('100', '202', -7606),\n",
       " ('101', '22', -9660),\n",
       " ('102', '398', -8299),\n",
       " ('103', '454', -9992),\n",
       " ('104', '2', -8744),\n",
       " ('105', '478', -4873),\n",
       " ('106', '459', -7473),\n",
       " ('107', '31', -9611),\n",
       " ('108', '66', -8381),\n",
       " ('109', '65', -7488),\n",
       " ('11', '176', -9470),\n",
       " ('110', '132', -8834),\n",
       " ('111', '146', -9966),\n",
       " ('112', '496', -5901),\n",
       " ('113', '373', -5059),\n",
       " ('114', '113', -9800),\n",
       " ('115', '364', -5521),\n",
       " ('116', '197', -6213),\n",
       " ('117', '313', -8467),\n",
       " ('118', '117', -9012),\n",
       " ('119', '247', -1467),\n",
       " ('12', '11', -6736),\n",
       " ('120', '373', -9213),\n",
       " ('121', '382', -8779),\n",
       " ('122', '87', -8824),\n",
       " ('123', '124', -8728),\n",
       " ('124', '157', -8496),\n",
       " ('125', '124', -6474),\n",
       " ('126', '466', -7322),\n",
       " ('127', '94', -2436),\n",
       " ('128', '354', -9071),\n",
       " ('129', '318', -7647),\n",
       " ('13', '12', -7604),\n",
       " ('130', '237', -9047),\n",
       " ('131', '132', -7293),\n",
       " ('132', '363', -7224),\n",
       " ('133', '365', -8417),\n",
       " ('134', '133', -4059),\n",
       " ('135', '220', -9436),\n",
       " ('136', '259', -9993),\n",
       " ('137', '147', -8845),\n",
       " ('138', '304', -9806),\n",
       " ('139', '126', -8639),\n",
       " ('14', '219', -9493),\n",
       " ('140', '287', -3859),\n",
       " ('141', '92', -7312),\n",
       " ('142', '143', -7750),\n",
       " ('143', '460', -8069),\n",
       " ('144', '3', -9056),\n",
       " ('145', '116', -9135),\n",
       " ('146', '238', -9222),\n",
       " ('147', '156', -8069),\n",
       " ('148', '147', -9587),\n",
       " ('149', '226', -9402),\n",
       " ('15', '365', -9352),\n",
       " ('150', '151', -5445),\n",
       " ('151', '185', -6430),\n",
       " ('152', '414', -10000),\n",
       " ('153', '469', -7547),\n",
       " ('154', '43', -9305),\n",
       " ('155', '305', -8235),\n",
       " ('156', '22', -9282),\n",
       " ('157', '300', -8234),\n",
       " ('158', '252', -4490),\n",
       " ('159', '397', -7157),\n",
       " ('16', '15', -7753),\n",
       " ('160', '159', -7839),\n",
       " ('161', '377', -9871),\n",
       " ('162', '433', -5687),\n",
       " ('163', '52', -9821),\n",
       " ('164', '163', -5987),\n",
       " ('165', '118', -5992),\n",
       " ('166', '265', -3934),\n",
       " ('167', '312', -6573),\n",
       " ('168', '399', -5704),\n",
       " ('169', '338', -8967),\n",
       " ('17', '16', -4370),\n",
       " ('170', '320', -7051),\n",
       " ('171', '46', -3812),\n",
       " ('172', '211', -8557),\n",
       " ('173', '172', -9697),\n",
       " ('174', '175', -8677),\n",
       " ('175', '339', -7008),\n",
       " ('176', '175', -9786),\n",
       " ('177', '176', -9636),\n",
       " ('178', '448', -2604),\n",
       " ('179', '428', -8340),\n",
       " ('18', '433', -9810),\n",
       " ('180', '179', -5463),\n",
       " ('181', '79', -5362),\n",
       " ('182', '121', -5624),\n",
       " ('183', '102', -8982),\n",
       " ('184', '290', -4607),\n",
       " ('185', '52', -8731),\n",
       " ('186', '198', -9486),\n",
       " ('187', '387', -4246),\n",
       " ('188', '187', -9471),\n",
       " ('189', '225', -2315),\n",
       " ('19', '335', -7787),\n",
       " ('190', '154', -7567),\n",
       " ('191', '476', -7120),\n",
       " ('192', '433', -6813),\n",
       " ('193', '182', -6632),\n",
       " ('194', '496', -4010),\n",
       " ('195', '346', -9407),\n",
       " ('196', '195', -9529),\n",
       " ('197', '198', -6105),\n",
       " ('198', '234', -6093),\n",
       " ('199', '406', -3337),\n",
       " ('2', '173', -7751),\n",
       " ('20', '115', -7690),\n",
       " ('200', '198', -7410),\n",
       " ('201', '202', -8731),\n",
       " ('202', '203', -8100),\n",
       " ('203', '83', -8557),\n",
       " ('204', '131', -8867),\n",
       " ('205', '175', -8284),\n",
       " ('206', '432', -8822),\n",
       " ('207', '20', -9098),\n",
       " ('208', '466', -7370),\n",
       " ('209', '267', -6273),\n",
       " ('21', '352', 1462),\n",
       " ('210', '63', -3653),\n",
       " ('211', '443', -7502),\n",
       " ('212', '72', -8966),\n",
       " ('213', '86', -7043),\n",
       " ('214', '46', -8927),\n",
       " ('215', '214', -7142),\n",
       " ('216', '132', -7717),\n",
       " ('217', '491', -9531),\n",
       " ('218', '170', -7389),\n",
       " ('219', '220', -6876),\n",
       " ('22', '63', -7119),\n",
       " ('220', '15', -8415),\n",
       " ('221', '103', -9998),\n",
       " ('222', '221', -7797),\n",
       " ('223', '104', -7868),\n",
       " ('224', '170', -8631),\n",
       " ('225', '315', -9440),\n",
       " ('226', '227', -5058),\n",
       " ('227', '152', -4796),\n",
       " ('228', '397', -7927),\n",
       " ('229', '356', -7955),\n",
       " ('23', '198', 3114),\n",
       " ('230', '341', -9152),\n",
       " ('231', '204', -6073),\n",
       " ('232', '65', -9315),\n",
       " ('233', '234', -8309),\n",
       " ('234', '235', -5961),\n",
       " ('235', '62', -6507),\n",
       " ('236', '421', -6331),\n",
       " ('237', '268', -6651),\n",
       " ('238', '275', -7472),\n",
       " ('239', '238', -9874),\n",
       " ('24', '13', -9600),\n",
       " ('240', '19', -4667),\n",
       " ('241', '444', -6059),\n",
       " ('242', '241', -8966),\n",
       " ('243', '460', -7045),\n",
       " ('244', '218', -8687),\n",
       " ('245', '244', -9103),\n",
       " ('246', '336', -6729),\n",
       " ('247', '164', -2548),\n",
       " ('248', '165', -7477),\n",
       " ('249', '458', -6860),\n",
       " ('25', '288', -3078),\n",
       " ('250', '462', -5069),\n",
       " ('251', '449', -7320),\n",
       " ('252', '198', -6392),\n",
       " ('253', '436', -5911),\n",
       " ('254', '255', -8096),\n",
       " ('255', '298', -6885),\n",
       " ('256', '345', -5305),\n",
       " ('257', '448', -9484),\n",
       " ('258', '226', -9022),\n",
       " ('259', '122', -7997),\n",
       " ('26', '366', -7642),\n",
       " ('260', '267', -9134),\n",
       " ('261', '151', -7835),\n",
       " ('262', '263', -2202),\n",
       " ('263', '233', -8107),\n",
       " ('264', '212', -7012),\n",
       " ('265', '264', -8596),\n",
       " ('266', '196', -6390),\n",
       " ('267', '63', -8209),\n",
       " ('268', '267', -8907),\n",
       " ('269', '138', -9121),\n",
       " ('27', '28', -6775),\n",
       " ('270', '325', -6345),\n",
       " ('271', '439', -5855),\n",
       " ('272', '103', -7824),\n",
       " ('273', '274', -7658),\n",
       " ('274', '275', -4649),\n",
       " ('275', '16', -7206),\n",
       " ('276', '432', -7970),\n",
       " ('277', '233', -7785),\n",
       " ('278', '277', -6763),\n",
       " ('279', '280', -9809),\n",
       " ('28', '458', -9550),\n",
       " ('280', '254', -8438),\n",
       " ('281', '282', -8850),\n",
       " ('282', '283', -9803),\n",
       " ('283', '398', -7542),\n",
       " ('284', '354', -9097),\n",
       " ('285', '366', -9502),\n",
       " ('286', '212', -9917),\n",
       " ('287', '286', -9632),\n",
       " ('288', '287', -9903),\n",
       " ('289', '288', -5683),\n",
       " ('29', '61', -9929),\n",
       " ('290', '467', -4613),\n",
       " ('291', '100', -7435),\n",
       " ('292', '36', -6348),\n",
       " ('293', '343', -8657),\n",
       " ('294', '449', -7189),\n",
       " ('295', '132', -4924),\n",
       " ('296', '491', -7492),\n",
       " ('297', '289', -5802),\n",
       " ('298', '441', -5427),\n",
       " ('299', '412', -6638),\n",
       " ('3', '2', -8874),\n",
       " ('30', '31', -9951),\n",
       " ('300', '344', -8409),\n",
       " ('301', '499', -7760),\n",
       " ('302', '69', -4544),\n",
       " ('303', '302', -3618),\n",
       " ('304', '45', -9980),\n",
       " ('305', '122', -7289),\n",
       " ('306', '253', -952),\n",
       " ('307', '340', -8967),\n",
       " ('308', '83', -7277),\n",
       " ('309', '2', -7230),\n",
       " ('31', '156', -9373),\n",
       " ('310', '431', -7614),\n",
       " ('311', '310', -8711),\n",
       " ('312', '474', -8920),\n",
       " ('313', '470', -9447),\n",
       " ('314', '477', -6120),\n",
       " ('315', '230', -9532),\n",
       " ('316', '317', -7213),\n",
       " ('317', '453', -9333),\n",
       " ('318', '319', -5649),\n",
       " ('319', '220', -5456),\n",
       " ('32', '31', -8643),\n",
       " ('320', '357', -4449),\n",
       " ('321', '416', -8708),\n",
       " ('322', '131', -8494),\n",
       " ('323', '398', -9158),\n",
       " ('324', '30', -9689),\n",
       " ('325', '249', -5814),\n",
       " ('326', '277', -2266),\n",
       " ('327', '453', -8709),\n",
       " ('328', '19', -8231),\n",
       " ('329', '498', -9021),\n",
       " ('33', '301', -7033),\n",
       " ('330', '329', -9595),\n",
       " ('331', '232', -1972),\n",
       " ('332', '352', -7936),\n",
       " ('333', '32', -5050),\n",
       " ('334', '411', -5706),\n",
       " ('335', '159', -8205),\n",
       " ('336', '40', -7189),\n",
       " ('337', '383', -6903),\n",
       " ('338', '382', -8645),\n",
       " ('339', '338', -9443),\n",
       " ('34', '169', -9727),\n",
       " ('340', '258', -7890),\n",
       " ('341', '310', -9066),\n",
       " ('342', '67', -9488),\n",
       " ('343', '488', -6842),\n",
       " ('344', '453', -8302),\n",
       " ('345', '425', -5731),\n",
       " ('346', '309', -9056),\n",
       " ('347', '468', -4049),\n",
       " ('348', '118', -7076),\n",
       " ('349', '282', -9869),\n",
       " ('35', '225', -9215),\n",
       " ('350', '351', -4579),\n",
       " ('351', '264', -5652),\n",
       " ('352', '103', -8013),\n",
       " ('353', '45', -6425),\n",
       " ('354', '307', -7654),\n",
       " ('355', '420', -8857),\n",
       " ('356', '344', -7281),\n",
       " ('357', '321', -7452),\n",
       " ('358', '359', -4330),\n",
       " ('359', '185', -6637),\n",
       " ('36', '497', -5712),\n",
       " ('360', '489', -9515),\n",
       " ('361', '360', -5118),\n",
       " ('362', '363', -5503),\n",
       " ('363', '85', -7094),\n",
       " ('364', '4', -8897),\n",
       " ('365', '100', -8596),\n",
       " ('366', '365', -9219),\n",
       " ('367', '19', -5912),\n",
       " ('368', '474', -7991),\n",
       " ('369', '368', -8888),\n",
       " ('37', '36', -7609),\n",
       " ('370', '420', -9950),\n",
       " ('371', '398', -9477),\n",
       " ('372', '171', -6686),\n",
       " ('373', '470', -8502),\n",
       " ('374', '203', -6327),\n",
       " ('375', '374', -7986),\n",
       " ('376', '32', -5448),\n",
       " ('377', '376', -2445),\n",
       " ('378', '106', -5125),\n",
       " ('379', '378', -2951),\n",
       " ('38', '388', -7439),\n",
       " ('380', '367', -5349),\n",
       " ('381', '380', -5578),\n",
       " ('382', '366', -6765),\n",
       " ('383', '382', -5091),\n",
       " ('384', '442', -9312),\n",
       " ('385', '386', -4429),\n",
       " ('386', '228', -9013),\n",
       " ('387', '102', -9849),\n",
       " ('388', '97', -7687),\n",
       " ('389', '308', -8415),\n",
       " ('39', '122', -6276),\n",
       " ('390', '10', -8598),\n",
       " ('391', '239', -9266),\n",
       " ('392', '393', -8912),\n",
       " ('393', '126', -6017),\n",
       " ('394', '169', -4660),\n",
       " ('395', '358', -6761),\n",
       " ('396', '397', -1734),\n",
       " ('397', '343', -7570),\n",
       " ('398', '476', -8221),\n",
       " ('399', '398', -8532),\n",
       " ('4', '82', -6069),\n",
       " ('40', '81', -5474),\n",
       " ('400', '433', -6294),\n",
       " ('401', '126', -8102),\n",
       " ('402', '403', -2763),\n",
       " ('403', '59', -5780),\n",
       " ('404', '77', -3515),\n",
       " ('405', '164', -4926),\n",
       " ('406', '203', -9424),\n",
       " ('407', '329', -5566),\n",
       " ('408', '267', -7695),\n",
       " ('409', '92', -8102),\n",
       " ('41', '183', -9848),\n",
       " ('410', '493', -7145),\n",
       " ('411', '389', -7853),\n",
       " ('412', '128', -9322),\n",
       " ('413', '235', -8868),\n",
       " ('415', '414', -2987),\n",
       " ('416', '7', -5246),\n",
       " ('417', '416', -5636),\n",
       " ('418', '298', -9505),\n",
       " ('419', '141', -3743),\n",
       " ('42', '43', -4823),\n",
       " ('420', '325', -4767),\n",
       " ('421', '422', -7189),\n",
       " ('422', '469', -8414),\n",
       " ('423', '422', -4343),\n",
       " ('424', '399', -4886),\n",
       " ('425', '426', -8875),\n",
       " ('426', '365', -6930),\n",
       " ('427', '376', -7114),\n",
       " ('428', '173', -8093),\n",
       " ('429', '141', -1127),\n",
       " ('43', '44', -6198),\n",
       " ('430', '431', -7532),\n",
       " ('431', '138', -8652),\n",
       " ('432', '366', -9909),\n",
       " ('433', '482', -5668),\n",
       " ('434', '433', -8966),\n",
       " ('435', '421', -8158),\n",
       " ('436', '435', -7818),\n",
       " ('437', '291', -8494),\n",
       " ('438', '246', -3820),\n",
       " ('439', '440', -7217),\n",
       " ('44', '197', -7215),\n",
       " ('440', '255', -8229),\n",
       " ('441', '442', -9851),\n",
       " ('442', '454', -7877),\n",
       " ('443', '442', -7558),\n",
       " ('444', '443', -8151),\n",
       " ('445', '83', -6696),\n",
       " ('446', '445', -9813),\n",
       " ('447', '94', -8934),\n",
       " ('448', '447', -9184),\n",
       " ('449', '169', -7246),\n",
       " ('45', '202', -8727),\n",
       " ('450', '398', -9491),\n",
       " ('451', '333', -5301),\n",
       " ('452', '193', -9490),\n",
       " ('453', '88', -8693),\n",
       " ('454', '366', -9405),\n",
       " ('455', '314', -9700),\n",
       " ('456', '34', -5727),\n",
       " ('457', '458', -3644),\n",
       " ('458', '459', -9068),\n",
       " ('459', '360', -6735),\n",
       " ('46', '259', -6561),\n",
       " ('460', '492', -5705),\n",
       " ('461', '336', -8129),\n",
       " ('462', '461', -9989),\n",
       " ('463', '292', -5174),\n",
       " ('464', '267', -7760),\n",
       " ('465', '130', -5821),\n",
       " ('466', '356', -8140),\n",
       " ('467', '204', -8510),\n",
       " ('468', '469', -3667),\n",
       " ('469', '283', -9907),\n",
       " ('47', '46', -6059),\n",
       " ('470', '469', -8102),\n",
       " ('471', '472', -5564),\n",
       " ('472', '473', -9211),\n",
       " ('473', '463', -5410),\n",
       " ('474', '475', -7052),\n",
       " ('475', '464', -9291),\n",
       " ('476', '276', -9556),\n",
       " ('477', '88', -6582),\n",
       " ('478', '193', -4892),\n",
       " ('479', '260', -7629),\n",
       " ('48', '380', -8760),\n",
       " ('480', '401', -8775),\n",
       " ('481', '398', -9932),\n",
       " ('482', '248', -6116),\n",
       " ('483', '482', -9453),\n",
       " ('484', '49', -6785),\n",
       " ('485', '97', -9789),\n",
       " ('486', '156', -8359),\n",
       " ('487', '313', -320),\n",
       " ('488', '167', -9090),\n",
       " ('489', '454', -9298),\n",
       " ('49', '95', -3905),\n",
       " ('490', '489', -9312),\n",
       " ('491', '137', -7463),\n",
       " ('492', '375', -6444),\n",
       " ('493', '492', -4854),\n",
       " ('494', '298', -4071),\n",
       " ('495', '300', -8315),\n",
       " ('496', '272', -7845),\n",
       " ('497', '452', -8325),\n",
       " ('498', '153', -6845),\n",
       " ('499', '498', -6861),\n",
       " ('5', '122', 722),\n",
       " ('50', '228', -4294),\n",
       " ('500', '286', -6235),\n",
       " ('51', '327', -9020),\n",
       " ('52', '238', -8566),\n",
       " ('53', '70', -5040),\n",
       " ('54', '55', -1572),\n",
       " ('55', '111', -3854),\n",
       " ('56', '475', -6542),\n",
       " ('57', '258', -5160),\n",
       " ('58', '333', -6694),\n",
       " ('59', '158', -9038),\n",
       " ('6', '297', -3253),\n",
       " ('60', '152', -5617),\n",
       " ('61', '83', -7267),\n",
       " ('62', '173', -7617),\n",
       " ('63', '62', -9504),\n",
       " ('64', '148', -7784),\n",
       " ('65', '470', -7730),\n",
       " ('66', '41', -4827),\n",
       " ('67', '230', -5611),\n",
       " ('68', '485', -4213),\n",
       " ('69', '265', -6541),\n",
       " ('7', '8', -7507),\n",
       " ('70', '69', -3532),\n",
       " ('71', '170', -9236),\n",
       " ('72', '153', -9242),\n",
       " ('73', '380', -9971),\n",
       " ('74', '55', -9806),\n",
       " ('75', '422', -9088),\n",
       " ('76', '467', -8172),\n",
       " ('77', '352', -3500),\n",
       " ('78', '292', -1847),\n",
       " ('79', '492', -9964),\n",
       " ('8', '124', -5969),\n",
       " ('80', '313', -2736),\n",
       " ('81', '106', -5778),\n",
       " ('82', '469', -9808),\n",
       " ('83', '340', -8417),\n",
       " ('84', '95', -7979),\n",
       " ('85', '22', -9225),\n",
       " ('86', '219', -6473),\n",
       " ('87', '226', -9223),\n",
       " ('88', '61', -8574),\n",
       " ('89', '296', -4929),\n",
       " ('9', '307', -4003),\n",
       " ('90', '110', -6267),\n",
       " ('91', '3', -8754),\n",
       " ('92', '196', -4884),\n",
       " ('93', '94', -8183),\n",
       " ('94', '82', -7789),\n",
       " ('95', '96', -6715),\n",
       " ('96', '97', -9266),\n",
       " ('97', '147', -6620),\n",
       " ('98', '368', -7792),\n",
       " ('99', '223', -6699)}"
      ]
     },
     "execution_count": 175,
     "metadata": {},
     "output_type": "execute_result"
    }
   ],
   "source": [
    "mst"
   ]
  },
  {
   "cell_type": "code",
   "execution_count": 176,
   "metadata": {
    "collapsed": false
   },
   "outputs": [
    {
     "data": {
      "text/plain": [
       "499"
      ]
     },
     "execution_count": 176,
     "metadata": {},
     "output_type": "execute_result"
    }
   ],
   "source": [
    "len(mst)"
   ]
  },
  {
   "cell_type": "code",
   "execution_count": 177,
   "metadata": {
    "collapsed": false
   },
   "outputs": [
    {
     "name": "stdout",
     "output_type": "stream",
     "text": [
      "-3612829\n"
     ]
    }
   ],
   "source": [
    "total = 0\n",
    "for e in mst:\n",
    "    total += e[-1]\n",
    "print(total)   ## Assignment answer"
   ]
  },
  {
   "cell_type": "code",
   "execution_count": null,
   "metadata": {
    "collapsed": true
   },
   "outputs": [],
   "source": []
  }
 ],
 "metadata": {
  "kernelspec": {
   "display_name": "Python 3",
   "language": "python",
   "name": "python3"
  },
  "language_info": {
   "codemirror_mode": {
    "name": "ipython",
    "version": 3
   },
   "file_extension": ".py",
   "mimetype": "text/x-python",
   "name": "python",
   "nbconvert_exporter": "python",
   "pygments_lexer": "ipython3",
   "version": "3.6.0"
  }
 },
 "nbformat": 4,
 "nbformat_minor": 2
}
