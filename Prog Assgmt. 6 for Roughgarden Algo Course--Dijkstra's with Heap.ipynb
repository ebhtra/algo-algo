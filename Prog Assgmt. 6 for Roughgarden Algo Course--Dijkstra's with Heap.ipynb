{
 "cells": [
  {
   "cell_type": "markdown",
   "metadata": {},
   "source": [
    "# Dijkstra's shortest path algorithm, including a heap implementation from scratch"
   ]
  },
  {
   "cell_type": "code",
   "execution_count": 27,
   "metadata": {
    "collapsed": true
   },
   "outputs": [],
   "source": [
    "# load graph represented by adjacency lists\n",
    "with open('Downloads/dijkstraData.txt') as f:\n",
    "    graph = f.readlines()"
   ]
  },
  {
   "cell_type": "code",
   "execution_count": 28,
   "metadata": {
    "collapsed": false
   },
   "outputs": [
    {
     "data": {
      "text/plain": [
       "200"
      ]
     },
     "execution_count": 28,
     "metadata": {},
     "output_type": "execute_result"
    }
   ],
   "source": [
    "len(graph)"
   ]
  },
  {
   "cell_type": "code",
   "execution_count": 29,
   "metadata": {
    "collapsed": false
   },
   "outputs": [
    {
     "data": {
      "text/plain": [
       "'1\\t80,982\\t163,8164\\t170,2620\\t145,648\\t200,8021\\t173,2069\\t92,647\\t26,4122\\t140,546\\t11,1913\\t160,6461\\t27,7905\\t40,9047\\t150,2183\\t61,9146\\t159,7420\\t198,1724\\t114,508\\t104,6647\\t30,4612\\t99,2367\\t138,7896\\t169,8700\\t49,2437\\t125,2909\\t117,2597\\t55,6399\\t\\n'"
      ]
     },
     "execution_count": 29,
     "metadata": {},
     "output_type": "execute_result"
    }
   ],
   "source": [
    "min(graph)"
   ]
  },
  {
   "cell_type": "code",
   "execution_count": 30,
   "metadata": {
    "collapsed": false
   },
   "outputs": [
    {
     "data": {
      "text/plain": [
       "'99\\t104,9140\\t18,5717\\t174,5675\\t157,6818\\t132,6234\\t182,2897\\t151,4990\\t183,3577\\t59,671\\t133,2090\\t23,6485\\t153,4560\\t31,8583\\t74,7031\\t1,2367\\t127,1408\\t37,7757\\t193,4566\\t194,5832\\t38,6169\\t\\n'"
      ]
     },
     "execution_count": 30,
     "metadata": {},
     "output_type": "execute_result"
    }
   ],
   "source": [
    "max(graph)"
   ]
  },
  {
   "cell_type": "markdown",
   "metadata": {},
   "source": [
    "### Looks like graph needs some pre-processing"
   ]
  },
  {
   "cell_type": "code",
   "execution_count": 31,
   "metadata": {
    "collapsed": false
   },
   "outputs": [],
   "source": [
    "graph = [line.strip('\\t\\n') for line in graph]"
   ]
  },
  {
   "cell_type": "code",
   "execution_count": 32,
   "metadata": {
    "collapsed": false
   },
   "outputs": [],
   "source": [
    "graph = [line.split('\\t') for line in graph]"
   ]
  },
  {
   "cell_type": "code",
   "execution_count": 50,
   "metadata": {
    "collapsed": true
   },
   "outputs": [],
   "source": [
    "graphDict = {int(line.pop(0)):set() for line in graph}"
   ]
  },
  {
   "cell_type": "code",
   "execution_count": 53,
   "metadata": {
    "collapsed": false
   },
   "outputs": [],
   "source": [
    "graph = [[edge.split(',') for edge in line] for line in graph]"
   ]
  },
  {
   "cell_type": "code",
   "execution_count": 79,
   "metadata": {
    "collapsed": false,
    "scrolled": true
   },
   "outputs": [
    {
     "name": "stdout",
     "output_type": "stream",
     "text": [
      "[['80', '982'], ['163', '8164'], ['170', '2620'], ['145', '648'], ['200', '8021'], ['173', '2069'], ['92', '647'], ['26', '4122'], ['140', '546'], ['11', '1913'], ['160', '6461'], ['27', '7905'], ['40', '9047'], ['150', '2183'], ['61', '9146'], ['159', '7420'], ['198', '1724'], ['114', '508'], ['104', '6647'], ['30', '4612'], ['99', '2367'], ['138', '7896'], ['169', '8700'], ['49', '2437'], ['125', '2909'], ['117', '2597'], ['55', '6399']]\n"
     ]
    }
   ],
   "source": [
    "print(graph[0])"
   ]
  },
  {
   "cell_type": "code",
   "execution_count": 58,
   "metadata": {
    "collapsed": false,
    "scrolled": true
   },
   "outputs": [],
   "source": [
    "for i in range(200):\n",
    "    for e in graph[i]:\n",
    "        graphDict[i+1].add((int(e[0]), int(e[1])))"
   ]
  },
  {
   "cell_type": "code",
   "execution_count": 78,
   "metadata": {
    "collapsed": false,
    "scrolled": true
   },
   "outputs": [
    {
     "name": "stdout",
     "output_type": "stream",
     "text": [
      "{(159, 7420), (145, 648), (125, 2909), (104, 6647), (138, 7896), (114, 508), (30, 4612), (92, 647), (163, 8164), (198, 1724), (80, 982), (99, 2367), (150, 2183), (61, 9146), (173, 2069), (140, 546), (55, 6399), (26, 4122), (200, 8021), (11, 1913), (170, 2620), (49, 2437), (27, 7905), (40, 9047), (169, 8700), (117, 2597), (160, 6461)}\n"
     ]
    }
   ],
   "source": [
    "print(graphDict[1])"
   ]
  },
  {
   "cell_type": "markdown",
   "metadata": {},
   "source": [
    "## Guess we need a reverse adjacency list as well, for referencing edges by heads"
   ]
  },
  {
   "cell_type": "code",
   "execution_count": 60,
   "metadata": {
    "collapsed": true
   },
   "outputs": [],
   "source": [
    "revGraph = {h:set() for h in range(1,201)}"
   ]
  },
  {
   "cell_type": "code",
   "execution_count": 70,
   "metadata": {
    "collapsed": false
   },
   "outputs": [],
   "source": [
    "for tail in graphDict:\n",
    "    for (head, dist) in graphDict[tail]:\n",
    "        revGraph[head].add((tail, dist))"
   ]
  },
  {
   "cell_type": "code",
   "execution_count": 77,
   "metadata": {
    "collapsed": false,
    "scrolled": true
   },
   "outputs": [
    {
     "name": "stdout",
     "output_type": "stream",
     "text": [
      "{(159, 7420), (145, 648), (125, 2909), (104, 6647), (138, 7896), (114, 508), (30, 4612), (92, 647), (163, 8164), (198, 1724), (80, 982), (99, 2367), (150, 2183), (61, 9146), (173, 2069), (140, 546), (55, 6399), (26, 4122), (200, 8021), (11, 1913), (170, 2620), (49, 2437), (27, 7905), (40, 9047), (169, 8700), (117, 2597), (160, 6461)}\n"
     ]
    }
   ],
   "source": [
    "print(revGraph[1])"
   ]
  },
  {
   "cell_type": "markdown",
   "metadata": {},
   "source": [
    "## hmmmmm, revGraph appears to be same as graphDict, so apparently this is an undirected graph, and the reverse dict was unnecessary"
   ]
  },
  {
   "cell_type": "code",
   "execution_count": 75,
   "metadata": {
    "collapsed": false
   },
   "outputs": [
    {
     "name": "stdout",
     "output_type": "stream",
     "text": [
      "{(135, 861), (50, 758), (45, 1794), (178, 4194), (144, 9987), (151, 9629), (57, 6850), (163, 3870), (29, 2784), (97, 7026), (43, 5400), (105, 6821), (59, 9801), (77, 8638), (172, 2070)}\n"
     ]
    }
   ],
   "source": [
    "print(graphDict[13])"
   ]
  },
  {
   "cell_type": "code",
   "execution_count": 76,
   "metadata": {
    "collapsed": false
   },
   "outputs": [
    {
     "name": "stdout",
     "output_type": "stream",
     "text": [
      "{(23, 4560), (48, 8869), (10, 4650), (20, 6434), (194, 5726), (190, 1431), (78, 6919), (122, 6345), (144, 6396), (82, 519), (150, 9732), (174, 6977), (158, 8348), (127, 1752), (184, 7629), (134, 276), (13, 861), (4, 7582), (173, 5664)}\n"
     ]
    }
   ],
   "source": [
    "print(graphDict[135])"
   ]
  },
  {
   "cell_type": "markdown",
   "metadata": {},
   "source": [
    "## Now to implement a heap structure that will allow for log(n) time deletion of edges and constant time extraction of min-length edges"
   ]
  },
  {
   "cell_type": "code",
   "execution_count": 82,
   "metadata": {
    "collapsed": true
   },
   "outputs": [],
   "source": [
    "## First, a way to compare heap nodes by \"greedy dijkstra\" key.\n",
    "##  Seems like heap items will be in the form of (node, score). \n",
    "def shorter(edge1, edge2):\n",
    "    return edge1[-1] <= edge2[-1]"
   ]
  },
  {
   "cell_type": "code",
   "execution_count": 138,
   "metadata": {
    "collapsed": true
   },
   "outputs": [],
   "source": [
    "## Next, a utility to swap in place two array items while maintaining a list of their locations in the array\n",
    "def swap(arr, i, j, locator=None):\n",
    "    if locator:\n",
    "        locator[arr[i][0]] = j\n",
    "        locator[arr[j][0]] = i\n",
    "    temp = arr[i]\n",
    "    arr[i] = arr[j]\n",
    "    arr[j] = temp"
   ]
  },
  {
   "cell_type": "code",
   "execution_count": 125,
   "metadata": {
    "collapsed": true
   },
   "outputs": [],
   "source": [
    "def bubbleUp(array, newIndex, locList=None):\n",
    "    while newIndex > 0:\n",
    "        oldIndex = (newIndex + 1) // 2 - 1\n",
    "        if shorter(array[oldIndex], array[newIndex]):\n",
    "            return\n",
    "        swap(array, newIndex, oldIndex, locList)\n",
    "        newIndex = oldIndex"
   ]
  },
  {
   "cell_type": "code",
   "execution_count": 126,
   "metadata": {
    "collapsed": true
   },
   "outputs": [],
   "source": [
    "def bubbleDown(array, newIndex=0, locList=None):\n",
    "    # default newIndex to 0 for when the item to bubble down has just been swapped from end of array to start\n",
    "    leftChild = (newIndex + 1) * 2 - 1 # left child of newIndex\n",
    "    while leftChild < len(array):\n",
    "        minChild = leftChild + 1  # right child of newIndex\n",
    "        if minChild == len(array):  # rare case where the bubbleDown has reached a final, left child without sibling\n",
    "            if shorter(array[newIndex], array[leftChild]): return\n",
    "            else:\n",
    "                swap(array, leftChild, newIndex, locList)\n",
    "                return\n",
    "        if shorter(array[leftChild], array[minChild]):\n",
    "            minChild = leftChild\n",
    "        if shorter(array[newIndex], array[minChild]):\n",
    "            return\n",
    "        swap(array, newIndex, minChild, locList)\n",
    "        newIndex = minChild\n",
    "        leftChild = (newIndex + 1) * 2 - 1"
   ]
  },
  {
   "cell_type": "markdown",
   "metadata": {},
   "source": [
    "## Dijkstra's with heap"
   ]
  },
  {
   "cell_type": "code",
   "execution_count": 142,
   "metadata": {
    "collapsed": false
   },
   "outputs": [],
   "source": [
    "## Build the heap\n",
    "source = 1\n",
    "attached = {source}\n",
    "unattached = set(graphDict.keys()) - attached\n",
    "heap = []\n",
    "for edge in graphDict[source]:\n",
    "    i = len(heap)\n",
    "    heap.append(edge)\n",
    "    bubbleUp(heap, i)\n",
    "for node in set(graphDict.keys()) - {t[0] for t in graphDict[1]} - attached:\n",
    "    heap.append((node, float('inf')))\n",
    "    \n",
    "locs = [-1 for _ in range(201)]  ## this will store heap locations of each unattached vertex\n",
    "for i, v in enumerate(heap):\n",
    "    locs[v[0]] = i    "
   ]
  },
  {
   "cell_type": "code",
   "execution_count": 143,
   "metadata": {
    "collapsed": false
   },
   "outputs": [
    {
     "data": {
      "text/plain": [
       "199"
      ]
     },
     "execution_count": 143,
     "metadata": {},
     "output_type": "execute_result"
    }
   ],
   "source": [
    "len(heap)"
   ]
  },
  {
   "cell_type": "code",
   "execution_count": 144,
   "metadata": {
    "collapsed": false,
    "scrolled": true
   },
   "outputs": [
    {
     "data": {
      "text/plain": [
       "[(114, 508),\n",
       " (140, 546),\n",
       " (145, 648),\n",
       " (92, 647),\n",
       " (80, 982),\n",
       " (150, 2183),\n",
       " (173, 2069),\n",
       " (55, 6399),\n",
       " (26, 4122),\n",
       " (11, 1913),\n",
       " (198, 1724),\n",
       " (125, 2909),\n",
       " (99, 2367),\n",
       " (61, 9146),\n",
       " (30, 4612),\n",
       " (159, 7420),\n",
       " (104, 6647),\n",
       " (163, 8164),\n",
       " (200, 8021),\n",
       " (138, 7896),\n",
       " (170, 2620),\n",
       " (49, 2437),\n",
       " (27, 7905),\n",
       " (40, 9047),\n",
       " (169, 8700),\n",
       " (117, 2597),\n",
       " (160, 6461),\n",
       " (2, inf),\n",
       " (3, inf),\n",
       " (4, inf),\n",
       " (5, inf),\n",
       " (6, inf),\n",
       " (7, inf),\n",
       " (8, inf),\n",
       " (9, inf),\n",
       " (10, inf),\n",
       " (12, inf),\n",
       " (13, inf),\n",
       " (14, inf),\n",
       " (15, inf),\n",
       " (16, inf),\n",
       " (17, inf),\n",
       " (18, inf),\n",
       " (19, inf),\n",
       " (20, inf),\n",
       " (21, inf),\n",
       " (22, inf),\n",
       " (23, inf),\n",
       " (24, inf),\n",
       " (25, inf),\n",
       " (28, inf),\n",
       " (29, inf),\n",
       " (31, inf),\n",
       " (32, inf),\n",
       " (33, inf),\n",
       " (34, inf),\n",
       " (35, inf),\n",
       " (36, inf),\n",
       " (37, inf),\n",
       " (38, inf),\n",
       " (39, inf),\n",
       " (41, inf),\n",
       " (42, inf),\n",
       " (43, inf),\n",
       " (44, inf),\n",
       " (45, inf),\n",
       " (46, inf),\n",
       " (47, inf),\n",
       " (48, inf),\n",
       " (50, inf),\n",
       " (51, inf),\n",
       " (52, inf),\n",
       " (53, inf),\n",
       " (54, inf),\n",
       " (56, inf),\n",
       " (57, inf),\n",
       " (58, inf),\n",
       " (59, inf),\n",
       " (60, inf),\n",
       " (62, inf),\n",
       " (63, inf),\n",
       " (64, inf),\n",
       " (65, inf),\n",
       " (66, inf),\n",
       " (67, inf),\n",
       " (68, inf),\n",
       " (69, inf),\n",
       " (70, inf),\n",
       " (71, inf),\n",
       " (72, inf),\n",
       " (73, inf),\n",
       " (74, inf),\n",
       " (75, inf),\n",
       " (76, inf),\n",
       " (77, inf),\n",
       " (78, inf),\n",
       " (79, inf),\n",
       " (81, inf),\n",
       " (82, inf),\n",
       " (83, inf),\n",
       " (84, inf),\n",
       " (85, inf),\n",
       " (86, inf),\n",
       " (87, inf),\n",
       " (88, inf),\n",
       " (89, inf),\n",
       " (90, inf),\n",
       " (91, inf),\n",
       " (93, inf),\n",
       " (94, inf),\n",
       " (95, inf),\n",
       " (96, inf),\n",
       " (97, inf),\n",
       " (98, inf),\n",
       " (100, inf),\n",
       " (101, inf),\n",
       " (102, inf),\n",
       " (103, inf),\n",
       " (105, inf),\n",
       " (106, inf),\n",
       " (107, inf),\n",
       " (108, inf),\n",
       " (109, inf),\n",
       " (110, inf),\n",
       " (111, inf),\n",
       " (112, inf),\n",
       " (113, inf),\n",
       " (115, inf),\n",
       " (116, inf),\n",
       " (118, inf),\n",
       " (119, inf),\n",
       " (120, inf),\n",
       " (121, inf),\n",
       " (122, inf),\n",
       " (123, inf),\n",
       " (124, inf),\n",
       " (126, inf),\n",
       " (127, inf),\n",
       " (128, inf),\n",
       " (129, inf),\n",
       " (130, inf),\n",
       " (131, inf),\n",
       " (132, inf),\n",
       " (133, inf),\n",
       " (134, inf),\n",
       " (135, inf),\n",
       " (136, inf),\n",
       " (137, inf),\n",
       " (139, inf),\n",
       " (141, inf),\n",
       " (142, inf),\n",
       " (143, inf),\n",
       " (144, inf),\n",
       " (146, inf),\n",
       " (147, inf),\n",
       " (148, inf),\n",
       " (149, inf),\n",
       " (151, inf),\n",
       " (152, inf),\n",
       " (153, inf),\n",
       " (154, inf),\n",
       " (155, inf),\n",
       " (156, inf),\n",
       " (157, inf),\n",
       " (158, inf),\n",
       " (161, inf),\n",
       " (162, inf),\n",
       " (164, inf),\n",
       " (165, inf),\n",
       " (166, inf),\n",
       " (167, inf),\n",
       " (168, inf),\n",
       " (171, inf),\n",
       " (172, inf),\n",
       " (174, inf),\n",
       " (175, inf),\n",
       " (176, inf),\n",
       " (177, inf),\n",
       " (178, inf),\n",
       " (179, inf),\n",
       " (180, inf),\n",
       " (181, inf),\n",
       " (182, inf),\n",
       " (183, inf),\n",
       " (184, inf),\n",
       " (185, inf),\n",
       " (186, inf),\n",
       " (187, inf),\n",
       " (188, inf),\n",
       " (189, inf),\n",
       " (190, inf),\n",
       " (191, inf),\n",
       " (192, inf),\n",
       " (193, inf),\n",
       " (194, inf),\n",
       " (195, inf),\n",
       " (196, inf),\n",
       " (197, inf),\n",
       " (199, inf)]"
      ]
     },
     "execution_count": 144,
     "metadata": {},
     "output_type": "execute_result"
    }
   ],
   "source": [
    "heap"
   ]
  },
  {
   "cell_type": "code",
   "execution_count": 145,
   "metadata": {
    "collapsed": false
   },
   "outputs": [
    {
     "data": {
      "text/plain": [
       "0"
      ]
     },
     "execution_count": 145,
     "metadata": {},
     "output_type": "execute_result"
    }
   ],
   "source": [
    "locs[114]"
   ]
  },
  {
   "cell_type": "code",
   "execution_count": 146,
   "metadata": {
    "collapsed": false
   },
   "outputs": [],
   "source": [
    "numNodes = 200\n",
    "distList = [1000000 for _ in range(numNodes + 1)]  # return a million in this assignment for nodes not connected to source\n",
    "distList[source] = 0\n",
    "while heap:\n",
    "    swap(heap, 0, -1, locs)\n",
    "    newEdge = heap.pop()\n",
    "    distList[newEdge[0]] = newEdge[1]\n",
    "    attached.add(newEdge[0])\n",
    "    unattached.remove(newEdge[0])\n",
    "    bubbleDown(heap, locList=locs)   # since the previous last element was swapped into the removed min node's spot to maintain shape\n",
    "    ## Now rescore any new crossing edges and bubble them up, since scores can only go down\n",
    "    for otherEnd in graphDict[newEdge[0]]:\n",
    "        if otherEnd[0] in unattached:\n",
    "            if newEdge[1] + otherEnd[1] < heap[locs[otherEnd[0]]][1]:\n",
    "                heap[locs[otherEnd[0]]] = (otherEnd[0], newEdge[1] + otherEnd[1])\n",
    "                bubbleUp(heap, newIndex=locs[otherEnd[0]], locList=locs)\n",
    "    "
   ]
  },
  {
   "cell_type": "code",
   "execution_count": 147,
   "metadata": {
    "collapsed": false
   },
   "outputs": [
    {
     "data": {
      "text/plain": [
       "[1000000,\n",
       " 0,\n",
       " 2971,\n",
       " 2644,\n",
       " 3056,\n",
       " 2525,\n",
       " 2818,\n",
       " 2599,\n",
       " 1875,\n",
       " 745,\n",
       " 3205,\n",
       " 1551,\n",
       " 2906,\n",
       " 2394,\n",
       " 1803,\n",
       " 2942,\n",
       " 1837,\n",
       " 3111,\n",
       " 2284,\n",
       " 1044,\n",
       " 2351,\n",
       " 3630,\n",
       " 4028,\n",
       " 2650,\n",
       " 3653,\n",
       " 2249,\n",
       " 2150,\n",
       " 1222,\n",
       " 2090,\n",
       " 3540,\n",
       " 2303,\n",
       " 3455,\n",
       " 3004,\n",
       " 2551,\n",
       " 2656,\n",
       " 998,\n",
       " 2236,\n",
       " 2610,\n",
       " 3548,\n",
       " 1851,\n",
       " 4091,\n",
       " 2732,\n",
       " 2040,\n",
       " 3312,\n",
       " 2142,\n",
       " 3438,\n",
       " 2937,\n",
       " 2979,\n",
       " 2757,\n",
       " 2437,\n",
       " 3152,\n",
       " 2503,\n",
       " 2817,\n",
       " 2420,\n",
       " 3369,\n",
       " 2862,\n",
       " 2609,\n",
       " 2857,\n",
       " 3668,\n",
       " 2947,\n",
       " 2592,\n",
       " 1676,\n",
       " 2573,\n",
       " 2498,\n",
       " 2047,\n",
       " 826,\n",
       " 3393,\n",
       " 2535,\n",
       " 4636,\n",
       " 3650,\n",
       " 743,\n",
       " 1265,\n",
       " 1539,\n",
       " 3007,\n",
       " 4286,\n",
       " 2720,\n",
       " 3220,\n",
       " 2298,\n",
       " 2795,\n",
       " 2806,\n",
       " 982,\n",
       " 2976,\n",
       " 2052,\n",
       " 3997,\n",
       " 2656,\n",
       " 1193,\n",
       " 2461,\n",
       " 1608,\n",
       " 3046,\n",
       " 3261,\n",
       " 2018,\n",
       " 2786,\n",
       " 647,\n",
       " 3542,\n",
       " 3415,\n",
       " 2186,\n",
       " 2398,\n",
       " 4248,\n",
       " 3515,\n",
       " 2367,\n",
       " 2970,\n",
       " 3536,\n",
       " 2478,\n",
       " 1826,\n",
       " 2551,\n",
       " 3368,\n",
       " 2303,\n",
       " 2540,\n",
       " 1169,\n",
       " 3140,\n",
       " 2317,\n",
       " 2535,\n",
       " 1759,\n",
       " 1899,\n",
       " 508,\n",
       " 2399,\n",
       " 3513,\n",
       " 2597,\n",
       " 2176,\n",
       " 1090,\n",
       " 2328,\n",
       " 2818,\n",
       " 1306,\n",
       " 2805,\n",
       " 2057,\n",
       " 2618,\n",
       " 1694,\n",
       " 3285,\n",
       " 1203,\n",
       " 676,\n",
       " 1820,\n",
       " 1445,\n",
       " 2468,\n",
       " 2029,\n",
       " 1257,\n",
       " 1533,\n",
       " 2417,\n",
       " 3599,\n",
       " 2494,\n",
       " 4101,\n",
       " 546,\n",
       " 1889,\n",
       " 2616,\n",
       " 2141,\n",
       " 2359,\n",
       " 648,\n",
       " 2682,\n",
       " 3464,\n",
       " 2873,\n",
       " 3109,\n",
       " 2183,\n",
       " 4159,\n",
       " 1832,\n",
       " 2080,\n",
       " 1831,\n",
       " 2001,\n",
       " 3013,\n",
       " 2143,\n",
       " 1376,\n",
       " 1627,\n",
       " 2403,\n",
       " 4772,\n",
       " 2556,\n",
       " 2124,\n",
       " 1693,\n",
       " 2442,\n",
       " 3814,\n",
       " 2630,\n",
       " 2038,\n",
       " 2776,\n",
       " 1365,\n",
       " 3929,\n",
       " 1990,\n",
       " 2069,\n",
       " 3558,\n",
       " 1432,\n",
       " 2279,\n",
       " 3829,\n",
       " 2435,\n",
       " 3691,\n",
       " 3027,\n",
       " 2345,\n",
       " 3807,\n",
       " 2145,\n",
       " 2703,\n",
       " 2884,\n",
       " 3806,\n",
       " 1151,\n",
       " 2505,\n",
       " 2340,\n",
       " 2596,\n",
       " 4123,\n",
       " 1737,\n",
       " 3136,\n",
       " 1073,\n",
       " 1707,\n",
       " 2417,\n",
       " 3068,\n",
       " 1724,\n",
       " 815,\n",
       " 2060]"
      ]
     },
     "execution_count": 147,
     "metadata": {},
     "output_type": "execute_result"
    }
   ],
   "source": [
    "distList"
   ]
  },
  {
   "cell_type": "code",
   "execution_count": 148,
   "metadata": {
    "collapsed": false
   },
   "outputs": [
    {
     "name": "stdout",
     "output_type": "stream",
     "text": [
      "2599\n",
      "2610\n",
      "2947\n",
      "2052\n",
      "2367\n",
      "2399\n",
      "2029\n",
      "2442\n",
      "2505\n",
      "3068\n"
     ]
    }
   ],
   "source": [
    "for i in [7,37,59,82,99,115,133,165,188,197]:\n",
    "    print(distList[i])"
   ]
  },
  {
   "cell_type": "code",
   "execution_count": null,
   "metadata": {
    "collapsed": true
   },
   "outputs": [],
   "source": [
    "# answers for quiz question, hopefully:  2599,2610,2947,2052,2367,2399,2029,2442,2505,3068"
   ]
  }
 ],
 "metadata": {
  "kernelspec": {
   "display_name": "Python 3",
   "language": "python",
   "name": "python3"
  },
  "language_info": {
   "codemirror_mode": {
    "name": "ipython",
    "version": 3
   },
   "file_extension": ".py",
   "mimetype": "text/x-python",
   "name": "python",
   "nbconvert_exporter": "python",
   "pygments_lexer": "ipython3",
   "version": "3.6.0"
  }
 },
 "nbformat": 4,
 "nbformat_minor": 2
}
