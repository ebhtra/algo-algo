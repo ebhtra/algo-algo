{
 "cells": [
  {
   "cell_type": "code",
   "execution_count": 1,
   "metadata": {
    "collapsed": true,
    "deletable": true,
    "editable": true
   },
   "outputs": [],
   "source": [
    "## get 'cities' into notebook\n",
    "with open('Downloads/algo2_tsp.txt') as f:\n",
    "    coords = f.readlines()\n",
    "    "
   ]
  },
  {
   "cell_type": "code",
   "execution_count": 2,
   "metadata": {
    "collapsed": false,
    "deletable": true,
    "editable": true
   },
   "outputs": [
    {
     "data": {
      "text/plain": [
       "'25\\n'"
      ]
     },
     "execution_count": 2,
     "metadata": {},
     "output_type": "execute_result"
    }
   ],
   "source": [
    "numCities = coords[0]\n",
    "numCities"
   ]
  },
  {
   "cell_type": "code",
   "execution_count": 3,
   "metadata": {
    "collapsed": false,
    "deletable": true,
    "editable": true
   },
   "outputs": [
    {
     "data": {
      "text/plain": [
       "'20833.3333 17100.0000\\n'"
      ]
     },
     "execution_count": 3,
     "metadata": {},
     "output_type": "execute_result"
    }
   ],
   "source": [
    "n = 25\n",
    "coords[1]"
   ]
  },
  {
   "cell_type": "code",
   "execution_count": 5,
   "metadata": {
    "collapsed": false,
    "deletable": true,
    "editable": true
   },
   "outputs": [],
   "source": [
    "coords = [(float(c[0]), float(c[1])) for c in [line.strip('\\n').split() for line in coords[1:]]]"
   ]
  },
  {
   "cell_type": "code",
   "execution_count": 6,
   "metadata": {
    "collapsed": false,
    "deletable": true,
    "editable": true
   },
   "outputs": [
    {
     "data": {
      "text/plain": [
       "25"
      ]
     },
     "execution_count": 6,
     "metadata": {},
     "output_type": "execute_result"
    }
   ],
   "source": [
    "len(coords)"
   ]
  },
  {
   "cell_type": "code",
   "execution_count": 7,
   "metadata": {
    "collapsed": false,
    "deletable": true,
    "editable": true,
    "scrolled": true
   },
   "outputs": [
    {
     "data": {
      "text/plain": [
       "[(20833.3333, 17100.0),\n",
       " (20900.0, 17066.6667),\n",
       " (21300.0, 13016.6667),\n",
       " (21600.0, 14150.0),\n",
       " (21600.0, 14966.6667),\n",
       " (21600.0, 16500.0),\n",
       " (22183.3333, 13133.3333),\n",
       " (22583.3333, 14300.0),\n",
       " (22683.3333, 12716.6667),\n",
       " (23616.6667, 15866.6667),\n",
       " (23700.0, 15933.3333),\n",
       " (23883.3333, 14533.3333),\n",
       " (24166.6667, 13250.0),\n",
       " (25149.1667, 12365.8333),\n",
       " (26133.3333, 14500.0),\n",
       " (26150.0, 10550.0),\n",
       " (26283.3333, 12766.6667),\n",
       " (26433.3333, 13433.3333),\n",
       " (26550.0, 13850.0),\n",
       " (26733.3333, 11683.3333),\n",
       " (27026.1111, 13051.9444),\n",
       " (27096.1111, 13415.8333),\n",
       " (27153.6111, 13203.3333),\n",
       " (27166.6667, 9833.3333),\n",
       " (27233.3333, 10450.0)]"
      ]
     },
     "execution_count": 7,
     "metadata": {},
     "output_type": "execute_result"
    }
   ],
   "source": [
    "coords"
   ]
  },
  {
   "cell_type": "code",
   "execution_count": 8,
   "metadata": {
    "collapsed": true,
    "deletable": true,
    "editable": true
   },
   "outputs": [],
   "source": [
    "coords = [(a-20000, b-10000) for (a,b) in coords]   ## maybe bringing coords closer to 0 speeds up distance computations"
   ]
  },
  {
   "cell_type": "code",
   "execution_count": 9,
   "metadata": {
    "collapsed": false,
    "deletable": true,
    "editable": true,
    "scrolled": true
   },
   "outputs": [
    {
     "data": {
      "text/plain": [
       "[(833.3332999999984, 7100.0),\n",
       " (900.0, 7066.666700000002),\n",
       " (1300.0, 3016.6666999999998),\n",
       " (1600.0, 4150.0),\n",
       " (1600.0, 4966.6667),\n",
       " (1600.0, 6500.0),\n",
       " (2183.3332999999984, 3133.3333000000002),\n",
       " (2583.3332999999984, 4300.0),\n",
       " (2683.3332999999984, 2716.6666999999998),\n",
       " (3616.6667000000016, 5866.6667),\n",
       " (3700.0, 5933.3333),\n",
       " (3883.3332999999984, 4533.3333),\n",
       " (4166.666700000002, 3250.0),\n",
       " (5149.166700000002, 2365.8333000000002),\n",
       " (6133.333299999998, 4500.0),\n",
       " (6150.0, 550.0),\n",
       " (6283.333299999998, 2766.6666999999998),\n",
       " (6433.333299999998, 3433.3333000000002),\n",
       " (6550.0, 3850.0),\n",
       " (6733.333299999998, 1683.3333000000002),\n",
       " (7026.111099999998, 3051.9444000000003),\n",
       " (7096.111099999998, 3415.8333000000002),\n",
       " (7153.611099999998, 3203.3333000000002),\n",
       " (7166.666700000002, -166.66669999999976),\n",
       " (7233.333299999998, 450.0)]"
      ]
     },
     "execution_count": 9,
     "metadata": {},
     "output_type": "execute_result"
    }
   ],
   "source": [
    "coords"
   ]
  },
  {
   "cell_type": "code",
   "execution_count": 16,
   "metadata": {
    "collapsed": false,
    "deletable": true,
    "editable": true
   },
   "outputs": [],
   "source": [
    "import matplotlib.pyplot as plt"
   ]
  },
  {
   "cell_type": "code",
   "execution_count": 107,
   "metadata": {
    "collapsed": false,
    "deletable": true,
    "editable": true
   },
   "outputs": [],
   "source": [
    "for i in range(len(coords)):\n",
    "    plt.scatter(coords[i][0], coords[i][1])\n",
    "    plt.text(coords[i][0] * (1 + 0.01), coords[i][1] * (1 + 0.01) , i, fontsize=12)\n",
    "    ## annotation came from this:  https://stackoverflow.com/questions/44998205/labeling-points-in-matplotlib-scatterplot"
   ]
  },
  {
   "cell_type": "code",
   "execution_count": 108,
   "metadata": {
    "collapsed": false,
    "deletable": true,
    "editable": true
   },
   "outputs": [
    {
     "data": {
      "image/png": "[encoded data removed]",
      "text/plain": [
       "<matplotlib.figure.Figure at 0x113b3c8d0>"
      ]
     },
     "metadata": {},
     "output_type": "display_data"
    }
   ],
   "source": [
    "plt.show()"
   ]
  },
  {
   "cell_type": "markdown",
   "metadata": {
    "deletable": true,
    "editable": true
   },
   "source": [
    "### First try dynamic programming without using knowledge of above graph"
   ]
  },
  {
   "cell_type": "code",
   "execution_count": 21,
   "metadata": {
    "collapsed": true,
    "deletable": true,
    "editable": true
   },
   "outputs": [],
   "source": [
    "import math"
   ]
  },
  {
   "cell_type": "code",
   "execution_count": 24,
   "metadata": {
    "collapsed": false,
    "deletable": true,
    "editable": true
   },
   "outputs": [],
   "source": [
    "## maybe try just a lookup table for the euclidean distances, to speed up calcs during algo\n",
    "dist = [[math.sqrt((p1[0]-p2[0])**2 + (p1[1]-p2[1])**2) for p2 in coords] for p1 in coords]"
   ]
  },
  {
   "cell_type": "code",
   "execution_count": 25,
   "metadata": {
    "collapsed": false,
    "deletable": true,
    "editable": true
   },
   "outputs": [
    {
     "data": {
      "text/plain": [
       "74.53561415712697"
      ]
     },
     "execution_count": 25,
     "metadata": {},
     "output_type": "execute_result"
    }
   ],
   "source": [
    "dist[0][1]"
   ]
  },
  {
   "cell_type": "code",
   "execution_count": 27,
   "metadata": {
    "collapsed": false,
    "deletable": true,
    "editable": true
   },
   "outputs": [
    {
     "data": {
      "text/plain": [
       "74.53561415712697"
      ]
     },
     "execution_count": 27,
     "metadata": {},
     "output_type": "execute_result"
    }
   ],
   "source": [
    "dist[1][0]"
   ]
  },
  {
   "cell_type": "code",
   "execution_count": 34,
   "metadata": {
    "collapsed": true,
    "deletable": true,
    "editable": true
   },
   "outputs": [],
   "source": [
    "import itertools"
   ]
  },
  {
   "cell_type": "code",
   "execution_count": 40,
   "metadata": {
    "collapsed": false,
    "deletable": true,
    "editable": true
   },
   "outputs": [
    {
     "data": {
      "text/plain": [
       "[(1, 2, 3),\n",
       " (1, 2, 4),\n",
       " (1, 2, 5),\n",
       " (1, 3, 4),\n",
       " (1, 3, 5),\n",
       " (1, 4, 5),\n",
       " (2, 3, 4),\n",
       " (2, 3, 5),\n",
       " (2, 4, 5),\n",
       " (3, 4, 5)]"
      ]
     },
     "execution_count": 40,
     "metadata": {},
     "output_type": "execute_result"
    }
   ],
   "source": [
    "list(itertools.combinations(range(1,6), 3))"
   ]
  },
  {
   "cell_type": "code",
   "execution_count": 46,
   "metadata": {
    "collapsed": true,
    "deletable": true,
    "editable": true
   },
   "outputs": [],
   "source": [
    "## utility to remove an element from a tuple\n",
    "def extract(tup, e):\n",
    "    return tuple([x for x in tup if x != e])"
   ]
  },
  {
   "cell_type": "code",
   "execution_count": 47,
   "metadata": {
    "collapsed": false,
    "deletable": true,
    "editable": true
   },
   "outputs": [
    {
     "data": {
      "text/plain": [
       "(2, 4, 8)"
      ]
     },
     "execution_count": 47,
     "metadata": {},
     "output_type": "execute_result"
    }
   ],
   "source": [
    "extract((2,4,6,8), 6)"
   ]
  },
  {
   "cell_type": "code",
   "execution_count": 57,
   "metadata": {
    "collapsed": true,
    "deletable": true,
    "editable": true
   },
   "outputs": [],
   "source": [
    "## utility to add an element to a tuple\n",
    "def prepend(tup, e):\n",
    "    return tuple([e] + [t for t in tup])"
   ]
  },
  {
   "cell_type": "code",
   "execution_count": 58,
   "metadata": {
    "collapsed": false,
    "deletable": true,
    "editable": true
   },
   "outputs": [
    {
     "data": {
      "text/plain": [
       "(0, 2, 4)"
      ]
     },
     "execution_count": 58,
     "metadata": {},
     "output_type": "execute_result"
    }
   ],
   "source": [
    "prepend((2,4), 0)"
   ]
  },
  {
   "cell_type": "code",
   "execution_count": 89,
   "metadata": {
    "collapsed": false,
    "deletable": true,
    "editable": true
   },
   "outputs": [],
   "source": [
    "subsets = {(0,):[0]}  ## initiate the lookup dict with p0 being reachable from itself with distance 0\n",
    "for p2 in range(1, len(coords)):\n",
    "    subsets[(0,)].append(float('inf'))   \n",
    "\n",
    "for m in range(2, len(coords)):\n",
    "    combos = itertools.combinations(range(1, len(coords)), m-1)\n",
    "    for s in combos:\n",
    "        t = prepend(s, 0)\n",
    "        mins = [float('inf') for _ in range(len(coords))]  ## build the list of dists to each j within the set in the current iteration\n",
    "        for j in s:\n",
    "            u = extract(t, j)\n",
    "            mins[j] = min(subsets[u][k] + dist[k][j] for k in u)\n",
    "        subsets[t] = mins"
   ]
  },
  {
   "cell_type": "code",
   "execution_count": 96,
   "metadata": {
    "collapsed": false,
    "deletable": true,
    "editable": true
   },
   "outputs": [
    {
     "ename": "KeyError",
     "evalue": "(1, 2, 3, 4, 5, 6, 7, 8, 9, 10, 11, 12, 13, 14, 15, 16, 17, 18, 19, 20, 21, 22, 23, 24)",
     "output_type": "error",
     "traceback": [
      "\u001b[0;31m---------------------------------------------------------------------------\u001b[0m",
      "\u001b[0;31mKeyError\u001b[0m                                  Traceback (most recent call last)",
      "\u001b[0;32m<ipython-input-96-20c4cd975db9>\u001b[0m in \u001b[0;36m<module>\u001b[0;34m()\u001b[0m\n\u001b[0;32m----> 1\u001b[0;31m \u001b[0msubsets\u001b[0m\u001b[0;34m[\u001b[0m\u001b[0mtuple\u001b[0m\u001b[0;34m(\u001b[0m\u001b[0mrange\u001b[0m\u001b[0;34m(\u001b[0m\u001b[0;36m1\u001b[0m\u001b[0;34m,\u001b[0m\u001b[0;36m25\u001b[0m\u001b[0;34m)\u001b[0m\u001b[0;34m)\u001b[0m\u001b[0;34m]\u001b[0m\u001b[0;34m\u001b[0m\u001b[0m\n\u001b[0m",
      "\u001b[0;31mKeyError\u001b[0m: (1, 2, 3, 4, 5, 6, 7, 8, 9, 10, 11, 12, 13, 14, 15, 16, 17, 18, 19, 20, 21, 22, 23, 24)"
     ]
    }
   ],
   "source": [
    "subsets[tuple(range(1,25))]"
   ]
  },
  {
   "cell_type": "code",
   "execution_count": 94,
   "metadata": {
    "collapsed": false,
    "deletable": true,
    "editable": true
   },
   "outputs": [
    {
     "data": {
      "text/plain": [
       "[inf,\n",
       " inf,\n",
       " 23892.456726728105,\n",
       " 24441.46771663101,\n",
       " 24174.204687408073,\n",
       " 25467.577601417266,\n",
       " 24657.09230434453,\n",
       " 23996.16319960178,\n",
       " 24216.778133486452,\n",
       " 23593.76040975763,\n",
       " 23541.546061097604,\n",
       " 24115.40172658218,\n",
       " 24080.303364680763,\n",
       " 24075.223224051348,\n",
       " 23066.690477917018,\n",
       " 23020.392965316732,\n",
       " 23890.86249162733,\n",
       " 23776.70733374451,\n",
       " 23742.049978633655,\n",
       " 24105.059206189406,\n",
       " 23664.363389663904,\n",
       " 23895.984342841908,\n",
       " 23814.78195397056,\n",
       " 22808.272857716245,\n",
       " 22964.207886470187]"
      ]
     },
     "execution_count": 94,
     "metadata": {},
     "output_type": "execute_result"
    }
   ],
   "source": [
    "subsets[tuple([0] + list(range(2,25)))]"
   ]
  },
  {
   "cell_type": "code",
   "execution_count": 97,
   "metadata": {
    "collapsed": true,
    "deletable": true,
    "editable": true
   },
   "outputs": [],
   "source": [
    "lastKey = tuple(range(len(coords)))  ## Guess I needed one more iteration.  Takes too long to re-run above, so adding here."
   ]
  },
  {
   "cell_type": "code",
   "execution_count": 99,
   "metadata": {
    "collapsed": false,
    "deletable": true,
    "editable": true
   },
   "outputs": [],
   "source": [
    "mins = [float('inf') for _ in range(len(coords))]  ## build the list of dists to each j within the set in the current iteration\n",
    "for j in range(1,len(coords)):\n",
    "    u = extract(lastKey, j)\n",
    "    mins[j] = min(subsets[u][k] + dist[k][j] for k in u)\n",
    "subsets[lastKey] = mins"
   ]
  },
  {
   "cell_type": "code",
   "execution_count": 100,
   "metadata": {
    "collapsed": false,
    "deletable": true,
    "editable": true
   },
   "outputs": [
    {
     "data": {
      "text/plain": [
       "[inf,\n",
       " 26368.19469479763,\n",
       " 23894.07061691474,\n",
       " 24443.081606817646,\n",
       " 24175.81857759471,\n",
       " 25488.79584633222,\n",
       " 24658.706194531165,\n",
       " 23997.777089788415,\n",
       " 24218.39202367309,\n",
       " 23595.374299944273,\n",
       " 23543.159951284248,\n",
       " 24117.015616768822,\n",
       " 24081.9172548674,\n",
       " 24076.83711423799,\n",
       " 23068.304368103654,\n",
       " 23022.006855503376,\n",
       " 23892.476381813965,\n",
       " 23778.321223931147,\n",
       " 23743.66386882029,\n",
       " 24106.67309637605,\n",
       " 23665.97727985054,\n",
       " 23897.598233028544,\n",
       " 23816.395844157196,\n",
       " 22809.886747902885,\n",
       " 22965.821776656827]"
      ]
     },
     "execution_count": 100,
     "metadata": {},
     "output_type": "execute_result"
    }
   ],
   "source": [
    "subsets[lastKey]"
   ]
  },
  {
   "cell_type": "code",
   "execution_count": 101,
   "metadata": {
    "collapsed": true,
    "deletable": true,
    "editable": true
   },
   "outputs": [],
   "source": [
    "results = [subsets[lastKey][i] + dist[0][i] for i in range(len(coords))]"
   ]
  },
  {
   "cell_type": "code",
   "execution_count": 115,
   "metadata": {
    "collapsed": false,
    "deletable": true,
    "editable": true,
    "scrolled": true
   },
   "outputs": [
    {
     "data": {
      "text/plain": [
       "[inf,\n",
       " 26442.730308954757,\n",
       " 28003.984076803863,\n",
       " 27491.077313653353,\n",
       " 26442.73030895475,\n",
       " 26462.334663683072,\n",
       " 28848.806993902093,\n",
       " 27299.670486008225,\n",
       " 28976.134221279943,\n",
       " 26639.722480498604,\n",
       " 26638.138005774745,\n",
       " 28103.276765876955,\n",
       " 29174.422684963236,\n",
       " 30482.986681641523,\n",
       " 28971.69322536183,\n",
       " 31458.205335795843,\n",
       " 30855.25438264732,\n",
       " 30471.933454176404,\n",
       " 30319.58799846845,\n",
       " 32116.05997296585,\n",
       " 31064.440026993638,\n",
       " 31163.64736894565,\n",
       " 31241.348560509112,\n",
       " 32449.158343020667,\n",
       " 32195.258379180297]"
      ]
     },
     "execution_count": 115,
     "metadata": {},
     "output_type": "execute_result"
    }
   ],
   "source": [
    "results"
   ]
  },
  {
   "cell_type": "code",
   "execution_count": 103,
   "metadata": {
    "collapsed": false,
    "deletable": true,
    "editable": true
   },
   "outputs": [
    {
     "data": {
      "text/plain": [
       "26442.73030895475"
      ]
     },
     "execution_count": 103,
     "metadata": {},
     "output_type": "execute_result"
    }
   ],
   "source": [
    "min(results)  ## hopefully shortest path"
   ]
  },
  {
   "cell_type": "markdown",
   "metadata": {
    "deletable": true,
    "editable": true
   },
   "source": [
    "## OK that worked but took like 75 minutes"
   ]
  },
  {
   "cell_type": "code",
   "execution_count": 108,
   "metadata": {
    "collapsed": false,
    "deletable": true,
    "editable": true
   },
   "outputs": [
    {
     "data": {
      "image/png": "[encoded data removed]",
      "text/plain": [
       "<matplotlib.figure.Figure at 0x113b3c8d0>"
      ]
     },
     "metadata": {},
     "output_type": "display_data"
    }
   ],
   "source": [
    "plt.show()"
   ]
  },
  {
   "cell_type": "markdown",
   "metadata": {
    "deletable": true,
    "editable": true
   },
   "source": [
    "How about eyeballing a set of possible candidates for each subproblem"
   ]
  },
  {
   "cell_type": "code",
   "execution_count": 122,
   "metadata": {
    "collapsed": true,
    "deletable": true,
    "editable": true
   },
   "outputs": [],
   "source": [
    "nearby = {0:[1,2,3,4], 1:[2,3,4,5], 2:[3,4,5,6,7], 3:[4,6,7,9], 4:[5,6,7,8,9,10], 5:[6,7,9,10],\n",
    "         6:[7,8], 7:[8,9,10,11], 8:[9,10,11,12,15], 9:[10,11], 10:[11,13,14], 11:[12,13,14],\n",
    "         12:[13,14,15,16,17,18], 13:[14,15,17,18,19], 14:[16,17,18], 15:[16,19,23,24],\n",
    "         16:[17,18,19,20,21,22], 17:[18,19,20,21,22], 18:[20,21,22], 19:[20,22,23,24], 20:[21,22,24],\n",
    "         21:[22], 22:[23,24], 23:[24], 24:[]}"
   ]
  },
  {
   "cell_type": "code",
   "execution_count": 120,
   "metadata": {
    "collapsed": true,
    "deletable": true,
    "editable": true
   },
   "outputs": [],
   "source": [
    "## Above has lists of values greater than keys, but if you need those less as well:\n",
    "for k in range(23,-1,-1):\n",
    "    for v in nearby[k]:\n",
    "        nearby[v] = [k] + nearby[v]"
   ]
  },
  {
   "cell_type": "code",
   "execution_count": 123,
   "metadata": {
    "collapsed": false,
    "deletable": true,
    "editable": true,
    "scrolled": true
   },
   "outputs": [
    {
     "data": {
      "text/plain": [
       "{0: [1, 2, 3, 4],\n",
       " 1: [2, 3, 4, 5],\n",
       " 2: [3, 4, 5, 6, 7],\n",
       " 3: [4, 6, 7, 9],\n",
       " 4: [5, 6, 7, 8, 9, 10],\n",
       " 5: [6, 7, 9, 10],\n",
       " 6: [7, 8],\n",
       " 7: [8, 9, 10, 11],\n",
       " 8: [9, 10, 11, 12, 15],\n",
       " 9: [10, 11],\n",
       " 10: [11, 13, 14],\n",
       " 11: [12, 13, 14],\n",
       " 12: [13, 14, 15, 16, 17, 18],\n",
       " 13: [14, 15, 17, 18, 19],\n",
       " 14: [16, 17, 18],\n",
       " 15: [16, 19, 23, 24],\n",
       " 16: [17, 18, 19, 20, 21, 22],\n",
       " 17: [18, 19, 20, 21, 22],\n",
       " 18: [20, 21, 22],\n",
       " 19: [20, 22, 23, 24],\n",
       " 20: [21, 22, 24],\n",
       " 21: [22],\n",
       " 22: [23, 24],\n",
       " 23: [24],\n",
       " 24: []}"
      ]
     },
     "execution_count": 123,
     "metadata": {},
     "output_type": "execute_result"
    }
   ],
   "source": [
    "nearby\n",
    "    \n",
    "    "
   ]
  },
  {
   "cell_type": "code",
   "execution_count": 124,
   "metadata": {
    "collapsed": true,
    "deletable": true,
    "editable": true
   },
   "outputs": [],
   "source": [
    "def expand(oldPaths, nearDict):\n",
    "    \"\"\"\n",
    "    Instead of using every possible combination of cities for each new value of m,\n",
    "    this method will only expand m in sensible directions\n",
    "    \"\"\"\n",
    "    newPaths = set()\n",
    "    for path in oldPaths:\n",
    "        for city in nearDict[path[-1]]:\n",
    "            newPaths.add(tuple([c for c in path] + [city]))\n",
    "    return newPaths\n",
    "        "
   ]
  },
  {
   "cell_type": "code",
   "execution_count": 141,
   "metadata": {
    "collapsed": false,
    "deletable": true,
    "editable": true
   },
   "outputs": [],
   "source": [
    "e = expand({(0,)}, nearby)"
   ]
  },
  {
   "cell_type": "code",
   "execution_count": 142,
   "metadata": {
    "collapsed": false,
    "deletable": true,
    "editable": true
   },
   "outputs": [
    {
     "data": {
      "text/plain": [
       "{(0, 1), (0, 2), (0, 3), (0, 4)}"
      ]
     },
     "execution_count": 142,
     "metadata": {},
     "output_type": "execute_result"
    }
   ],
   "source": [
    "e"
   ]
  },
  {
   "cell_type": "code",
   "execution_count": 128,
   "metadata": {
    "collapsed": true,
    "deletable": true,
    "editable": true
   },
   "outputs": [],
   "source": [
    "e = expand(e, nearby)"
   ]
  },
  {
   "cell_type": "code",
   "execution_count": null,
   "metadata": {
    "collapsed": true,
    "deletable": true,
    "editable": true
   },
   "outputs": [],
   "source": [
    "oldsets = {(0,):[0]}  ## initiate the lookup dict with p0 being reachable from itself with distance 0\n",
    "for p2 in range(1, len(coords)):\n",
    "    oldsets[(0,)].append(float('inf'))   "
   ]
  },
  {
   "cell_type": "code",
   "execution_count": null,
   "metadata": {
    "collapsed": false,
    "deletable": true,
    "editable": true
   },
   "outputs": [
    {
     "name": "stderr",
     "output_type": "stream",
     "text": [
      "Exception ignored in: 'zmq.backend.cython.message.Frame.__dealloc__'\n",
      "Traceback (most recent call last):\n",
      "  File \"zmq/backend/cython/checkrc.pxd\", line 12, in zmq.backend.cython.checkrc._check_rc (zmq/backend/cython/message.c:4294)\n",
      "KeyboardInterrupt\n"
     ]
    }
   ],
   "source": [
    "for _ in range(1, len(coords)):\n",
    "    newkeys = expand(oldsets.keys(), nearby)\n",
    "    newsets = dict()\n",
    "    for s in newkeys:\n",
    "        mins = [float('inf') for _ in range(len(coords))]  ## build the list of dists to each j within the set in the current iteration\n",
    "        for j in extract(s,0):\n",
    "            u = extract(s, j)\n",
    "            if u in oldsets:\n",
    "                mins[j] = min(oldsets[u][k] + dist[k][j] for k in u)\n",
    "        newsets[s] = mins\n",
    "    oldsets = newsets"
   ]
  },
  {
   "cell_type": "code",
   "execution_count": null,
   "metadata": {
    "collapsed": false,
    "deletable": true,
    "editable": true
   },
   "outputs": [],
   "source": [
    "len(oldsets)"
   ]
  },
  {
   "cell_type": "markdown",
   "metadata": {
    "deletable": true,
    "editable": true
   },
   "source": [
    "## Need to figure that eyeballing method out.  "
   ]
  },
  {
   "cell_type": "code",
   "execution_count": null,
   "metadata": {
    "collapsed": true,
    "deletable": true,
    "editable": true
   },
   "outputs": [],
   "source": []
  }
 ],
 "metadata": {
  "kernelspec": {
   "display_name": "Python 3",
   "language": "python",
   "name": "python3"
  },
  "language_info": {
   "codemirror_mode": {
    "name": "ipython",
    "version": 3
   },
   "file_extension": ".py",
   "mimetype": "text/x-python",
   "name": "python",
   "nbconvert_exporter": "python",
   "pygments_lexer": "ipython3",
   "version": "3.5.3"
  }
 },
 "nbformat": 4,
 "nbformat_minor": 2
}
