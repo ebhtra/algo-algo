{
 "cells": [
  {
   "cell_type": "markdown",
   "metadata": {},
   "source": [
    "## Backpack packing\n",
    "\n",
    "### Here is the file format for both problems:\n",
    "[knapsack_size][number_of_items]\n",
    "\n",
    "[value_1] [weight_1]\n",
    "\n",
    "[value_2] [weight_2]\n",
    "\n",
    "..."
   ]
  },
  {
   "cell_type": "code",
   "execution_count": 2,
   "metadata": {
    "collapsed": false
   },
   "outputs": [],
   "source": [
    "with open('Downloads/algo2knapsack1.txt') as f:\n",
    "    detes = f.readline()\n",
    "    items = f.readlines()"
   ]
  },
  {
   "cell_type": "code",
   "execution_count": 3,
   "metadata": {
    "collapsed": false
   },
   "outputs": [
    {
     "data": {
      "text/plain": [
       "'10000 100\\n'"
      ]
     },
     "execution_count": 3,
     "metadata": {},
     "output_type": "execute_result"
    }
   ],
   "source": [
    "detes"
   ]
  },
  {
   "cell_type": "code",
   "execution_count": 4,
   "metadata": {
    "collapsed": false
   },
   "outputs": [
    {
     "data": {
      "text/plain": [
       "100"
      ]
     },
     "execution_count": 4,
     "metadata": {},
     "output_type": "execute_result"
    }
   ],
   "source": [
    "len(items)"
   ]
  },
  {
   "cell_type": "code",
   "execution_count": 5,
   "metadata": {
    "collapsed": false
   },
   "outputs": [
    {
     "data": {
      "text/plain": [
       "'16808 250\\n'"
      ]
     },
     "execution_count": 5,
     "metadata": {},
     "output_type": "execute_result"
    }
   ],
   "source": [
    "items[0]"
   ]
  },
  {
   "cell_type": "code",
   "execution_count": 6,
   "metadata": {
    "collapsed": false
   },
   "outputs": [
    {
     "name": "stdout",
     "output_type": "stream",
     "text": [
      "10000 100\n"
     ]
    }
   ],
   "source": [
    "detes = detes.strip('\\n').split()\n",
    "W = int(detes[0])  ## weight capacity\n",
    "n = int(detes[1])  ## num items\n",
    "print(W, n)"
   ]
  },
  {
   "cell_type": "code",
   "execution_count": 7,
   "metadata": {
    "collapsed": true
   },
   "outputs": [],
   "source": [
    "items = [(int(item[0]), int(item[1])) for item in [i.strip('\\n').split() for i in items]]"
   ]
  },
  {
   "cell_type": "code",
   "execution_count": 8,
   "metadata": {
    "collapsed": false
   },
   "outputs": [
    {
     "data": {
      "text/plain": [
       "(16808, 250)"
      ]
     },
     "execution_count": 8,
     "metadata": {},
     "output_type": "execute_result"
    }
   ],
   "source": [
    "items[0]  ## (value, weight)"
   ]
  },
  {
   "cell_type": "code",
   "execution_count": 9,
   "metadata": {
    "collapsed": true
   },
   "outputs": [],
   "source": [
    "items = [(0, 0)] + items   # add an empty item at start of list to facilitate algorithm"
   ]
  },
  {
   "cell_type": "code",
   "execution_count": 10,
   "metadata": {
    "collapsed": false
   },
   "outputs": [
    {
     "data": {
      "text/plain": [
       "[(0, 0), (16808, 250), (50074, 659)]"
      ]
     },
     "execution_count": 10,
     "metadata": {},
     "output_type": "execute_result"
    }
   ],
   "source": [
    "items[:3]"
   ]
  },
  {
   "cell_type": "code",
   "execution_count": 11,
   "metadata": {
    "collapsed": true
   },
   "outputs": [],
   "source": [
    "subprobs = [[0 for _ in range(n+1)]]  # all items have positive weights so nothing fits in the zero-weight capacity row\n",
    "for w in range(1,W+1):    ## add a row for every unit of weight up to W\n",
    "    vals = [0]  ## taking empty item 0 adds no value\n",
    "    for i in range(1, n+1):\n",
    "        if items[i][1] > w:   ## item can't fit in backpack, so use solution to subproblem without it\n",
    "            vals.append(vals[i-1])\n",
    "        else:\n",
    "            vals.append(max(vals[i-1], subprobs[w-items[i][1]][i-1] + items[i][0]))\n",
    "    subprobs.append(vals)"
   ]
  },
  {
   "cell_type": "code",
   "execution_count": 12,
   "metadata": {
    "collapsed": false
   },
   "outputs": [
    {
     "data": {
      "text/plain": [
       "2493893"
      ]
     },
     "execution_count": 12,
     "metadata": {},
     "output_type": "execute_result"
    }
   ],
   "source": [
    "subprobs[-1][-1]  ## hopefully the answer to first Q"
   ]
  },
  {
   "cell_type": "markdown",
   "metadata": {},
   "source": [
    "## Now for the Larger Instance of the Problem"
   ]
  },
  {
   "cell_type": "code",
   "execution_count": 13,
   "metadata": {
    "collapsed": true
   },
   "outputs": [],
   "source": [
    "with open('Downloads/algo2knapsack_big.txt') as f:\n",
    "    detes = f.readline().strip('\\n').split()\n",
    "    items = f.readlines()"
   ]
  },
  {
   "cell_type": "code",
   "execution_count": 14,
   "metadata": {
    "collapsed": false
   },
   "outputs": [
    {
     "name": "stdout",
     "output_type": "stream",
     "text": [
      "2000000 2000\n"
     ]
    }
   ],
   "source": [
    "W = int(detes[0])\n",
    "n = int(detes[1])\n",
    "print(W, n)"
   ]
  },
  {
   "cell_type": "code",
   "execution_count": 15,
   "metadata": {
    "collapsed": true
   },
   "outputs": [],
   "source": [
    "items = [(int(item[0]), int(item[1])) for item in [i.strip('\\n').split() for i in items]]"
   ]
  },
  {
   "cell_type": "code",
   "execution_count": 16,
   "metadata": {
    "collapsed": false
   },
   "outputs": [
    {
     "data": {
      "text/plain": [
       "[(16808, 241486), (50074, 834558), (8931, 738037)]"
      ]
     },
     "execution_count": 16,
     "metadata": {},
     "output_type": "execute_result"
    }
   ],
   "source": [
    "items[:3]   ## (value, weight)"
   ]
  },
  {
   "cell_type": "markdown",
   "metadata": {},
   "source": [
    "### With 2000 items, might as well save time by looking for shortcuts.\n",
    "E.g., that 3rd item has a small value and fills 37% of the backpack.  Why not sort the items by value/weight ratio and just pay attention the ones with good ratios."
   ]
  },
  {
   "cell_type": "code",
   "execution_count": 19,
   "metadata": {
    "collapsed": true
   },
   "outputs": [],
   "source": [
    "scores = sorted(items, key=lambda x: x[0]/x[1], reverse=True)"
   ]
  },
  {
   "cell_type": "code",
   "execution_count": 21,
   "metadata": {
    "collapsed": false
   },
   "outputs": [
    {
     "name": "stdout",
     "output_type": "stream",
     "text": [
      "[8.68350450639279, 7.698208240442573, 6.716861676550729, 6.3084979564032695, 5.561591734786558, 5.354336966394187, 5.1440735694822886, 5.087565023532326, 4.746957311534969, 4.594335727850714, 4.472665082033741, 4.430410856440669, 4.130336058128973, 3.3303930171338845, 3.2793146446219925, 3.2363760217983653, 3.1861943687556766, 2.9983898934852613, 2.9956276535073822, 2.9603495255097245]\n",
      "[0.0019888224065114264, 0.0019298864597635677, 0.0018233455137522257, 0.0018218889237191184, 0.0016954588566823283, 0.0016186904794021637, 0.0012009284488848522, 0.001156810761715394, 0.0009614083908245889, 0.0008545800560735991, 0.0008045227561673594, 0.0006020044096507491, 0.0005845197825497508, 0.0005530106237366568, 0.0004616291484480975, 0.00027715732478862367, 0.00019684835424415412, 4.255118679819036e-05, 3.46698785526995e-05, 2.2128822200814636e-05]\n"
     ]
    }
   ],
   "source": [
    "top20 = [score[0]/score[1] for score in scores[:20]]\n",
    "bot20 = [score[0]/score[1] for score in scores[-20:]]\n",
    "print(top20)\n",
    "print(bot20)"
   ]
  },
  {
   "cell_type": "code",
   "execution_count": 32,
   "metadata": {
    "collapsed": false
   },
   "outputs": [
    {
     "name": "stdout",
     "output_type": "stream",
     "text": [
      "1980699\n"
     ]
    }
   ],
   "source": [
    "print(sum([score[1] for score in scores[:62]]))  ## how much do the top 62 weigh?"
   ]
  },
  {
   "cell_type": "code",
   "execution_count": 29,
   "metadata": {
    "collapsed": false
   },
   "outputs": [
    {
     "data": {
      "text/plain": [
       "[(97318, 75235),\n",
       " (89326, 69363),\n",
       " (97807, 78905),\n",
       " (16146, 13212),\n",
       " (66901, 55417),\n",
       " (98766, 82942),\n",
       " (49539, 42205),\n",
       " (38206, 32663),\n",
       " (84510, 72666),\n",
       " (83455, 74134)]"
      ]
     },
     "execution_count": 29,
     "metadata": {},
     "output_type": "execute_result"
    }
   ],
   "source": [
    "scores[60:70]"
   ]
  },
  {
   "cell_type": "markdown",
   "metadata": {},
   "source": [
    "There's no way the algorithm is going to need to look much past scores[70] to find a couple of items to substitute for one of scores[:62] in order to fill that empty ~20000 units of capacity.  Score[64] + score[67], e.g., sum up to ~(105K, 88K) and could substitute in for score[61] with its ~(89K, 69K).  So run it on scores[:100] and check empty capacity."
   ]
  },
  {
   "cell_type": "code",
   "execution_count": 33,
   "metadata": {
    "collapsed": true
   },
   "outputs": [],
   "source": [
    "subprobs = [[0 for _ in range(101)]]  # all items have positive weights so nothing fits in the zero-weight capacity row\n",
    "for w in range(1,W+1):    ## add a row for every unit of weight up to W\n",
    "    vals = [0]  ## taking empty item 0 adds no value\n",
    "    for i in range(1, 101):    ## Checking the first 100 sorted items\n",
    "        if scores[i][1] > w:   ## item can't fit in backpack, so use solution to subproblem without it\n",
    "            vals.append(vals[i-1])\n",
    "        else:\n",
    "            vals.append(max(vals[i-1], subprobs[w-scores[i][1]][i-1] + scores[i][0]))\n",
    "    subprobs.append(vals)"
   ]
  },
  {
   "cell_type": "code",
   "execution_count": 38,
   "metadata": {
    "collapsed": false,
    "scrolled": true
   },
   "outputs": [
    {
     "data": {
      "text/plain": [
       "4171056"
      ]
     },
     "execution_count": 38,
     "metadata": {},
     "output_type": "execute_result"
    }
   ],
   "source": [
    "subprobs[-1][-1]  ## see what the largest subsolution is.  Can't be right, based on the lower bound, below."
   ]
  },
  {
   "cell_type": "code",
   "execution_count": 37,
   "metadata": {
    "collapsed": false
   },
   "outputs": [
    {
     "name": "stdout",
     "output_type": "stream",
     "text": [
      "4225353 1980699\n"
     ]
    }
   ],
   "source": [
    "print(sum([score[0] for score in scores[:62]]), sum([score[1] for score in scores[:62]])) \n",
    "## Has to be at least 16K higher value than this, based on the eyeballed substitution mentioned above"
   ]
  },
  {
   "cell_type": "markdown",
   "metadata": {},
   "source": [
    "Forgot to add in the (0, 0) empty item at start of scores. Thus, the algo was skipping the best item available."
   ]
  },
  {
   "cell_type": "code",
   "execution_count": 40,
   "metadata": {
    "collapsed": true
   },
   "outputs": [],
   "source": [
    "scores = [(0,0)] + scores"
   ]
  },
  {
   "cell_type": "code",
   "execution_count": 41,
   "metadata": {
    "collapsed": true
   },
   "outputs": [],
   "source": [
    "subprobs = [[0 for _ in range(101)]]  # all items have positive weights so nothing fits in the zero-weight capacity row\n",
    "for w in range(1,W+1):    ## add a row for every unit of weight up to W\n",
    "    vals = [0]  ## taking empty item 0 adds no value\n",
    "    for i in range(1, 101):    ## Checking the first 100 sorted items\n",
    "        if scores[i][1] > w:   ## item can't fit in backpack, so use solution to subproblem without it\n",
    "            vals.append(vals[i-1])\n",
    "        else:\n",
    "            vals.append(max(vals[i-1], subprobs[w-scores[i][1]][i-1] + scores[i][0]))\n",
    "    subprobs.append(vals)"
   ]
  },
  {
   "cell_type": "code",
   "execution_count": 42,
   "metadata": {
    "collapsed": false
   },
   "outputs": [
    {
     "data": {
      "text/plain": [
       "4243395"
      ]
     },
     "execution_count": 42,
     "metadata": {},
     "output_type": "execute_result"
    }
   ],
   "source": [
    "subprobs[-1][-1]  ## this is correct answer"
   ]
  },
  {
   "cell_type": "code",
   "execution_count": 43,
   "metadata": {
    "collapsed": false
   },
   "outputs": [
    {
     "name": "stdout",
     "output_type": "stream",
     "text": [
      "1999782\n"
     ]
    }
   ],
   "source": [
    "solution = 4243395\n",
    "weight = W+1\n",
    "while True:\n",
    "    weight -= 1\n",
    "    if subprobs[weight][-1] != solution:\n",
    "        print(weight)\n",
    "        break"
   ]
  },
  {
   "cell_type": "code",
   "execution_count": 44,
   "metadata": {
    "collapsed": false
   },
   "outputs": [
    {
     "data": {
      "text/plain": [
       "4241988"
      ]
     },
     "execution_count": 44,
     "metadata": {},
     "output_type": "execute_result"
    }
   ],
   "source": [
    "subprobs[1999782][-1]"
   ]
  },
  {
   "cell_type": "markdown",
   "metadata": {},
   "source": [
    "So when capacity gets up to 1,999,782 units, the final item can be added, which means that's the total weight of all items packed optimally."
   ]
  },
  {
   "cell_type": "markdown",
   "metadata": {},
   "source": [
    "### That's all correct, but takes 4 minutes to run, thanks to 2M rows, 1 for each unit of weight.  And it involves too much art.  Work on finding a more solid, faster solution."
   ]
  },
  {
   "cell_type": "code",
   "execution_count": null,
   "metadata": {
    "collapsed": true
   },
   "outputs": [],
   "source": []
  }
 ],
 "metadata": {
  "kernelspec": {
   "display_name": "Python 3",
   "language": "python",
   "name": "python3"
  },
  "language_info": {
   "codemirror_mode": {
    "name": "ipython",
    "version": 3
   },
   "file_extension": ".py",
   "mimetype": "text/x-python",
   "name": "python",
   "nbconvert_exporter": "python",
   "pygments_lexer": "ipython3",
   "version": "3.6.0"
  }
 },
 "nbformat": 4,
 "nbformat_minor": 2
}
