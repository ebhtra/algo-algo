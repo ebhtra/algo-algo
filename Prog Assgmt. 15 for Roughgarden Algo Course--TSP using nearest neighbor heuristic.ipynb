{
 "cells": [
  {
   "cell_type": "code",
   "execution_count": 1,
   "metadata": {
    "collapsed": true
   },
   "outputs": [],
   "source": [
    "## get the \"cities\" into the notebook\n",
    "with open(\"Downloads/algo2_TSP_nn.txt\") as f:\n",
    "    numCities = f.readline()\n",
    "    locs = f.readlines()"
   ]
  },
  {
   "cell_type": "code",
   "execution_count": 2,
   "metadata": {
    "collapsed": false
   },
   "outputs": [
    {
     "data": {
      "text/plain": [
       "'33708\\n'"
      ]
     },
     "execution_count": 2,
     "metadata": {},
     "output_type": "execute_result"
    }
   ],
   "source": [
    "numCities"
   ]
  },
  {
   "cell_type": "code",
   "execution_count": 4,
   "metadata": {
    "collapsed": false
   },
   "outputs": [
    {
     "data": {
      "text/plain": [
       "33708"
      ]
     },
     "execution_count": 4,
     "metadata": {},
     "output_type": "execute_result"
    }
   ],
   "source": [
    "n = int(numCities.strip('\\n'))\n",
    "n"
   ]
  },
  {
   "cell_type": "code",
   "execution_count": 5,
   "metadata": {
    "collapsed": false
   },
   "outputs": [
    {
     "data": {
      "text/plain": [
       "'1 9983.3333 98550.0000\\n'"
      ]
     },
     "execution_count": 5,
     "metadata": {},
     "output_type": "execute_result"
    }
   ],
   "source": [
    "locs[0]  ## City number, x coord, y coord"
   ]
  },
  {
   "cell_type": "code",
   "execution_count": 6,
   "metadata": {
    "collapsed": false
   },
   "outputs": [
    {
     "data": {
      "text/plain": [
       "33708"
      ]
     },
     "execution_count": 6,
     "metadata": {},
     "output_type": "execute_result"
    }
   ],
   "source": [
    "len(locs)"
   ]
  },
  {
   "cell_type": "code",
   "execution_count": 8,
   "metadata": {
    "collapsed": false
   },
   "outputs": [
    {
     "data": {
      "text/plain": [
       "'33708 28166.6667 97683.3333\\n'"
      ]
     },
     "execution_count": 8,
     "metadata": {},
     "output_type": "execute_result"
    }
   ],
   "source": [
    "locs[-1]  ## so all cities are labelled consecutively"
   ]
  },
  {
   "cell_type": "code",
   "execution_count": 9,
   "metadata": {
    "collapsed": true
   },
   "outputs": [],
   "source": [
    "coords = [(float(c[1]), float(c[2])) for c in [line.strip('\\n').split() for line in locs]]"
   ]
  },
  {
   "cell_type": "code",
   "execution_count": 10,
   "metadata": {
    "collapsed": false
   },
   "outputs": [
    {
     "data": {
      "text/plain": [
       "(9983.3333, 98550.0)"
      ]
     },
     "execution_count": 10,
     "metadata": {},
     "output_type": "execute_result"
    }
   ],
   "source": [
    "coords[0]"
   ]
  },
  {
   "cell_type": "markdown",
   "metadata": {},
   "source": [
    "You should implement the nearest neighbor heuristic:\n",
    "\n",
    "Start the tour at the first city.\n",
    "Repeatedly visit the closest city that the tour hasn't visited yet. In case of a tie, go to the closest city with the lowest index. For example, if both the third and fifth cities have the same distance from the first city (and are closer than any other city), then the tour should begin by going from the first city to the third city.\n",
    "Once every city has been visited exactly once, return to the first city to complete the tour.\n"
   ]
  },
  {
   "cell_type": "code",
   "execution_count": 17,
   "metadata": {
    "collapsed": true
   },
   "outputs": [],
   "source": [
    "## Quick routine to check distances to all unvisited cities from most recently visited one\n",
    "import math\n",
    "\n",
    "def findNearest(fromCity, visitedSet, coordList):\n",
    "    dists = [float('inf') for _ in range(len(coordList))] \n",
    "    for i in range(len(coordList)):\n",
    "        if i not in visitedSet:\n",
    "            dists[i] = math.sqrt((coordList[fromCity][0] - coordList[i][0])**2 + \n",
    "                                 (coordList[fromCity][1] - coordList[i][1])**2)\n",
    "    nearestDist = min(dists)\n",
    "    return dists.index(nearestDist), nearestDist"
   ]
  },
  {
   "cell_type": "code",
   "execution_count": 21,
   "metadata": {
    "collapsed": false
   },
   "outputs": [],
   "source": [
    "## Run the routine on the input\n",
    "start = 0  ## begin at city '0', as directed, and start adding closest cities\n",
    "visited = {start}\n",
    "at = start  ## keep track of most recently visited city\n",
    "dist = 0  ## will return this running total of distance travelled\n",
    "for _ in range(n-1):   ##  add n-1 cities to the path\n",
    "    c,d = findNearest(at, visited, coords)\n",
    "    at = c\n",
    "    dist += d\n",
    "    visited.add(c)\n",
    "dist += math.sqrt((coords[at][0] - coords[start][0])**2 + (coords[at][1] - coords[start][1])**2)  ## tack on last leg\n"
   ]
  },
  {
   "cell_type": "code",
   "execution_count": 22,
   "metadata": {
    "collapsed": false
   },
   "outputs": [
    {
     "data": {
      "text/plain": [
       "1203406.5012708856"
      ]
     },
     "execution_count": 22,
     "metadata": {},
     "output_type": "execute_result"
    }
   ],
   "source": [
    "dist"
   ]
  },
  {
   "cell_type": "code",
   "execution_count": null,
   "metadata": {
    "collapsed": true
   },
   "outputs": [],
   "source": []
  }
 ],
 "metadata": {
  "kernelspec": {
   "display_name": "Python 3",
   "language": "python",
   "name": "python3"
  },
  "language_info": {
   "codemirror_mode": {
    "name": "ipython",
    "version": 3
   },
   "file_extension": ".py",
   "mimetype": "text/x-python",
   "name": "python",
   "nbconvert_exporter": "python",
   "pygments_lexer": "ipython3",
   "version": "3.6.0"
  }
 },
 "nbformat": 4,
 "nbformat_minor": 2
}
